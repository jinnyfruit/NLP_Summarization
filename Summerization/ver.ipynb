{
 "cells": [
  {
   "cell_type": "code",
   "execution_count": 35,
   "metadata": {},
   "outputs": [],
   "source": [
    "from typing import List\n",
    "from konlpy.tag import Okt\n",
    "\n",
    "class OktTokenizer:\n",
    "    okt: Okt = Okt()\n",
    "\n",
    "    def __call__(self, text: str) -> List[str]:\n",
    "        tokens: List[str] = self.okt.pos(text, norm=True, stem=True, join=True)\n",
    "        return tokens"
   ]
  },
  {
   "cell_type": "code",
   "execution_count": 23,
   "metadata": {},
   "outputs": [],
   "source": [
    "from typing import List\n",
    "\n",
    "class MyTokenizer:\n",
    "    def __call__(self, text: str) -> List[str]:\n",
    "        tokens: List[str] = text.split()\n",
    "        return tokens"
   ]
  },
  {
   "cell_type": "code",
   "execution_count": 21,
   "metadata": {},
   "outputs": [],
   "source": [
    "# from tokenizers import BertWordPieceTokenizer\n",
    "# class MyTokenizer:\n",
    "    \n",
    "#     def __call__(self, text: str) -> List[str]:\n",
    "#         tokenizer = BertWordPieceTokenizer(lowercase=False, trip_accents=False)\n",
    "#         encoded = tokenizer.encode(text)\n",
    "#         tokens: List[str] = encoded.tokens\n",
    "#         return tokens"
   ]
  },
  {
   "cell_type": "code",
   "execution_count": 30,
   "metadata": {},
   "outputs": [],
   "source": [
    "text = \"한파 특보가 내려진 30일 오전 8시20분께 서울 지하철 4호선 삼각지역 승강장. 시민들은 갑작스럽게 불어닥친 추위에 몸을 잔뜩 웅크린 채 역 안으로 들어섰다. 이날부터 서울교통공사 노조가 파업에 돌입하면서 열차 운행이 지연되지는 않을까 종종걸음으로 출근길을 서두르는 모습이었다. 더군다나 이곳에선 전국장애인차별철폐연대(전장연)의 시위까지 벌어졌다. 약 1년째 지하철 굴근길 시위를 이어온 전장연이지만 이날 강추위에 지하철 파업까지 겹치면서 시민들은 직장이나 학교에 늦을까봐 걱정스러운 표정으로 시위대 앞을 지나쳤다. 이날 전장연은 장애인 권리 예산 확보를 위한 선전전을 진행하며 삭발까지 감행했지만 대다수 시민은 눈길을 주지 않고 휴대폰을 보며 빠르게 걸어가거나, 이를 피해 빙 돌아가는 등 무관심한 모습이 이어졌다.\""
   ]
  },
  {
   "cell_type": "code",
   "execution_count": 36,
   "metadata": {},
   "outputs": [
    {
     "ename": "TypeError",
     "evalue": "'str' object is not callable",
     "output_type": "error",
     "traceback": [
      "\u001b[0;31m---------------------------------------------------------------------------\u001b[0m",
      "\u001b[0;31mTypeError\u001b[0m                                 Traceback (most recent call last)",
      "\u001b[1;32m/home/nlplab/Devlopment/2022_korean_AI/JiWoo/Summerization/test.ipynb 셀 5\u001b[0m in \u001b[0;36m<cell line: 16>\u001b[0;34m()\u001b[0m\n\u001b[1;32m     <a href='vscode-notebook-cell://ssh-remote%2B210.102.178.65/home/nlplab/Devlopment/2022_korean_AI/JiWoo/Summerization/test.ipynb#W2sdnNjb2RlLXJlbW90ZQ%3D%3D?line=13'>14</a>\u001b[0m text \u001b[39m=\u001b[39m \u001b[39m\"\u001b[39m\u001b[39m한파 특보가 내려진 30일 오전 8시20분께 서울 지하철 4호선 삼각지역 승강장. 시민들은 갑작스럽게 불어닥친 추위에 몸을 잔뜩 웅크린 채 역 안으로 들어섰다. 이날부터 서울교통공사 노조가 파업에 돌입하면서 열차 운행이 지연되지는 않을까 종종걸음으로 출근길을 서두르는 모습이었다. 더군다나 이곳에선 전국장애인차별철폐연대(전장연)의 시위까지 벌어졌다. 약 1년째 지하철 굴근길 시위를 이어온 전장연이지만 이날 강추위에 지하철 파업까지 겹치면서 시민들은 직장이나 학교에 늦을까봐 걱정스러운 표정으로 시위대 앞을 지나쳤다. 이날 전장연은 장애인 권리 예산 확보를 위한 선전전을 진행하며 삭발까지 감행했지만 대다수 시민은 눈길을 주지 않고 휴대폰을 보며 빠르게 걸어가거나, 이를 피해 빙 돌아가는 등 무관심한 모습이 이어졌다.\u001b[39m\u001b[39m\"\u001b[39m\n\u001b[1;32m     <a href='vscode-notebook-cell://ssh-remote%2B210.102.178.65/home/nlplab/Devlopment/2022_korean_AI/JiWoo/Summerization/test.ipynb#W2sdnNjb2RlLXJlbW90ZQ%3D%3D?line=14'>15</a>\u001b[0m \u001b[39m# 2. summarize (like, pre-computation)\u001b[39;00m\n\u001b[0;32m---> <a href='vscode-notebook-cell://ssh-remote%2B210.102.178.65/home/nlplab/Devlopment/2022_korean_AI/JiWoo/Summerization/test.ipynb#W2sdnNjb2RlLXJlbW90ZQ%3D%3D?line=15'>16</a>\u001b[0m lexrank\u001b[39m.\u001b[39;49msummarize(test_text2)\n\u001b[1;32m     <a href='vscode-notebook-cell://ssh-remote%2B210.102.178.65/home/nlplab/Devlopment/2022_korean_AI/JiWoo/Summerization/test.ipynb#W2sdnNjb2RlLXJlbW90ZQ%3D%3D?line=16'>17</a>\u001b[0m \u001b[39m# 3. probe (like, query-time)\u001b[39;00m\n\u001b[1;32m     <a href='vscode-notebook-cell://ssh-remote%2B210.102.178.65/home/nlplab/Devlopment/2022_korean_AI/JiWoo/Summerization/test.ipynb#W2sdnNjb2RlLXJlbW90ZQ%3D%3D?line=17'>18</a>\u001b[0m summaries: List[\u001b[39mstr\u001b[39m] \u001b[39m=\u001b[39m lexrank\u001b[39m.\u001b[39mprobe()\n",
      "File \u001b[0;32m~/anaconda3/envs/jiwoo/lib/python3.10/site-packages/lexrankr/lexrankr.py:167\u001b[0m, in \u001b[0;36mLexRank.summarize\u001b[0;34m(self, text, no_below, no_above, max_size)\u001b[0m\n\u001b[1;32m    164\u001b[0m \u001b[39mself\u001b[39m\u001b[39m.\u001b[39mmax_size: \u001b[39mint\u001b[39m \u001b[39m=\u001b[39m max_size\n\u001b[1;32m    166\u001b[0m \u001b[39m# parse text into sentences\u001b[39;00m\n\u001b[0;32m--> 167\u001b[0m \u001b[39mself\u001b[39m\u001b[39m.\u001b[39msentences: List[Sentence] \u001b[39m=\u001b[39m parse_text_into_sentences(text, \u001b[39mself\u001b[39;49m\u001b[39m.\u001b[39;49mtokenizer)\n\u001b[1;32m    168\u001b[0m \u001b[39mself\u001b[39m\u001b[39m.\u001b[39mnum_sentences: \u001b[39mint\u001b[39m \u001b[39m=\u001b[39m \u001b[39mlen\u001b[39m(\u001b[39mself\u001b[39m\u001b[39m.\u001b[39msentences)\n\u001b[1;32m    170\u001b[0m \u001b[39m# preprocess sentences\u001b[39;00m\n",
      "File \u001b[0;32m~/anaconda3/envs/jiwoo/lib/python3.10/site-packages/lexrankr/utils.py:43\u001b[0m, in \u001b[0;36mparse_text_into_sentences\u001b[0;34m(text, tokenizer, min_num_tokens)\u001b[0m\n\u001b[1;32m     40\u001b[0m     \u001b[39mcontinue\u001b[39;00m\n\u001b[1;32m     42\u001b[0m \u001b[39m# tokenize the candidate\u001b[39;00m\n\u001b[0;32m---> 43\u001b[0m tokens: List[\u001b[39mstr\u001b[39m] \u001b[39m=\u001b[39m tokenizer(candidate_stripped)\n\u001b[1;32m     44\u001b[0m \u001b[39mif\u001b[39;00m \u001b[39mlen\u001b[39m(tokens) \u001b[39m<\u001b[39m min_num_tokens:\n\u001b[1;32m     45\u001b[0m     \u001b[39mcontinue\u001b[39;00m\n",
      "\u001b[0;31mTypeError\u001b[0m: 'str' object is not callable"
     ]
    }
   ],
   "source": [
    "from typing import List\n",
    "from lexrankr import LexRank\n",
    "from transformers import BertTokenizer\n",
    "\n",
    "# 1. init\n",
    "#mytokenizer: MyTokenizer = MyTokenizer()\n",
    "\n",
    "mytokenizer: MyTokenizer = OktTokenizer()\n",
    "lexrank: LexRank = LexRank(text)\n",
    "\n",
    "test_text1= \"I met my friend today. I ate pizza and drank beer with my friend. My friend and I ate and went to a board game cafe. We played Halli Galli there and it was very fun.\"\n",
    "test_text2 = \"Microsoft에서는 학습과 이해에 대해 보다 전체적이고 인간 중심적인 접근 방식을 취함으로써 기존 기술을 넘어 AI를 발전시키기 위한 탐구를 해왔습니다. Azure AI Cognitive Services의 최고 기술 책임자로서, 퀘스트를 현실로 전환하기 위해 뛰어난 과학자 및 엔지니어 팀과 협력하고 있습니다. 제 역할에서 저는 인간 인지의 세 가지 특성, 즉 단일 언어 텍스트(X), 청각 또는 시각 감각 신호(Y) 및 다국어(Z) 간의 관계를 보는 고유한 관점을 활용합니다. 세 가지가 모두 교차하는 지점에는 그림 1에 나와 있는 바와 같이 XYZ-코드라고 하는 매직이 있습니다. 인간보다 더 잘 말하고, 듣고, 보고, 이해할 수 있는 강력한 AI를 만드는 공동 표현입니다. XYZ-코드를 통해 장기적인 비전(도메인 간 전이 학습, 형식 및 언어 확장)을 수행할 수 있습니다. 목표는 오늘날 인간이 하는 것처럼 광범위한 다운스트림 AI 작업을 지원하기 위해 표현을 공동으로 학습할 수 있는 미리 학습된 모델을 보유하는 것입니다. 지난 5년간 대화형 음성 인식, 기계 번역, 대화형 질문 답변, 기계 판독값 이해 및 이미지 자막의 벤치마크에서 인간의 성과를 달성했습니다. 이러한 5가지 혁신은 인간이 학습하고 이해하는 방식에 더 가까운 다감각적이고 다국어 학습을 달성하기 위한 AI 기능의 도약을 이루고자 하는 원대한 열망에 대한 강력한 신호를 제공했습니다. 저는 다운스트림 AI 작업에서 외부 기술 자료를 기반으로 한 경우에는 공동 XYZ- 코드가 이러한 열망의 기본 구성 요소라고 생각합니다\"\n",
    "test_text3 = \"Christopher Massimine is trying not to lie. He’s trying not to lie when his wife asks him whether he has sorted the recycling, or when his mother-in-law’s friend Mary Ann asks whether he liked the baked appetizers she brought over. He’s trying not to lie to his therapist, who has him on a regimen of cognitive behavioral therapy to help him stop lying. And he’s trying not to lie to me, a reporter who has come to interview him about how a lifetime of lying caught up with him. This effort began around 15 months ago, when Mr. Massimine resigned from his job as managing director of the Pioneer Theater Company in Salt Lake City after a local journalist reported that he had embellished his résumé with untrue claims. The résumé, it turned out, was the tip of the iceberg. Over the course of many years, he has since acknowledged, he lied prolifically and elaborately, sometimes without any discernible purpose.\"\n",
    "text = \"한파 특보가 내려진 30일 오전 8시20분께 서울 지하철 4호선 삼각지역 승강장. 시민들은 갑작스럽게 불어닥친 추위에 몸을 잔뜩 웅크린 채 역 안으로 들어섰다. 이날부터 서울교통공사 노조가 파업에 돌입하면서 열차 운행이 지연되지는 않을까 종종걸음으로 출근길을 서두르는 모습이었다. 더군다나 이곳에선 전국장애인차별철폐연대(전장연)의 시위까지 벌어졌다. 약 1년째 지하철 굴근길 시위를 이어온 전장연이지만 이날 강추위에 지하철 파업까지 겹치면서 시민들은 직장이나 학교에 늦을까봐 걱정스러운 표정으로 시위대 앞을 지나쳤다. 이날 전장연은 장애인 권리 예산 확보를 위한 선전전을 진행하며 삭발까지 감행했지만 대다수 시민은 눈길을 주지 않고 휴대폰을 보며 빠르게 걸어가거나, 이를 피해 빙 돌아가는 등 무관심한 모습이 이어졌다.\"\n",
    "# 2. summarize (like, pre-computation)\n",
    "lexrank.summarize(test_text2)\n",
    "# 3. probe (like, query-time)\n",
    "summaries: List[str] = lexrank.probe()\n",
    "for summary in summaries:\n",
    "    print(summary)"
   ]
  }
 ],
 "metadata": {
  "kernelspec": {
   "display_name": "Python 3.10.4 ('jiwoo')",
   "language": "python",
   "name": "python3"
  },
  "language_info": {
   "codemirror_mode": {
    "name": "ipython",
    "version": 3
   },
   "file_extension": ".py",
   "mimetype": "text/x-python",
   "name": "python",
   "nbconvert_exporter": "python",
   "pygments_lexer": "ipython3",
   "version": "3.10.4"
  },
  "orig_nbformat": 4,
  "vscode": {
   "interpreter": {
    "hash": "a9950ac177dc6022207e24da58b78c1c79b57128f1efd0f07d71daa259b80040"
   }
  }
 },
 "nbformat": 4,
 "nbformat_minor": 2
}
