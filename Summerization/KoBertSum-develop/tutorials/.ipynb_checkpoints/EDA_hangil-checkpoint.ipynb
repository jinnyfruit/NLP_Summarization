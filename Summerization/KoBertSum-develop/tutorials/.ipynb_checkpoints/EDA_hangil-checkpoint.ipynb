{
 "cells": [
  {
   "cell_type": "markdown",
   "metadata": {
    "id": "VWtbx53R6fL5"
   },
   "source": [
    "# Import"
   ]
  },
  {
   "cell_type": "markdown",
   "metadata": {
    "id": "1jnR5s1BKCDF"
   },
   "source": [
    "## Import library"
   ]
  },
  {
   "cell_type": "code",
   "execution_count": 1,
   "metadata": {
    "colab": {
     "base_uri": "https://localhost:8080/"
    },
    "id": "JwJV7t0eL_rM",
    "outputId": "46ab045b-04e9-4d7d-90c4-551f6ca7aa49"
   },
   "outputs": [],
   "source": [
    "# # colab\n",
    "# from google.colab import drive\n",
    "# drive.mount('/content/drive')\n",
    "# PROJECT_ID = \"/Projects/202011_DACON_Summarization\""
   ]
  },
  {
   "cell_type": "code",
   "execution_count": 1,
   "metadata": {},
   "outputs": [
    {
     "name": "stdout",
     "output_type": "stream",
     "text": [
      "/home/uoneway/Project/PreSumm_ko/notebooks\r\n"
     ]
    }
   ],
   "source": [
    " !pwdjj"
   ]
  },
  {
   "cell_type": "code",
   "execution_count": 2,
   "metadata": {
    "id": "FsSBe6q-L_rN"
   },
   "outputs": [],
   "source": [
    "ROOT_DIR = "
   ]
  },
  {
   "cell_type": "code",
   "execution_count": 3,
   "metadata": {
    "colab": {
     "base_uri": "https://localhost:8080/"
    },
    "id": "CKTFg7fYL_rN",
    "outputId": "7436414f-ced3-4e79-a008-17a039ab0a6b"
   },
   "outputs": [
    {
     "name": "stdout",
     "output_type": "stream",
     "text": [
      "jupyter envirionment\n"
     ]
    }
   ],
   "source": [
    "import warnings\n",
    "import seaborn as sns\n",
    "import numpy as np\n",
    "import pandas as pd\n",
    "import os\n",
    "import json\n",
    "\n",
    "import matplotlib.pyplot as plt\n",
    "%matplotlib inline\n",
    "sns.set(style='white', context='notebook', palette='deep')\n",
    "\n",
    "warnings.filterwarnings(action='ignore')\n",
    "\n",
    "if get_ipython():\n",
    "    print(\"jupyter envirionment\")\n",
    "    from tqdm import tqdm_notebook as tqdm  # 이거 안해주면 한 줄씩 출력됨 ;;\n",
    "else:\n",
    "    print(\"command shell envirionment\")\n",
    "    from tqdm import tqdm"
   ]
  },
  {
   "cell_type": "code",
   "execution_count": 7,
   "metadata": {
    "id": "ITLJZh81pEi8"
   },
   "outputs": [],
   "source": [
    "PROJECT_DIR = '/home/uoneway/Project/PreSumm_ko'\n",
    "DATA_DIR = PROJECT_DIR + '/data'"
   ]
  },
  {
   "cell_type": "code",
   "execution_count": 4,
   "metadata": {
    "id": "fLLP2Ek9_t9W"
   },
   "outputs": [],
   "source": []
  },
  {
   "cell_type": "markdown",
   "metadata": {
    "id": "9upenviH_t9W"
   },
   "source": [
    "## Import data"
   ]
  },
  {
   "cell_type": "markdown",
   "metadata": {
    "id": "Im9scxUeYFn2"
   },
   "source": [
    "생성요약과 추출요약 데이터 값이나 수는 동일\n",
    "(다만ID가 다르다는 얘기가 있음)"
   ]
  },
  {
   "cell_type": "code",
   "execution_count": 5,
   "metadata": {
    "colab": {
     "base_uri": "https://localhost:8080/",
     "height": 419
    },
    "id": "YMd_6EuCAuuF",
    "outputId": "bfe9cb43-9a56-4873-f932-c69c476e8f04"
   },
   "outputs": [
    {
     "data": {
      "text/html": [
       "<div>\n",
       "<style scoped>\n",
       "    .dataframe tbody tr th:only-of-type {\n",
       "        vertical-align: middle;\n",
       "    }\n",
       "\n",
       "    .dataframe tbody tr th {\n",
       "        vertical-align: top;\n",
       "    }\n",
       "\n",
       "    .dataframe thead th {\n",
       "        text-align: right;\n",
       "    }\n",
       "</style>\n",
       "<table border=\"1\" class=\"dataframe\">\n",
       "  <thead>\n",
       "    <tr style=\"text-align: right;\">\n",
       "      <th></th>\n",
       "      <th>media</th>\n",
       "      <th>id</th>\n",
       "      <th>article_original</th>\n",
       "      <th>abstractive</th>\n",
       "      <th>extractive</th>\n",
       "    </tr>\n",
       "  </thead>\n",
       "  <tbody>\n",
       "    <tr>\n",
       "      <th>0</th>\n",
       "      <td>당진시대</td>\n",
       "      <td>327827480</td>\n",
       "      <td>[당진시 문화관광과를 대상으로 하는 행정사무감사에서 당진시립합창단 관계자가 보낸 것...</td>\n",
       "      <td>지난 6일 당진시의회 행정사무감사에서 '합창단이 소리를 작게 낼 것이니 알고 있으라...</td>\n",
       "      <td>[0, 1, 2]</td>\n",
       "    </tr>\n",
       "    <tr>\n",
       "      <th>1</th>\n",
       "      <td>국제신문</td>\n",
       "      <td>339840364</td>\n",
       "      <td>[미국 메이저리그(MLB)에서 활동하는 한국 선수들의 시즌 초반 희비가 엇갈리고 있...</td>\n",
       "      <td>LA 에인절스의 최지만이 맹활약을 하여 시즌 타율 0.250에서 0.313으로 올리...</td>\n",
       "      <td>[0, 1, 3]</td>\n",
       "    </tr>\n",
       "    <tr>\n",
       "      <th>2</th>\n",
       "      <td>기호일보</td>\n",
       "      <td>371071597</td>\n",
       "      <td>[인천 부영공원 운영 생활야구협회 80여 동호회 팀에 260만 원씩 받아, 국유지로...</td>\n",
       "      <td>16일 부평구와 협회 등에 따르면 부영공원 안에 있는 야구장을 구생활체육야구협회가 ...</td>\n",
       "      <td>[6, 7, 10]</td>\n",
       "    </tr>\n",
       "    <tr>\n",
       "      <th>3</th>\n",
       "      <td>대구일보</td>\n",
       "      <td>354806783</td>\n",
       "      <td>[대구·경북첨단의료산업진흥재단 의약생산센터는 항암주사제 무균충전 시설을 갖추고 있다...</td>\n",
       "      <td>대구·경북첨단의료산업진흥재단 의약생산센터는 약사법 시행규칙에서 정한 바에 따라 전용...</td>\n",
       "      <td>[1, 6, 4]</td>\n",
       "    </tr>\n",
       "    <tr>\n",
       "      <th>4</th>\n",
       "      <td>대구신문</td>\n",
       "      <td>347022773</td>\n",
       "      <td>[국내 유통되는 탄산음료 중 식품의약품안전처에 품질인증을 받은 제품이 하나도 없는 ...</td>\n",
       "      <td>식품의약품안전처는 29일 어린이가 즐겨마시는 음료를 대상으로 영양성분을 조사한 결과...</td>\n",
       "      <td>[2, 3, 10]</td>\n",
       "    </tr>\n",
       "    <tr>\n",
       "      <th>...</th>\n",
       "      <td>...</td>\n",
       "      <td>...</td>\n",
       "      <td>...</td>\n",
       "      <td>...</td>\n",
       "      <td>...</td>\n",
       "    </tr>\n",
       "    <tr>\n",
       "      <th>42798</th>\n",
       "      <td>대구신문</td>\n",
       "      <td>334074661</td>\n",
       "      <td>[칠곡북삼초등학교(교장 서금자)에서는 지난달 7일부터 18일까지 3-5학년 학생 중...</td>\n",
       "      <td>지난달 7일부터 18일까지 칠곡북삼초등학교는 학생들에게 실제 영어 사용에 대한 자신...</td>\n",
       "      <td>[0, 1, 2]</td>\n",
       "    </tr>\n",
       "    <tr>\n",
       "      <th>42799</th>\n",
       "      <td>대구일보</td>\n",
       "      <td>362902654</td>\n",
       "      <td>[김상훈 의원, 최근 5년간, LH공공임대 임차인이 사망했으나 상속되거나 반환되지 ...</td>\n",
       "      <td>김상훈 자유한국당 의원은 최근 5년간 임차인의 사망으로 반환되지 못한 3천479가구...</td>\n",
       "      <td>[1, 2, 4]</td>\n",
       "    </tr>\n",
       "    <tr>\n",
       "      <th>42800</th>\n",
       "      <td>기호일보</td>\n",
       "      <td>355310553</td>\n",
       "      <td>[▲ 5일 오전 파주 임진각에서 열린 ‘DMZ 155마일 걷기’ 출정식에서 걷기대원...</td>\n",
       "      <td>경기도는  DMZ의 의미와 평화에 관한 국민들의 인식을 새롭게 하고자  'DMZ 1...</td>\n",
       "      <td>[2, 3, 6]</td>\n",
       "    </tr>\n",
       "    <tr>\n",
       "      <th>42801</th>\n",
       "      <td>당진시대</td>\n",
       "      <td>288844233</td>\n",
       "      <td>[당진지역 휘발유 평균 가격은 1534원, 경유 평균가격은 1343원으로 조사됐다....</td>\n",
       "      <td>지난 14일 기준 당진지역 휘발유 중 가장 저렴한 곳의 가격은 AJ토탈(주)당진주유...</td>\n",
       "      <td>[4, 6, 0]</td>\n",
       "    </tr>\n",
       "    <tr>\n",
       "      <th>42802</th>\n",
       "      <td>대전일보</td>\n",
       "      <td>337237901</td>\n",
       "      <td>[양승조 충남도지사는 12일 대기오염물질 배출 주요 사업장인 현대제철㈜ 당진공장을 ...</td>\n",
       "      <td>양승조 충남도지사는 12일 대기오염물질 배출 주요 사업장인 현대제철㈜ 당진공장에서 ...</td>\n",
       "      <td>[2, 5, 4]</td>\n",
       "    </tr>\n",
       "  </tbody>\n",
       "</table>\n",
       "<p>42803 rows × 5 columns</p>\n",
       "</div>"
      ],
      "text/plain": [
       "      media  ...  extractive\n",
       "0      당진시대  ...   [0, 1, 2]\n",
       "1      국제신문  ...   [0, 1, 3]\n",
       "2      기호일보  ...  [6, 7, 10]\n",
       "3      대구일보  ...   [1, 6, 4]\n",
       "4      대구신문  ...  [2, 3, 10]\n",
       "...     ...  ...         ...\n",
       "42798  대구신문  ...   [0, 1, 2]\n",
       "42799  대구일보  ...   [1, 2, 4]\n",
       "42800  기호일보  ...   [2, 3, 6]\n",
       "42801  당진시대  ...   [4, 6, 0]\n",
       "42802  대전일보  ...   [2, 5, 4]\n",
       "\n",
       "[42803 rows x 5 columns]"
      ]
     },
     "execution_count": 5,
     "metadata": {
      "tags": []
     },
     "output_type": "execute_result"
    }
   ],
   "source": [
    "with open(RAW_DATA_DIR + '/ext/train.jsonl', 'r') as json_file:\n",
    "    json_list = list(json_file)\n",
    "\n",
    "trains = []\n",
    "for json_str in json_list:\n",
    "    line = json.loads(json_str)\n",
    "    trains.append(line)\n",
    "\n",
    "train_df = pd.DataFrame(trains)\n",
    "train_df"
   ]
  },
  {
   "cell_type": "code",
   "execution_count": 6,
   "metadata": {
    "colab": {
     "base_uri": "https://localhost:8080/",
     "height": 94
    },
    "id": "aae6SLGodYDD",
    "outputId": "e536b2a2-5115-4b81-b483-13830bf88f65"
   },
   "outputs": [
    {
     "data": {
      "text/html": [
       "<div>\n",
       "<style scoped>\n",
       "    .dataframe tbody tr th:only-of-type {\n",
       "        vertical-align: middle;\n",
       "    }\n",
       "\n",
       "    .dataframe tbody tr th {\n",
       "        vertical-align: top;\n",
       "    }\n",
       "\n",
       "    .dataframe thead th {\n",
       "        text-align: right;\n",
       "    }\n",
       "</style>\n",
       "<table border=\"1\" class=\"dataframe\">\n",
       "  <thead>\n",
       "    <tr style=\"text-align: right;\">\n",
       "      <th></th>\n",
       "      <th>media</th>\n",
       "      <th>id</th>\n",
       "      <th>article_original</th>\n",
       "      <th>abstractive</th>\n",
       "      <th>extractive</th>\n",
       "    </tr>\n",
       "  </thead>\n",
       "  <tbody>\n",
       "    <tr>\n",
       "      <th>11098</th>\n",
       "      <td>광주매일신문</td>\n",
       "      <td>350429132</td>\n",
       "      <td>[광주시가 전라도 정도(定道) 천년을 기념해 조선 시대 누각으로 19세기까지 실존했...</td>\n",
       "      <td>광주시는 고증을 통해 희경루를 중건할 계획이다. 희경루는 7월 중 토지매입을 완료하...</td>\n",
       "      <td>[0, 6, 8]</td>\n",
       "    </tr>\n",
       "  </tbody>\n",
       "</table>\n",
       "</div>"
      ],
      "text/plain": [
       "        media  ... extractive\n",
       "11098  광주매일신문  ...  [0, 6, 8]\n",
       "\n",
       "[1 rows x 5 columns]"
      ]
     },
     "execution_count": 6,
     "metadata": {
      "tags": []
     },
     "output_type": "execute_result"
    }
   ],
   "source": [
    "train_df[train_df['id'] == '350429132']"
   ]
  },
  {
   "cell_type": "markdown",
   "metadata": {
    "id": "pBUHUc7SXDjV"
   },
   "source": [
    "# EDA"
   ]
  },
  {
   "cell_type": "code",
   "execution_count": 7,
   "metadata": {
    "colab": {
     "base_uri": "https://localhost:8080/"
    },
    "id": "_2kUAa6UILa3",
    "outputId": "5a429601-80a1-42c0-ee2a-647ec4c391da"
   },
   "outputs": [
    {
     "data": {
      "text/plain": [
       "기호일보      7166\n",
       "국제신문      6678\n",
       "대전일보      4831\n",
       "광주일보      4155\n",
       "남도일보      4148\n",
       "광주매일신문    3783\n",
       "대구신문      3750\n",
       "대구일보      3060\n",
       "경기일보      2319\n",
       "당진시대      2014\n",
       "광양신문       899\n",
       "Name: media, dtype: int64"
      ]
     },
     "execution_count": 7,
     "metadata": {
      "tags": []
     },
     "output_type": "execute_result"
    }
   ],
   "source": [
    "train_df['media'].value_counts()"
   ]
  },
  {
   "cell_type": "markdown",
   "metadata": {
    "id": "CHONPoyXY1EF"
   },
   "source": [
    "## article_original"
   ]
  },
  {
   "cell_type": "code",
   "execution_count": null,
   "metadata": {
    "colab": {
     "base_uri": "https://localhost:8080/"
    },
    "id": "DNZvyOQRSROR",
    "outputId": "78aa8d85-5499-4356-8e8c-91ad94b63b4b"
   },
   "outputs": [
    {
     "data": {
      "text/plain": [
       "['미국 메이저리그(MLB)에서 활동하는 한국 선수들의 시즌 초반 희비가 엇갈리고 있다.',\n",
       " 'LA 에인절스의 최지만은 맹활약으로 주전 입지를 굳혀가는 반면 텍사스 레인저스의 추신수는 개막전 선발에서 밀려나는 수모를 당한 뒤에서도 좀처럼 반등을 하지 못하고 있다.',\n",
       " '최지만은 2일(한국시간) 미국 플로리다주 세인트피터즈버그 트로피카나 필드에서 열린 2019 미국프로야구 메이저리그 콜로라도 로키스와 홈경기에 3번 타자 1루수로 선발 출전해 4타수 2안타를 치고 1득점을 올렸다.',\n",
       " '시즌 타율은 0.250에서 0.313(16타수 5안타)로 올랐다.',\n",
       " '최지만은 개막전에서 4타수 무안타로 침묵했으나 이후 3경기 연속 안타이자 2경기 연속 멀티 히트를 뽑아내며 입지를 굳혀갔다.',\n",
       " '2016년 LA 에인절스 소속으로 메이저리그에 데뷔한 최지만이 2경기 연속 멀티 히트를 친 것은 이번이 처음이다.',\n",
       " '스코어가 벌어진 탓에 콜로라도 불펜의 필승조인 오승환과 최지만의 맞대결은 성사되지 않았다.',\n",
       " '추신수는 들쭉날쭉한 출전 일정 탓인지 타격감을 찾지 못하고 있다.',\n",
       " '추신수는 이날 텍사스주 알링턴 글로브 라이프 파크에서 열린 휴스턴 애스트로스와 홈경기에 1번 지명타자로 선발 출전했지만 4타수 무안타로 침묵했다.',\n",
       " '시즌 타율은 0.167에서 0.100(10타수 1안타)로 떨어졌다.',\n",
       " '추신수는 11년 만에 개막전 선발 라인업에서 제외되는 등 이날까지 텍사스가 치른 4경기 가운데 2경기에만 선발 출전했다.',\n",
       " '크리스 우드워드 텍사스 감독은 상대 선발이 좌완이면 좌타자인 추신수 대신 우타자인 헌터 펜스를 선발 지명타자로 기용하고 있다.',\n",
       " '텍사스(2승 2패)는 휴스턴 마운드에 2안타로 꽁꽁 묶이며 1-2로 패해 2연승 행진을 마감했다.',\n",
       " '한편 피츠버그 파이리츠의 강정호는 914일 만에 홈경기에 나섰지만 안타를 만들어내지 못했다.',\n",
       " '이날 펜실베이니아주 피츠버그의 PNC 파크에서 열린 세인트루이스 카디널스와 홈 개막전에 선발 라인업에서 제외된 강정호는 벤치에서 경기를 시작했다.',\n",
       " '강정호는 4-4 동점이 된 8회 초 2사 2루에서 3루 대수비로 교체 출전했다.',\n",
       " '강정호가 PNC 파크 그라운드를 다시 밟은 것은 2016년 9월 30일 시카고 컵스와의 홈 최종전 이후 정확히 914일 만이다.',\n",
       " '강정호는 8회 말 선두타자 모란이 솔로포를 터트려 스코어가 5-4가 된 이후 후속 타석에 들어섰지만 중견수 뜬공으로 물러났다.',\n",
       " '연장 10회 말 1사에서 다시 타석에 들어선 강정호는 세인트루이스의 우완 ‘파이어볼러’ 조던 힉스에게 3구 삼진으로 물러났다.',\n",
       " '2타수 무안타 1삼진으로 침묵한 강정호의 시즌 타율은 0.222(9타수 2안타)가 됐다.',\n",
       " '피츠버그는 연장 11회 혈투 끝에 5-6으로 패했다.']"
      ]
     },
     "execution_count": 6,
     "metadata": {
      "tags": []
     },
     "output_type": "execute_result"
    }
   ],
   "source": [
    "train_df['article_original'][1]"
   ]
  },
  {
   "cell_type": "code",
   "execution_count": null,
   "metadata": {
    "id": "6GfhSfinnHl2"
   },
   "outputs": [],
   "source": [
    "#%matplotlib inline"
   ]
  },
  {
   "cell_type": "code",
   "execution_count": null,
   "metadata": {
    "colab": {
     "base_uri": "https://localhost:8080/",
     "height": 412
    },
    "id": "MHHstuvyZLd3",
    "outputId": "e4e34a8f-d174-4189-fd21-96752bb68a17"
   },
   "outputs": [
    {
     "data": {
      "text/plain": [
       "<matplotlib.axes._subplots.AxesSubplot at 0x7faaa385f390>"
      ]
     },
     "execution_count": 8,
     "metadata": {
      "tags": []
     },
     "output_type": "execute_result"
    },
    {
     "data": {
      "image/png": "[encoded data removed]",
      "text/plain": [
       "<Figure size 1152x432 with 2 Axes>"
      ]
     },
     "metadata": {
      "tags": []
     },
     "output_type": "display_data"
    }
   ],
   "source": [
    "# sentence\n",
    "original_sent_counts = train_df['article_original'].apply(len)\n",
    "\n",
    "fig, axs = plt.subplots(1, 2, figsize=(16, 6), gridspec_kw=dict(width_ratios=[4, 3]))\n",
    "sns.histplot(original_sent_counts, binwidth=1, ax=axs[0])\n",
    "sns.boxplot(original_sent_counts, ax=axs[1])"
   ]
  },
  {
   "cell_type": "code",
   "execution_count": null,
   "metadata": {
    "colab": {
     "base_uri": "https://localhost:8080/"
    },
    "id": "XOlEn80bfJlB",
    "outputId": "f7282122-ef9d-4776-e6ee-a32a30bcd0ff"
   },
   "outputs": [
    {
     "data": {
      "text/plain": [
       "count    42803.000000\n",
       "mean        13.256594\n",
       "std          5.965359\n",
       "min          3.000000\n",
       "25%          9.000000\n",
       "50%         12.000000\n",
       "75%         16.000000\n",
       "max         97.000000\n",
       "Name: article_original, dtype: float64"
      ]
     },
     "execution_count": 9,
     "metadata": {
      "tags": []
     },
     "output_type": "execute_result"
    }
   ],
   "source": [
    "original_sent_counts.describe()"
   ]
  },
  {
   "cell_type": "code",
   "execution_count": null,
   "metadata": {
    "colab": {
     "base_uri": "https://localhost:8080/",
     "height": 412
    },
    "id": "L7oNQmdbiFwI",
    "outputId": "72a3464f-e4a0-4f06-e602-6c5190917863"
   },
   "outputs": [
    {
     "data": {
      "text/plain": [
       "<matplotlib.axes._subplots.AxesSubplot at 0x7faaa1f40710>"
      ]
     },
     "execution_count": 10,
     "metadata": {
      "tags": []
     },
     "output_type": "execute_result"
    },
    {
     "data": {
      "image/png": "[encoded data removed]",
      "text/plain": [
       "<Figure size 1152x432 with 2 Axes>"
      ]
     },
     "metadata": {
      "tags": []
     },
     "output_type": "display_data"
    }
   ],
   "source": [
    "# word 수\n",
    "original_word_counts = train_df['article_original'].apply(lambda x:len(' '.join(x).split(' ')))\n",
    "\n",
    "fig, axs = plt.subplots(1, 2, figsize=(16, 6), gridspec_kw=dict(width_ratios=[4, 3]))\n",
    "sns.histplot(original_word_counts, binwidth=1, ax=axs[0])\n",
    "sns.boxplot(original_word_counts, ax=axs[1])"
   ]
  },
  {
   "cell_type": "code",
   "execution_count": null,
   "metadata": {
    "colab": {
     "base_uri": "https://localhost:8080/"
    },
    "id": "sxdcUjNMcBq6",
    "outputId": "c4932a7f-2944-4456-d26d-1ca0219653e2"
   },
   "outputs": [
    {
     "data": {
      "text/plain": [
       "count    42803.000000\n",
       "mean       214.226456\n",
       "std         64.350373\n",
       "min         90.000000\n",
       "25%        164.000000\n",
       "50%        198.000000\n",
       "75%        251.000000\n",
       "max        501.000000\n",
       "Name: article_original, dtype: float64"
      ]
     },
     "execution_count": 11,
     "metadata": {
      "tags": []
     },
     "output_type": "execute_result"
    }
   ],
   "source": [
    "original_word_counts.describe()"
   ]
  },
  {
   "cell_type": "markdown",
   "metadata": {
    "id": "2SLvm3CPn7qm"
   },
   "source": [
    "## abstractive"
   ]
  },
  {
   "cell_type": "code",
   "execution_count": null,
   "metadata": {
    "colab": {
     "base_uri": "https://localhost:8080/",
     "height": 35
    },
    "id": "s5Zbsmu3oPuA",
    "outputId": "a17e74b1-b0f8-4153-c044-7d97047aa00b"
   },
   "outputs": [
    {
     "data": {
      "application/vnd.google.colaboratory.intrinsic+json": {
       "type": "string"
      },
      "text/plain": [
       "\"지난 6일 당진시의회 행정사무감사에서 '합창단이 소리를 작게 낼 것이니 알고 있으라'라는 문자 등으로 불거진 합창단의 의무 불이행 논란에 대해 행정사무조사특별위원회를 구성해 조사를 수행하겠다는 의견을 표명했다.\""
      ]
     },
     "execution_count": 12,
     "metadata": {
      "tags": []
     },
     "output_type": "execute_result"
    }
   ],
   "source": [
    "train_df['abstractive'][0]"
   ]
  },
  {
   "cell_type": "markdown",
   "metadata": {
    "id": "spqby7LJdwL3"
   },
   "source": [
    "### novel bi-gram"
   ]
  },
  {
   "cell_type": "code",
   "execution_count": 9,
   "metadata": {
    "colab": {
     "base_uri": "https://localhost:8080/"
    },
    "id": "OrXxfbq2d0Dv",
    "outputId": "accb9bbc-fa07-4fa5-e4aa-97a23f1dbe23"
   },
   "outputs": [
    {
     "data": {
      "text/plain": [
       "[('this', 'is'),\n",
       " ('is', 'a'),\n",
       " ('a', 'sentence'),\n",
       " ('so', 'is'),\n",
       " ('is', 'this'),\n",
       " ('this', 'one')]"
      ]
     },
     "execution_count": 9,
     "metadata": {
      "tags": []
     },
     "output_type": "execute_result"
    }
   ],
   "source": [
    "def make_bigrams(text_list):\n",
    "    return [b for l in text_list for b in zip(l.split(\" \")[:-1], l.split(\" \")[1:])]\n",
    "\n",
    "text_list = [\"this is a sentence\", \"so is this one\"]\n",
    "make_bigrams(text_list)"
   ]
  },
  {
   "cell_type": "code",
   "execution_count": 12,
   "metadata": {
    "colab": {
     "base_uri": "https://localhost:8080/"
    },
    "id": "TTkO0A1fd0Aw",
    "outputId": "274bcf77-5981-42e7-fa43-80c6b70680e1"
   },
   "outputs": [
    {
     "data": {
      "text/plain": [
       "[3, 5]"
      ]
     },
     "execution_count": 12,
     "metadata": {
      "tags": []
     },
     "output_type": "execute_result"
    }
   ],
   "source": [
    " list1 = [1,2,3,4,5,6]\n",
    "list2 = [3, 5, 7, 9]\n",
    "list(set(list1).intersection(list2))"
   ]
  },
  {
   "cell_type": "code",
   "execution_count": 24,
   "metadata": {
    "colab": {
     "base_uri": "https://localhost:8080/"
    },
    "id": "ABoA4Al2d0F3",
    "outputId": "15d18a2c-89b5-45c9-8978-f4a6c51dace2"
   },
   "outputs": [
    {
     "data": {
      "text/plain": [
       "0.5764265969353742"
      ]
     },
     "execution_count": 24,
     "metadata": {
      "tags": []
     },
     "output_type": "execute_result"
    }
   ],
   "source": [
    "result_list = []\n",
    "for i, row in train_df.iterrows():\n",
    "    list1 = make_bigrams(row['article_original'])\n",
    "    list2 = make_bigrams([row['abstractive']])\n",
    "    duplicate_num = len(list(set(list1).intersection(list2)))\n",
    "\n",
    "    result_list.append(1 - (duplicate_num / len(list2)))\n",
    "\n",
    "sum(result_list) / len(result_list)"
   ]
  },
  {
   "cell_type": "markdown",
   "metadata": {
    "id": "VsA61HiadsfY"
   },
   "source": [
    "### Sentence split"
   ]
  },
  {
   "cell_type": "code",
   "execution_count": null,
   "metadata": {
    "colab": {
     "base_uri": "https://localhost:8080/"
    },
    "id": "iFecdharYe41",
    "outputId": "c66432aa-4302-4a6f-eb36-b18ba7e81875"
   },
   "outputs": [
    {
     "name": "stdout",
     "output_type": "stream",
     "text": [
      "Requirement already satisfied: kss in /usr/local/lib/python3.6/dist-packages (1.3.1)\n"
     ]
    }
   ],
   "source": [
    "!pip install kss"
   ]
  },
  {
   "cell_type": "code",
   "execution_count": null,
   "metadata": {
    "colab": {
     "base_uri": "https://localhost:8080/"
    },
    "id": "Pe6q853nYZ32",
    "outputId": "d2c64e96-36b1-458f-a167-ef42ee905784"
   },
   "outputs": [
    {
     "data": {
      "text/plain": [
       "0        [지난 6일 당진시의회 행정사무감사에서 '합창단이 소리를 작게 낼 것이니 알고 있으...\n",
       "1        [LA 에인절스의 최지만이 맹활약을 하여 시즌 타율 0.250에서 0.313으로 올...\n",
       "2        [16일 부평구와 협회 등에 따르면 부영공원 안에 있는 야구장을 구생활체육야구협회가...\n",
       "3        [대구·경북첨단의료산업진흥재단 의약생산센터는 약사법 시행규칙에서 정한 바에 따라 전...\n",
       "4        [식품의약품안전처는 29일 어린이가 즐겨마시는 음료를 대상으로 영양성분을 조사한 결...\n",
       "                               ...                        \n",
       "42798    [지난달 7일부터 18일까지 칠곡북삼초등학교는 학생들에게 실제 영어 사용에 대한 자...\n",
       "42799    [김상훈 자유한국당 의원은 최근 5년간 임차인의 사망으로 반환되지 못한 3천479가...\n",
       "42800    [경기도는  DMZ의 의미와 평화에 관한 국민들의 인식을 새롭게 하고자  'DMZ ...\n",
       "42801    [지난 14일 기준 당진지역 휘발유 중 가장 저렴한 곳의 가격은 AJ토탈(주)당진주...\n",
       "42802    [양승조 충남도지사는 12일 대기오염물질 배출 주요 사업장인 현대제철㈜ 당진공장에서...\n",
       "Name: abstractive, Length: 42803, dtype: object"
      ]
     },
     "execution_count": 14,
     "metadata": {
      "tags": []
     },
     "output_type": "execute_result"
    }
   ],
   "source": [
    "import kss\n",
    "train_df['abstractive'].apply(lambda x: kss.split_sentences(x))"
   ]
  },
  {
   "cell_type": "code",
   "execution_count": null,
   "metadata": {
    "colab": {
     "base_uri": "https://localhost:8080/"
    },
    "id": "sJtHJ6w-qzej",
    "outputId": "c61a4ba6-19fd-4517-e719-2ef0121623b4"
   },
   "outputs": [
    {
     "data": {
      "text/plain": [
       "1    42483\n",
       "2      287\n",
       "3       32\n",
       "4        1\n",
       "Name: abstractive, dtype: int64"
      ]
     },
     "execution_count": 15,
     "metadata": {
      "tags": []
     },
     "output_type": "execute_result"
    }
   ],
   "source": [
    "train_df['abstractive'].apply(lambda x: len(kss.split_sentences(x))).value_counts()"
   ]
  },
  {
   "cell_type": "code",
   "execution_count": null,
   "metadata": {
    "colab": {
     "base_uri": "https://localhost:8080/"
    },
    "id": "WzbGaOQi6qV6",
    "outputId": "4121752b-d21a-4c13-bbe2-0a5affe2fa92"
   },
   "outputs": [
    {
     "name": "stdout",
     "output_type": "stream",
     "text": [
      "['3일 한국자동차산업협회와 한국수입자동차협회에 따르면 한국지엠(GM)과 르노삼성 등 국내 완성차업체가 모회사의 해외 생산 차량을 수입해 국내에 판매하는 OEM 수입차의 판매량이 2017년까지 하락세를 보이다', '지난해 반등했으며 수입차 대비 비중도 높아질 전망이다.']\n",
      "['2019광주세계수영선수권대회 기간 중 조선대학교에서는 수영대회의 ‘백미’인 하이다', '이빙 경기가 치러지며 조선대 본관 건물과 무등산을 배경으로 27m 높은 곳에서 뛰어내리는 아찔한 광경을 순간 포착하는 등 전 세계에 광주를 알릴 수 있는 절호의 기회가 될 것으로 보이고 하이다', '이빙은 단순히 경기를 넘어서 역동적이고 예술적인 모습이 포착되는 종목이어서 관객들의 시선과 탄성을 자아낼 것으로 보인다.']\n",
      "['전과 8범 A씨는 아동청소년 강간미수 혐의로 징역1년 3월형을 살고, 5년간 전자발찌 부착 명령상태에서 지난 17일 전자발찌를 끊고 도주하다', '광주 북부경찰서가 검거하여 부착기간이 2020년 8월14일까지 늘었다.']\n",
      "[\"자유한국당 소속 윤상현 국회 외교통일위원장은 29일 일제 강점기 강제 징용 피해자에 대한 일본 기업의 배상문제로 한일관계가 역대 최악이라며 일본의 '코리아 패싱(한국 때리기)'이 심각하다고 말했다.\", '일본 정보는 일본 전범 기업들에 배상을 명령한 작년 10월의 한국 대법원 판결과 관련해 1965년 체결된 한일청구권협정에 따라 배상 문제는 해결된 것이라고 주장하며 판결 이행을 거부한 채 지난 20일 한국 정부에 제3국 위원을 포함한 중재위원회 개최를 요청했다.', '윤의원은 일본 중의원 외교위원장도 접촉해 징용 문제를 둘러싼 양국 간 갈등 해소 방안을 놓고 의견을 나눠보고 싶었지만 만나는 것조차 꺼리는 바람에 회동하지 못했다고 밝혔다.']\n",
      "[\"경기도는 지난 5일 경기창조경제혁신센터에서 국내외청년 200여 명이 참석한 '평화대담 토크쇼 비정상회담'을 개최했으며 이 날 청년들은 남북 정상회담과 북미 정상회담, 한반도 평화 실현의 방해요\", \"인 등에 대해 이야기하며 '한반도 평화'의 중요성을 강조했다.\"]\n",
      "['태안군은 서산군에 속해 있다', '1989년 태안군으로 복군된지 30주년을 맞아 군민과 함께 미래 비전을 공유하여 더 찬란한 천년 태안을 만들어 갈 것을 다짐하는 마음으로 복군 30주년 기념 행사를 준비하고 있다.']\n",
      "[\"태안군이 친절한 민원서비스 제공을 위해 매주 월요일 아침 업무 시작 10분 전 직원들의 친절마인드 향상과 친절의 생활화를 도모하는 '미소 친절 방송'을 진행하며, 활기찬 직장 분위기를 위해 가요,\", '팝송 등의 음악도 함께 방송한다고 밝혔다.']\n",
      "['드라마 ‘은주의 방’ 11화에서는 류혜영이 김재영과의 갑작스러운 키스 후 혼란스러워하는 모습을 보이다', '끝내 김재영의 마음을 거절하는 류혜영의 모습이 전파되었다.']\n",
      "['인천시 남동구노인복지관은 사할린에 있는 동포들과의 교류가 더욱 이루어지는것을 바라며 사할린을 방문해 동포들을 격려하고 상호 협력 논의와 역사와 문화·복지 서비스를 지원하고자 노력하겠다', '\"라고 약속했다.']\n",
      "['충주 중원 문화재단이 지난 8일 기존 이사들에게 카톡 메시지를 통해 11일까지 등기 동의서를 요구하는 등  신임 이사에 대한 서류 추인을 무리하게 강행하다', '기존 이사들의 항의로 결국 무산됐으며 특히 신임 이사들의 법적 효력이 없어서 이사회를 개최하지 못하는 등 재단 운영이 비정상적으로 치달을 것으로 예상된다.']\n",
      "['전남도해양수산과학원은 섬진강에서 어린다', '슬기 40만마리를 방류하는 등의 노력을 통해 하천생태계의 보전과 자원회복을 도모했다.']\n",
      "[\"'2019광주세계수영선수권대회'에서 수영대회 6개 종목 중 하이다\", '이빙이 전체 입장권 판매율의 96%를 차지하며 최고 인기 종목으로 나타났다.']\n",
      "['광주시 동구가 ‘2019광주세계수영선수권대회’ 하이다', '이빙 경기 성공을 응원하고자 기업·기관·단체·개인 등이입장권 2천여 장을 구매해 관람석을 메울 예정이다.']\n",
      "['<불후의 명곡-전설을 노래하다', \">는 2019년 '설'을 맞아 배우 성병숙과 서송희, '살림남'에서 활약 중인 김승현 가족, 홍현희와 제이쓴 등 연예계를 대표하는 스타와 스타 가족들이 출연해 가족애가 느껴지는 감동의 무대로 이목을 집중시킨다.\"]\n",
      "[\"농림축산식품부는 청년층의 농업분야 창업 활성화를 위해 2019년 '청년창업농 영농정착지원사업' 대상자를 선발하고 각 시군을 통해 통보했으며, 앞으로 지원 대상자 1600명에 대해서는 최장 3년간 매월 100만원씩 창업자금과 함께 영농기술 교육 등 맞춤형 지원을 제공한다고 14일 발표했다.\", '농식품부는 했다고 14일 밝혔다.']\n",
      "['부산 사상경찰서에 따르면 더불어민주당 권경협 의원이 지난 16일 밤 10시40분 사상구청 인근 도로에서 음주운전을 하다', '경찰의 음주측정 요구에 불응하고 약 2㎞를 달아나다 경찰에 붙잡혀 불구속 입건됐다고 밝혔다.']\n",
      "['남도일보 기고-인위적인 사고로 대형 인명·재산 피해가 발생되면 안전불감증이 불러온 대형참사 되풀이되고 있다.', '안전국민의식과 소방안전의식, 대처능력을 높이는 소방안전 조기교육이 시급하다.']\n",
      "[\"충남도는 도내 10개 산업단지가  충남국가혁신클러스터로 지정됨에 따라 '수소전기차와 수소기반 산업 클러스터'로 육성하여 수소경제 사회를 선도하겠다\", '\"고 말했다.']\n",
      "['도심에서 사라져가는 것들을 기억하는 빛과 그림자 주제로 산수미술관(관장 장민한)이 노여운 작가를 초대해 오는 21일까지 전시회를 열고, 기억하다', ':산수-사소한 풍경의 익숙한 침묵’을 주제로 열리는 전시에서 작가는 산수동과 주변 두암동, 지산동의 소소한 풍경을 담아낸 신작들을 선보이고 있다']\n",
      "['보성군 벌교읍 산불진화헬기 추락 사고가 헬기 매뉴얼 규정보다 1m이상 긴 물주머니를 사용하다', '꼬리 회전날개와 물주머니가 충돌하며 조종 불능 상태를 맞은 것이 원인이 된 것으로 밝혀졌다.']\n",
      "['농협유통이 18개 납품업자와 제주옥돔세트 등 냉동수산품 직매입거래를 하면서 1억2천여만원 상당의 총 4천329건을 상품에 하자가 있다', '거나, 명절 등 특정기간에 집중 판매되는 상품이라는 등의 이유로 정당한 사유없이 반품하는 이른바 갑질 행위를 일삼아 공정거래위원회로부터 시정명령과 함께 4억5천600만원의 과징금 및 과태료 150만원을 부과받았다.']\n",
      "[\"2014년 11월 '캔디 젤리 러브'로 데뷔한 후 청순한 이미지로 남성 팬들의 마음을 사로잡은 러블리즈는, 1년 전 아시아투어를 하고 싶다\", '던 소망대로 오는 3월 싱가포르를 거쳐 홍콩, 대만까지 아시아 투어에 나선다.']\n",
      "['21대 선거를 앞두고 자신의 이익을 좇아 노선과 계파에 따라 흩어졌다', \"다시 뭉치는 '이합집산'은 한국 정치의 특징으로 보이고 있다.\"]\n",
      "['경찰은 최근 전남도교육청의 학교물품 구입 비리 의혹에 대한 압수수색 중 전·현직 공무원들이 업자로부터 해외 골프 접대를 받았다', '의심할 만한 정황을 포착하면서, 수사 결과에 따른 파장이 예상된다.']\n",
      "['충주의 사이다', \"제조 회사인 '댄싱사이더 컴퍼니'가 농림축산식품부의 '2019년 농업과 기업 간 연계강화사업' 대상으로 선택됐는데, 이 회사의 애플사이더는 생사과즙을 발효시켜 사과 본연의 맛을 담은 사이다\", '제품으로, 알코올 도수가 맥주와 비슷해 부담 없이 마실 수 있다.']\n",
      "['종이원료를 공급하는 3개 업체가 각자 거래하고 있는 제지업체들에 대해 주요 품목의 가격을 5-10% 인상하면서 가격을 담합하다', '과징금과 검찰 수사를 받게 되었다']\n",
      "['한국 콜롬비아전 MBC 축구 중계를 한 BJ감스트는 인터넷방송 출신을 왜 공중파에 기용하는지 이해가 안 간다,', '일반사람들이 생각할수 있는 그런 말들을 콕 집어서 말한 거 같아 캐사이다라는 엇갈린 반응에 대해 사과했다.']\n",
      "['대검찰청은 25일부터 새로운 ‘교통범죄 사건처리기준’을 마련해 음주운전을 하다', '사람을 치어 교통사고를 낼 경우 음주 수치에 따라 최대 무기징역까지 구형하는 등 구형량을 높이기로 밝혔다.']\n",
      "[\"한전산업개발은 그린에너지 엑스포에서 통합형 ESS인 'KEPID-ESS-200'을 선보였다.\", '이 장치는 100kW미만의 소규모 태양광 발전소와 연계할 수 있으며, 일반적인 배터리룸보다 외부 기온에 영향을 받지 않고  최적의 성능을 유지할 수 있는 장점이 있다.']\n",
      "['LG는 응급의료 전용 헬기 도입, 국가 응급진료 정보망 구축과 재난응급의료 상황실 운영 등 응급의료 발전을 위해 헌신하다', '순직한 고 윤한덕 국립중앙의료원 중앙응급의료센터장에게 의인상을 수여하고 유가족에게 위로금을 전달키로 했다.']\n",
      "['포스코가 사회공헌 분야에서 기업시민 봉사상을 신설해 여러가지 평가요', '소를 고려해 매년 외부 단체및 사내를 대상으로 포상하기로 발표했다.']\n",
      "['인천에너지전환네트워크는 인천시에 수도권 전력 소비의 20%를 맡는 영흥 석탄발전소가 2017년 기준 온실가스 3천196만7천t을 배출했으며, 이외에도 미세먼지, 해양에 배출하는 온배수 등으로 인근 주민과 해양생태계에 피해를 줘 석탄발전 폐쇄 로드맵 수립을 촉구했다.', '17일 인천시청 브리핑룸에서 기자회견을 열고 석탄발전 폐쇄 로드맵을 제시해야 한다고 촉구했다.']\n",
      "[\"지난 12일 광주, '제3회 도시폭염 대응 포럼'에서 시민포럼과 패널토론이 진행됐다.\", '이날 시민포럼 패널들은 지난해 폭염과 관련 분야별로 피해 사례를 언급하며 정부와 지자체의 적극적인 대책을 촉구했으며, 전문가들은 광주의 평균기온이 2000년 이후 전국 평균을 상회하는 가파른 상승추이를 보이고 있다며 폭염 위험성을 경고했다.']\n",
      "['MBC 새 월화드라마 ‘아이템’의 제작발표회에서 배우 주지훈이 \"“감독님이 적토마 같다고 해서 이게 욕인지, 칭찬인지 한참 헷갈렸다.', '”며 소감을 전했다.']\n",
      "['광주지법은 지난 3월 음주운전을 하다', '도로에 서 있던 A(60·여)씨를 친 뒤 조치를 취하지 않고 달아나 결국 사망에 이르게 한 정모(47·남)씨에게 특정범죄가중처벌등에관한법률위반(도주치사)등 혐의로 죄질이 나쁘다고 고려해징역 7년을 선고했다고 10일 밝혔다.']\n",
      "['조선대 지식경영연구원은 21일 오후1시 경상대학 2층 경영산학관에서 세미나를 개최한다.', '이번 세미나를 통해 대한민국이 비즈니스변화와 남북문제 및 대외문제 변화에 적응하여 새로운 방향으로 해결방법을 찾아야한다며 이번 세미나를 개최하게 되었다.']\n",
      "['경기도 특별사법경찰단은 개발제한구역 수사권을 얻은 이후 지난 7월 15일부터 26일까지 경기북부 개발제한구역 내 동식물 관련 시설이나 농업용 창고로 허가를 받은 53곳을 수사한 결과, 작업장 또는 주택 등으로 불법 용도 변경해 사용하다', '적발된 17개 시설의 업주 17명을 형사입건했다고 5일 밝혔다.']\n",
      "['상사화는 수선화과의 여러해 살이 식물로 꽃과 잎이 서로 달리 피고 지는 모습이 인간세계에서 서로 떨어져 사모하는 정인들과 같다', '하여 붙여진 이름인데, 이 꽃의 이름은 흔하지 않게 경운 스님이 인도의 공주를 잊지 못하여 병에 걸린 애절한 사랑 이야기를 담고 있다.']\n",
      "['국내 상반기 일본차 수입액은 26.2%나 뛰어 역대 최대를 기록했으나 국산차는 일본수출이 없다', '시피 했다.']\n",
      "['부산광역시 해운대 경찰서는 온라인 게임에서 사기 행각을 벌이다', '지명수배된 20대 A 씨를 편의점에서 상습적인 절도 혐의로 구속했다고 21일 밝혔다.']\n",
      "['레드벨벳 멤버 웬디가 25일 SBS 가요', '대전 리허설 중 큰 부상을 입은 것에 대해 레드벨벳 갤러리는 SBS의 안전불감증이 여전히 심하다며 SBS가 웬디에게 진심으로 사과하고 이번 사고의 진상 규명이 빠르게 이루어지지 않으면 법적 대응으로 이어질 것이라고 밝혔다.']\n",
      "['한국소비자원이 고령소비자의 합리적인 선택을 지원하기 위해 이동통신 3사의 실버요금제를 분석하여 나온 결과로 일반 저가요', '금제와의 차이가 미미하거나 오히려 데이터 제공량이 적은 것으로 나타났다.']\n",
      "['지난달 27~28일, 광주세계수영선수권대회조직위원회가 파워 블로거와 수영 전문인 등 20여 명을 초청해 국제방송센터와 남부대시립국제수영장, 수구경기장, 조선대하이다', '이빙 경기장 등 주요 시설을 방문하는 팸투어를 실시했다.']\n",
      "['한국민화디자인센터와 다겸아트컴퍼니가 기획한 ‘한국을 담은 민화 특별전, 한국을 담은 한복전’이 오는 28일까지 하이다', '이빙 종목이 열리는 조선대 중앙도서관과 국제관에서 열리는데, 23일 수영대회 응원차 광주를 찾은 김정숙 여사가 들르기도 했던 민화전은 서울 가회민화박물관(관장 윤열수) 소장품을 만날 수 있는 기회이며, 민화전에는 화조도, 장생도, 모란도, 책가도 등 19세기 작품 116점이 전시되며 수영대회를 맞아 물 속의 물고기들이 평화롭고 자유롭게 노니는 모습을 표현한 ‘어해도’를 선보인다.']\n",
      "[\"부산시의 낙동강 하굿둑 개방이 염분이 있는 바닷물이 역류해 취수원에 피해를 줄 수 있다는 이유로 경남과 울산시가 우려를 표명한 가운데, 부산시는 '낙동강 하굿둑 운영개선 및 생태복원방안 연구' 등을 통한 시범개방으로 해수 역류로 인한 영향을 최소화하기 위한 다양한 방법을 연구하고 있다.\", \"부산시의 '낙동강 하굿둑 운영개선 및 생태복원방안 연구' 용역 수행을 위해 낙동강 하굿둑 수문을 시범적으로 열기로 했는데, 이로 인해 취수원에 해를 끼칠 수 있다는 이유로 경남과 울산시가 걱정을 표하고 있다.\"]\n",
      "['전남대 여수캠퍼스가 주최하는 외국인 유학생 자율방범대에 참여한 외국인 유학생들은 앞으로 범죄예방차원에서 외국인유학생 밀집지역의 집중순찰 및 범죄피해에 대한 신고요', '원 역할을 할 것이다.']\n",
      "['르노삼성자동차의 도미닉 시뇨라 사장이 부산상공회의소 허용도 회장을 만나 투 트랙 전략으로 신뢰를 되찾겠다', '밝혔으며 임단협 진행 상황을 공유하고 지역상공계가 해야 할 역할 강화 방안도 논의했다.']\n",
      "['충북도는 4차 산업혁명 시대에 제조분야의 경쟁력 확보를 위해 기업 부담금을 일부 지원하는 등 스마트공장 보급 확대에 힘쓸 계획이라고 13일 밝혔으며 또한 스마트공장 수요.', '공급기업 간 매칭데이, 스마트 공장 설명회도 주최할 예정이다.']\n",
      "['매년 여름 잠실 종합운동장과 같은 트렌디한 장소에서, 세계 1등 사이다', '브랜드인 스프라이트가 지난 20일 다이브 인 스프라이트 존, 워터밤을 운영해 관객들에게 상쾌한 경험을 선사했다.']\n",
      "['작년 12월 31일 포천시 A업체에서 지게차 위에 올라가 천정에 묶인 커튼 휘장을 걷어내던 직원이 떨어져 사망한 사고가 발생했고, 이에 대해 재판부는 보호구도 지급하지 않고 중장비 등을 다른 용도로 사용하다', '사고 발생에 대한 책임은 사업주에게 있다는 판결을 내렸다.']\n",
      "['2017년 9월부터 2월까지 경남 산청군 단성면 연수원 및 야구장을 관리한 직원이 경성대 학내 게시판에 총장을 비판하는 글을 올렸다가 산청에 발령을 받았다며 국가인권위원회에 진정을 접수한 것으로 알려졌다.', ':']\n",
      "['3년만에 늘었다', '던 여수시의 인구가 주거 여건의 불안정 등을 이유로 두 달만에 다시 감소하며 여수시는 인구 증가 정책의 근본 대책 마련이 급하다는 비판을 받고 있다.']\n",
      "['문화콘텐츠 산업 전국 매출액의 85%가 서울과 경기 지역에 집중된 반면 전남은 0.4%로 최하위인 것으로 조사됐다.', '이에 김 의원은 \"지방과의 문화 양극화가 경제 양극화로 이어질 가능성이 크다\"며 \"균형 발전 방안을 수립해 대응해야 한다\"고 말 했다.']\n",
      "[\"광주수영대회 조직위원회에 따르면 '2019광주세계수영선수권대회'가 종반으로 접어든 가운데 가장 큰 관심을 끌고 있는 하이다\", '이빙과 수영대회의 꽃인 경영 등 인기 종목들이 일제히 시작되면서 대회 흥행몰이에 나선다.']\n",
      "[\"부산지법 형사10단독은 학교 근처에서 속칭 '키스방' 영업을 하다\", '적발된 전직 경찰에게 징역 2년의 실형을 선고했다.']\n",
      "['수성아트피아는 올해를 재도약 원년으로 삼아 명품공연장의 위상을 재확인하는 과정에서 가장 눈에 띄는 변화는 발레 중심 공연장으로서의 이미지 제고로 시민들에게는 존재감이 분명한 아트센터, 예술인에게는 성장의 발판이 될 수 있는 든든한 버팀목이 되겠다', '”고 밝혔다.']\n",
      "['지난 26일 인천공항 제2여객터미널 입국불허자 대기실에 대기 중이던 러시아인, 우즈베키스탄인, 카자흐스탄인 등 3명이 공항 화장실 환풍구로 밀입국을 시도하다', '서측 안내카운터 인근 경비보안요원들에게 붙잡혔다.']\n",
      "[\"17일 방송된 TV조선 '인생다큐 마이웨이'에 출연한 트로트 가수 김혜연은 과거 뇌종양으로 슬픔에 잠겨 있다\", '기적적으로 병을 극복한 사연을 소개했다.']\n",
      "[\"광주시 북구에 따르면 오는 4일 오전 10시부터 오후 4시까지 전남대 컨벤션홀 일대에서 '일자리 만남의 장'을 마련했다.\", '구직 희망자는 이력서와 자기소개서, 자격증 등 관련 서류를 지참해 구인기업과 1대1 현장면접 및 2차 심층면접을 통해 취업이 가능하다.']\n",
      "['노인 배식 도우미 자원봉사를 진행하다', '인연이 된 오산세교로타리클럽과 신장동 지역사회보장협의체 그리고 오산시 신장동 행정복지센터는 관내 저소득층의 맞춤형 복지서비스 제공 및 주민 복지욕구에 보다 효과적인 대응을 위한 업무협약을 체결했다고 29일 밝히고 오는 8월 8일 관내 지역아동센터 아동들과 캐리비안베이 여름나기 행사를 시작으로 지역민들의 다양한 활동에 적극 협력하기로 했다.']\n",
      "[\"농촌지역 인구가 고령화하면서 농·어·임업 활동을 포기하거나 아예 업종을 바꾸는 전국적인 추세에 따라 '2018 농림어업조사' 결과에서 충남지역 농가는 12만 3000가구로 전년 12만 6000가구 대비 1.9% 줄었으며 어가, 임가도 일제히 감소한 것으로 나타났다.\", 'c']\n",
      "['대전시가 천변도시 고속화도로 하이패스 설치와, 도시철도 1호선 스프링클러 설치 부분 등 시민 생활과 직결된 현안해결에 소극적인 태도를 보이다', '수차례의 질타 후 하겠다는 반응을 보여 빈축을 사고 있다.']\n",
      "[\"충남경찰청은 지난 2월부터 약 3개월간 '사업용자동차의 불법행위'를 집중단속하여 관련자 총 72명을 형사입건했다고 23일 밝혔다.\", '현행 관련법상 시장,군수,구청장의 승인이 없는 차량개조 및 운행은 1년 이하의 징역이나 1000만원 이하의 벌금 부과대상이며, 정비불량차를 운전할 경우 6개월 이하의 지역이나 200만원 이하의 벌금형으로 규정하고 있다.', '충남경찰은 지자체 및 유관기관과 합동으로 단속과 수사를 확대할 예정이다.']\n",
      "[\"중앙부처가 '제3차 항만 재개발기본계획' 용역을 추진하다\", '서천군이 금강하구 일원의 난개발 문제를 제기하면서 용역이 중단된 바 있는 군산시의 인공섬 금란도는 군산시에 많은 경제적 이익을 주고, 양지자체간 상생의 의미가 큰 사업이기에 서천시도 긍정적으로 바라봐야한다는 의견이 나오며 양 지역민들의 관심이 집중되고 있다.']\n",
      "['최근 보복운전이 지난 2년간 약 9000건에 달하는 것으로 나타나 놀라움을 주고 있다.', '이런 보복운전 뵘죄는 특정인을 자동차로 위협하거나 진로방해 고의 급제동, 폭행, 협박 등을 일컫는 것으로 보복봄죄 근절을 위한 제도적 개선이 필요하다.']\n",
      "['불후의 명곡-전설을 노래하다', '에 출연한 손준호는 성악을 배우기 위해 중학생 때부터 김동규의 집에서 동고동락을 하였다고 밝히면서 놀라움과 훈훈한 분위기를 자아냈다.']\n",
      "['당진시가 올해 전국 최초로 근로자가 최소한의 인간다', '운 삶을 보장하기 위해 기준 중위소득 50% 이하의 취약계층과 그와 세대를 같이하는 직계존비속에게 주거비와 교육비, 물가상승률 등을 종합적으로 고려해 최저임금보다 높은 수준의 소득을 보장해 주는 청년생활임금제 시행을 앞두고 있다.']\n",
      "['세월호 참사 5주기를 하루 앞둔 지난 15일 오후, 차명진 자유한국당 경기 부천 소사 당협위원장의 SNS 글이 논란이다.', '한국당의 황교안 대표와 박근혜 전대통령이 세월호 사고 책임자로 고발당한 것에 대해 세월호 유가족을 원색적인 언어로 비난하였는데, 이와 관련해 논란이 커지자 차 위원장은 사과글을 남기고 SNS와 방송 활동 중단을 선언했다.']\n",
      "[\"정부는 대학별로 입학정원 감축을 자율화 했으며 적정 정원 수준으로 입학생을 줄인 대학을 '일반재정지원대학'으로 선정하겠다\", '밝혔다.']\n",
      "['부산 금정구 서동은 도시환경정비사업 대상지로 지정됐으나 13년째 추진 단계에 있어 불편함을 호소하고 있다.', '이에따라 도시재생사업으로 전환해야 한다는 목소리가 나오고 있다.']\n",
      "['순천여고 정구부가 전국정구대회 여자 고등부 단체전 우승을하였고 개인단식에 출전한 4명 모두 4강진출해 각 우승 및 준우승 3위로 오르며 개인다', '식도 4자리 모두 쓸었으며 이러한 성적은 한국 정구 역사상 처음으로 진기록을 세운 순간이다']\n",
      "['퓨전·대중가요', '·전통음악 등 여러 장르의 공연을 즐길 수 있는 ‘삶·숨·쉼이 있는 흥겨운 문화마당’이 오는 21일 오전 11시 곡성군 죽곡 봉정분교 목공예&커피체험관에서 개최된다.']\n",
      "['중소기업중앙회가 24일 발표한 경영전략조사에 따르면 중소기업의 86%는 투자 및 신사업 계획이 없다', '응답했으며 이는 경기전망에 대한 부정적 인식이 영향을 미친 것으로 나타났다.']\n",
      "[\"인천시교육과학연구원이 개최 한 학생대상 '2019 인천시 과학동아리 활동 발표대회'의 참가팀들은 대회 참가를 통해 팀원들과 협업하는 과정과 과학진로 역량을 기를 수 있는 기회가 되었다고 얘기했고, 관계자는 과학 관련 동아리 활동을 더욱 활성화 시킬 수 있도록 지속적인 노력을 하겠다\", '밝혔다.']\n",
      "['보건복지부의 국민건강 보험법 및 의료금여법 시행령 일부개정령안이 국무회의에서 의결되어 의료계의 반발을 샀던 추나요', '법을 환자 본인이 1만-3만 원만 부담하고 진료를 받을 수 있다.']\n",
      "['그리스의 한 TV쇼 출연진들이 방탄소년단과 엑소의 외모를 비하하는 발언을 하여 논란인 가운데 염색한 모습이 끔찍하다,', '여자 같다', '등 비하 발언의 수위가 상당히 심해 많은 팬들의 항의가 이어지자 출연진들은 그제서야 사과를 하였다.']\n",
      "[\"세종시는 정부세종청사 21개 정부부처 공무원을 대상으로 실시한 행정수도 관련 인식조사 결과에서 80%이상이 '국회 세종의사당' 설치가 필요하다고 밝히며 세종시장은 행정 비효율이 심각하고 해당 기관들의 설치가 시급하다\", '밝혔다.']\n",
      "['광주시는 고증을 통해 희경루를 중건할 계획이다.', '희경루는 7월 중 토지매입을 완료하고 8월 실시설계등의 절차를 진행할 계획으로, 문화공간도 함께 설립할 예정이다.']\n",
      "[\"수성문화재단은 대구시민주간을 맞아 28일 오후 8시 수성아트피아 무학홀에서 현인의 노래 '비 내리는 고모령'을 비롯한 한국가요\", \"명곡들과 수성구의 역사문화자원을 변사가 스토리텔링 방식으로 진행하는 변사극 '비 내리는 고모령'을 공연한다.\"]\n",
      "['최근 자신의 삶을 녹인 수필집을 낸 저자는 대전지방경찰청에서 30년 간 경찰로 근무하다', \"퇴임 후 칼럼과 글을 활발히 쓰고 제6회 '한국문학시대 문학대상'을 수상하기도 했다.\"]\n",
      "['광양시가 취약계층 방문건강관리서비스를 강화하였다.', '이 서비스는 독거노인 등 폭염 취약계층의 건강한 여름나기를 지원하는 제도이다.']\n",
      "['21일 한국토지주택공사(LH) 경기지역본부는 건설 현장 내 재해요', \"소에 선제적으로 대응하고 안전사고 발생 시 즉각 조치가 가능하도록 'LH 안전 휘슬 제도'를 시행한다고 밝히고 건설 현장 내 모든 근로자의 안전모에 부착이 가능한 형태로 지급한다고 했다.\"]\n",
      "['정치와 체육을 분리하는 내용을 골자로 한 국민체육진흥법 개정안이 올 연말 시행될 예정인 가운데 시민구단인 대전시티즌도 같은 맥락에서 인사가 이뤄져야 한다는 의견이 나오고 있다.', '대전시 관계자는 \"정치인은 후임 대표이사 인선 원칙에 맞지 않고 경영 능력에 무게를 두고 인물을 물색 중\"이라고 말하며 후임 대표이사 인선 하마평을 두고 곱지 않은 시선을 내보이고 있다.']\n",
      "['환경가전을 많이 사용하다', '교원웰스 제품을 접하게 된 김 지점장은 물 속 미네랄 성분의 중요성에 눈을 뜨면서 교원웰스에서 일하게 되었고 동시에 지역 가수로도 활동하고 있다.']\n",
      "['광양시 임대아파트대책연대는 기자회견을 임대사업자들의 수익창구로 변질된 분양전환 민간·공공임대아파트 임차인들의 권리 보장 촉구하고  임대아파트 분쟁조정위원회를 설치를  요구했다.', '과도한 분양자격 기준을 적용해 자의적 판단으로 우선 분양전환 자격을 결정하고 부적격자를 양산했을 뿐 아니라 분양받는 임차인들에게 웃돈까지 요구했다.', '정인화의원은 공공주택 특별법과 민간임대주택에 관한 개정안을 발의한바있다.']\n",
      "['2015년 ‘유심’ 신인상을 수상하며 작품활동을 시작한 광주 출신 박노식 시인이 ‘이 시대의 외톨이’라고 시인의 존재를 규정해 그의 웅숭깊은 언어를 대면하며 잠깐이나마 ‘모두가 외톨이’가 되는 고요', '와 침잠의 시간을 독자들이 상상하게 되는 두 번째 시집 ‘시인은 외톨이처럼’을 펴냈다.']\n",
      "['23일 조선대학교에서 열린 여자 하이다', '이빙 최종전에서 호주의 이프랜드가 금메달을 차지해 여자 하이다', '이빙 최강자임을 다시 한번 입증했다.']\n",
      "['2019광주세계수영선수권대회의 후원사인 한국전력공사가 후원 협약을 세계수영선수권대회가 개막하는 12일로 연기하여 한전 측의 후원 진정성에 의문이 제기되고 있으며, 이에 한전 측은 수영대회 조직위와 후원금 규모를 놓고 협상하다', '협약 시기가 지연됐다고 해명했다.']\n",
      "['여수 은파교회 고만호 목사가 3·1운동 설교에서 5·18민주화운동을 ‘끔찍한 폭력’이라고 규정한 사실이 알려지면서 공분을 사  \"3·1운동이 비폭력이었음을 강조하기 위한 것이었다”며 어떤 왜곡이나 폄훼할 의도는 추호도 없었다', '”고 사과했다.']\n",
      "['28일 한국철도공단은 동암역 지하연결통로 상가에 있던 28개 점포 철거 완료 후 새 민간사업자를 찾고 있지만 그 지역에서 10년 가까이 생업을 유지하다', '철거 당한 상인들의 불만이 자자하다.']\n",
      "[\"서삼석 의원이 26일 '국가재정법 및 국가회계법 일부 개벙법률안'을 대표발의 했다.\", '이는 지역간 격차해소 사업들의 종합관리 시스템을 갖추기 위해 정부가 국가 예산 및 기금 사업 군형발전 기대효과, 보완대책 등을 포함한 보고서를 의무적으로 작성하는 것에 대한 법안이다.']\n",
      "['한국산업인력공단 부산지역본부는 산업인력 양성을 위해 지역 산업계와 연계하여 기능 인력 양성 등 다양한 사업을 성공적으로 수행하고 있다.', '특히, 일-학습병행제도와 지역ㆍ산업 맞춤형 인력 양성체계는 산업계의 호평을 받고 있다.', '향후 지속적으로 특성화고 및 마이스터 고교생이 대학 대신 취업할 수 있도록 지역 관계 기관과 협업해 나갈 계획을 밝혔다.']\n",
      "['21일 대구 중구청은 91명의 사상자가 발생한 중구 포정동 대보사우나 화재 사고의 피해 복구에 노력하고 있으며 이날 한국전력이 대보상가.', '아파트 전력 복구 작업에 나서 완료에는 최대 2주가 걸릴 것으로 예상된다고 전했다.']\n",
      "['2019광주세계수영선수권대회 하이다', '이빙 종목이 지난 22일부터 24일까지 진행됐으며, 팬들에게 큰 볼거리를 제공해 흥행몰이에 성공했다.']\n",
      "['5·18 당시 현장에서 투쟁하다', '한쪽 눈을 잃은 이지현(이세상)씨의 자전적 이야기 ‘애꾸눈 광대’가  8일부터 11일까지 오후 7시 30분 광주 동구 궁동예술극장에서 막을 올린다.']\n",
      "['대전중앙청과(주) 채소과일 비상대책추진위원회는 점포 균등배분을 주장하며 점포개선안을 요구했다.', '이에 대해 관계자는 다각적인 방안을 고심해야 하는 만큼 중도매인들과 지속 협의를 해 나갈 예정이라고 설명했다.']\n",
      "[\"국내 최초 MCN 전문기업 트레져헌터는 5일, 3세대 모델인 '전문가 채널'을 런칭하며 김호인 변호사가 MCN 자문 변호사로 활약하다\", \"법률 이슈를 쉽게 설명하는 크리에이터 활동을 시작했으며 김병지 전 축구선수는 '꽁병지TV'를 통해 운동 콘텐츠를 만들어 성장 가능성을 보여 주고 있다.\"]\n",
      "['사이다', '특가 좌석의 폭발적 반응에 따라 에어서울에서 사이다', '특가 좌석을 27일, 28일 오전 10시 추가로 오픈해 판매한다.']\n",
      "['이용석 광주시장은 정책간담회에서 경제 산업 전반의 패러다임이 급격히 변화하는 무한 경쟁 시대에 지역경제의 근간인 중소기업들의 지속 성장을 위한 경쟁력 강화가 매우 중요하다', '”며 “내년에도 시정 제1목표인 일자리 창출을 위해 창업 활성화와 지속성장 기반 구축, 유망 중소기업 육성, 스마트 제조혁신을 통한 중소기업 경쟁력 강화에 매진해 나가겠다', '”고 강조했다.']\n",
      "['광주교육 당국은 사학 공공성 강화를 위해 사립학교 교원 위탁채용을 실시하고 있지만 허울뿐인 제도라는 지적이다.', '조사할만한 권한도 없다는 이유를 내새워 소극적 입장을 내놓고는 있지만 사학법인이 가지고 있는 인사권과 징계권은 교육청에서 침해할수 없는 제왕적인 사학법이기 때문이다.']\n",
      "['최근 30도를 웃도는 고온다', '습한 날씨 속에서 나주시가 오는 7일까지 중점 방제기간을 정하고, 장성군도 지난 4일부터 7일간 ‘돌발해충 공동방제의 날’로 정하는 등 전남 자치단체들이 ‘돌발해충’ 피해 및 확산 방지를 위한 선제적 대응에 나서고 있다.']\n",
      "['대전지방경찰청은 지난달 10일 대전 중구 대흥동에서 무면허로 머스탱 차량을 운전하다', '사망사고를 낸 운전자 전모(17) 군을 교통사고처리특례법(치사)위반 혐의로 구속했다고 6일 밝혔다.']\n",
      "['2019광주세계수영선수권대회조직위원회는 하이다', '이빙 경기장을 찾아 온 세계 각국의 선수·임원과 관람객들을 위해 한국인의 생활상과 풍습을 한 눈에 볼 수 있도록 ‘민화 특별전’을 개최하여 우리 문화의 우수성을 세계에 널리 알리는 절호의 기회로 한국전통 예술이 세계인들에게 더욱 친숙하고 사랑받는 계기가 될 것이라고 밝혔다.']\n",
      "['10여 년 전 미성년자를 성폭행한 뒤 흔적을 지운 A씨는 지난 2월 만취한 여성 승객과의 성추행 문제로 실랑이를 벌이다', '경찰서를 찾았고, 경찰은 DNA 감식 과정에서 검출된 결과와 A씨의 몸에 있는 문신 모양에 대한 성폭행 피해자의 진술을 통해 A씨의 자백을 받아냈다.']\n",
      "['22일 광주시와 전남도.', '기상청 등에 따르면 이달 초 제13호 태풍 ‘링링’의 피해 복구가 한창인 상황에서 또다시 제17호 태풍 ‘타파’가 광주·전남에 많은 비를 뿌려 직격탄을 맞으면서 이에 농민들이 망연자실 해하고 있다.']\n",
      "['<어시스의 마법사>로 세계 3대 판타지 소설에 이름을 올린 거장 어슐러 르 귄 작가의 사색이 담긴 생애 마지막 에세이 <남겨둘 시간이 없답니다', '>가 한국에 출간됐다.']\n",
      "[\"한국무역협회 인천지역본부는 '일본 수출규제 대응 및 통상전략 2020 설명회’를 개최하여, 유관기관과 사전 대응 및 피해 기업에 총력을 기울이고 있다\", \"말했고, 일본 수출규제 관련 피해를 최소화하기 위해 '피해기업 접수 센터'를 운영 중이다.\"]\n",
      "['내년부터 서울 초등학교 3학년생과 중학교 1학년생은 3월 중 표준화된 도구로 기초학력진단평가를 받아야 하며, 초등학교 3학년행은 읽기.쓰기.셈하기능력, 중학교 1학년생은 해당 능력에 국어.', '영어.', '수학 교과학습능력을 평가받으며 진단결과는 평소 학습태도 등에 대한 분석과 함께 보호자에게 통지된다.']\n",
      "['2019학년도 대입 수능 당일 새벽 교육청에 배송된 시험지를 보관 및 감독하던 장학관이 사우나에 갔다', '온 사실이 함께 배치된 교육부 파견 중앙협력관의 제보로 드러나 교육 당국이 감사에 들어가 해당 행위가 근무 태만에 해당하는 것으로 보고 징계의결 요구 수위를 검토 중이다.']\n",
      "['스포츠 브랜드 노이타는 건강하고 밝은 이미지가 동사 제품과 잘 맞으며 브랜드 인지도 향상과 이미지 제고에 크게 이바지한 가수 추화정과 전속 모델 계약을 1년 더 연장했다고 전했으며  그녀는 브랜드 홍보에 최선을 다하겠다', '”고 소감을 밝혔다.']\n",
      "['대구시는 올해 1월15일부터 2월14일까지 공동주택 공동체 활성화사업을 공모해 37개 사업을 신청받아, 심사를 거쳐 16개 사업, 총 사업비 9천500여 만원을 지원키로 결정했으며 선정된 사업중 동구 대구혁신도시서한이다', \"음의 '다정한 이웃, 사람중심 행복한 대구혁신도시 서한이 다음'이 가장 높은 점수를 받은바 있다.\"]\n",
      "[\"사단법인 한국미술협회에서 주최하고 대한민국 미술대전 비구상·구상부문 운영위원회에서 주관하는 행사인 '제 38회 대한민국 미술대전'에서 구상부분(한국)에 금호동 주민 자치센터 한국화반 수강생들이 대거 입상했다.\", '김진식 금호동장은“대한민국 최고 권위의 미술대전에서 대거 입선해 금호동주민자치센터의 명성을 전국에 알린 한국화반 수강생 모두에게 축하와 격려의 말을 전한다”며“앞으로도 다양한 여가활동 보장과 문화생활 향유를 위해 노력해 나가겠다”고 말했다.']\n",
      "['이번 광주세계수영대회에서  하이다', '이빙 경기를 총괄하는 이종희 담당자는 현재까지 시설이나 선수가 전혀 없는 하이다', '이빙 종목을 모두가 사랑하고 즐길 수 있는 스포츠로 성장시키고 싶다고 포부를 밝혔다.']\n",
      "['주민들의 사랑방 역활을 했던 미용실이 전시장으로 변신하고 있다.', '두발과 외모를 아름답게 해주던 미용실이 인간의 욕망과 집착을 담은 작품들은 선보이며 아울러 컬러 자화상 그리기 및 뷰티메이크엎 행사도 열린다']\n",
      "['오는 3월부터 한방추나요', '법에 건강보험이 적용되면서 환자의 본인부담금이 감소하는 만큼 추나 이용 환자의 증가가 예상됨에 따라 대전지역 한의학계의 기대가 높아지고 있다.']\n",
      "[\"빅뱅의 승리가 사내이사로 있었던 클럽 버닝썬에서 ' 물뽕 성폭행' 의혹이 불거졌다.\", '물뽕을 마시면 15분 안에 의식을 잃고, 이후 일어난 일도 전혀 기억을 못한다고 한다.', '한 보도에 따르면 버닝썬 직원이 서울에서 대마초를 팔다 사법처분을 받았다고 한다.']\n",
      "['백운산 계곡 불법평상대여와 바가기 상흔으로 인한 피서객의 불만이 청와대 게시판에 올라왔다.', '현수막 몇개 걸고 보도자료나 뿌리는데 그치지 말고 현실적인 대책 마련이 절실하다.']\n",
      "['이번 광주수영세계선수권대회에서 최고 관심종목인 하이다', '이빙 경기가 36명의 선수가 출전한 가운데 22일부터 24일까지 사흘간 조선대학교 경기장에서 진행된다.']\n",
      "['여론조사 전문기관 리얼미터가 전국 19세 이상 유권자 2천18명을 대상으로 실시한 문재인 대통령 국정수행 지지도(긍정평가)결과 지난주보다 1.7%포인트 상승한 49.1%으로  7주 연속 40%대 후반을 유지하다', '50%에 육박했다.']\n",
      "['A양이 가족여행 중에 친어머니와 의붓아버지에게 살해당한 후 저수지에 버려졌다.', 'A양은 지속적인 학대를 두 번이나 알렸으나, 법으로부터 제대로 된 보호 조치를 받지 못했다.']\n",
      "[\"인천시 서구가 14일 경인아라뱃길 시천나루에서 음식점과 숙박시설의 정보를 제공하는 무인정보안내시스템인 '맛집 정보안내시스템(키오스크)' 구축 제막식과 함께 시연회를 열고 서구를 방문하는 나들이객의 음식점과 숙박시설 이용을 유도하겠다\", '밝혔다.']\n",
      "['대한빙상경기연맹 관리위원회는 지난달 24일 충북 진천선수촌에서 여자 선수 숙소동에 들어갔다', '적발된 쇼트트랙 대표팀의 김건우에 대해 출전정지 1개월과 그의 출입을 도운 김예진에겐 견책 처분을 내리고  퇴촌과 동시에 각각 재입촌 금지 3개월, 1개월의 징계도 내렸다.']\n",
      "['부산 사하경찰서는 지난 16일 오후 7시 20분 사하구 괴정사거리에서 신호등 정지 신호를 피하려고 진로를 변경하며 주행하다', '6중 추돌사고를 일으킨 김모(48) 씨를 교통사고처리 특례법 위반 혐의로 불구속 입건했다.']\n",
      "['지난 15일 취임한 김태봉 대덕대 총장은, 이날 기자 간담회에서 2013년부터 시작된 교직원 임금 문제는 상당한 재정 투입이 요구되지만 여건이 허락되는 범위 내에서 우선 순위로 해결해 나갈 것이며, 4차산업혁명시대에 걸맞는 중장기 대학발전계획 역시 재수립해 나가겠다', '다고 밝혔다.']\n",
      "['여주시는 지난 11일 한국콜마 여주아카데미연수원에서 ‘모든 세대가 함께 행복한 여주 만들기’라는 주제로 인구정책 시민토론회를 열었다.', '시민토론회는 ‘청년정책과 여성정책’이란 주제를 사전 선정해 신청을 받고 현장 접수 등을 통해 20대 초반 청년부터 70대 노인까지 각계각층 70여 명의 시민들이 참여해 3시간 동안 전문 퍼실리테이터의 진행과 함께 열띤 토론을 펼쳤다.', '이번 토론회를 계기로 시는 사람이 살기 좋은 여주 만들기를 위한 주제를 선정해 시민이 참여하는 인구정책 토론회를 개최할 계획이며, 각계각층 시민의 의견을 받는 인구정책 창구를 일원화할 것이라고 밝혔다.']\n",
      "[\"지난 2일 KBS 2TV ‘살림하는 남자들 시즌2'에서 최민환과 율희가 아들 재율을 데리고 계획에 없던 쇼핑을 하다\", '지쳐버려 넉다운되는 모습을 방영했다.']\n",
      "['대전에서 무면허 운전을 하다', \"사망사고를 일으킨 10대 운전자에 대한 첫 공판이 17일 열리며, '대전 머스탱 사고'로 알려진 이 사건은 무면허로 머스탱 차량을 운전하던 A(17)군이 지난 2월 중구 대흥동에서 연인 관계에 있던 B씨와 C씨를 덮쳐 1명이 숨지고 다른 1명은 중상을 입은 사고로 이번 공판은 대전집버 형사6단독(부장판사 믄홍주)으로 진행될 예정이다.\"]\n",
      "['대구의 프리미엄 라인인 달구벌대로 2호선 라인, 역세권인 만촌역 서한이다', '음, 청라언던역 서한이다', '음 모두 주위에 편의시설이 있고, 중심 브랜드 타운라인에 서게 돼 수요자들의 관심이 집중되고 있다.']\n",
      "['서울호서예술실용전문학교 반려동물학과 계열 학생들이 7일 관세청장배 탐지견 경진대회의 8개 학교 40개 팀 중 최고의 수상 성적을 내어 종합 우승을 차지하였으며, 해당 학교는 여러 반려견관련학과가 있고, 면접으로만 학생을 선발하고 있다', '밝혔다.']\n",
      "['광주 동성고가 황금사자기에서 질주를 이어간다.', '주말리그에서 선수들의 자신감있는 플레이로 12연승을 했고.', '황금사자기를 통해 또 다른 연승에 도전한다']\n",
      "['유엔식량농업기구에서 발표한 세계식량가격 지수는 안정세로 전환되었다.', '유제품은 상승하고 육류는 유지되었고 유지류와 곡물 그리고 설탕의 가격이 하락했지만 전체적인 곡물 생산량과 소비량이 맞아 떨어지고 있다.']\n",
      "['국제수영연맹이 주관하는 하이다', '이빙 예선이 국내에서는 처음으로 조선대 운동장에서 개최돼 국내외 관람객들에게 즐거운 볼거리를 제공했다.']\n",
      "[\"딸의 그림을 자신의 인스타그램에 게시해 관심을 끌었던 장범준은 '슈퍼맨이 돌아왔다'에서 딸 장조아 양과 아들 장하다\", '군과 함께하는 육아 일상을 공개할 예정이다.']\n",
      "['개인사업부터 봉사와 의정활동까지 열정적이었던 전 당진시의회 황선숙 의원이 지난해 6.13 지방선거 이후 위암 투병하다', '암세포가 전이되어 향년 59세의 나이로 별세했다.']\n",
      "['지난달 2일 민·관의 협력으로 전남 신안군 도초도에 한국 최초 덴마크형 사회교육 모델인 ‘섬마을 인생학교’가 열렸는데, 바깥 세상에서 잃어버린 것들을 내 안에서 찾아내고 인생을 돌아보며 미래를 설계하는 성인용 평생(사회)교육과정으로 참가자들의 높은 만족도에 입소문이 나 인기를 끌고 있다.', \"신안군은 덴마크형 사회교육 모델인 '인생학교'를 도초도의 옛 서초등학교에 열었고 신안군수를 통해 '세상의 거친 풍파로 잃어버린 희망 등을 다시 내 안에서 찾을 수 있다.' 며 소개되었다.\"]\n",
      "['고흥의 대표 농산물 중 하나인 마늘이 수확기에 들었지만 껍질 안쪽이 색이 변하고 물기가 있어 상품가치가 없는 현상이 생기고 있다.', \"이는 농협이 보급한 '스페인 종자'의 '대서 마늘'품종에서 발생하는것으로 보인다.\", '이에따라 농가는 농업 재해로 규정하여 보상을 요구하고 있고 관계자는 조사가 필요하다', '전했다.']\n",
      "['가정의 달 5월을 맞아 영동천 하상주차장에서 브랜드 이미지를 높이기 위해  MBC 가요', '베스트가 열리며 MC 조영구, 조정민 씨의 사회로 설운도, 김혜연, 문희옥, 배일호, 정수라, 강진, 유지나 등 20여 명의 유명 가수들이 총출동해 열정과 희망의 무대를 선보인다.']\n",
      "[\"대한민국 대표팀으로 소집돼 U-20월드컵에서 한국 대표팀의 결승 진출을 견인한 국민영웅 이강인의 할머니 김영례씨는 '강인이가 초등학교 2학년 때 강진에 내려와 축구를 했었다'며 그때도 사람들이 '축구신동'이라고 말했다.\", \"' 고 했다.\"]\n",
      "['ONE Championship 2승을 모두 1라운드 KO승한 권원일(23)이  데뷔 후 가장 어려운 상대 고요', '미 마쓰시마(27)와 페더급 경기를 갖는데 세 번째 1라운드 KO승 도전을 해 결과가 주목된다.']\n",
      "['유학원들은 문턱이 낮은 해외 의대를 통해 한국에서 의사가 될 수 있다', '홍보하지만 실제 이를 통해 한국에서 의사가 된 사람은 많지 않다.']\n",
      "[\"광명시에서는 홀몸노인 공동가구 '동행'이라는 저소득 주거취약계층 홀몸노인에게 거주지를 마련해 양질의 주거서비스를 지원하는 '홀몸노인 공동가구 시범사업'을 실시하고 있으며, 외로움과 고독감을 해소해 건강한 노후생활을 영위하는데 도움을 주고자 시행했다\", '말했고, 공동가구 주변에는 행정복지센터와 종합사회복지관이 있어 경로식당 무료급식과 같은 복지서비스 연계가 용이해 1석2조의 효과를 볼 수 있다.']\n",
      "['태풍 다나스가 북상함에 따라 영향권에 들 것으로 보여 2019광주세계수영선수권대회 조직위원회는 21일 태풍이 지나갈 때까지 열리는 오픈워터수영과 수구, 하이다', '이빙 등 경기와 각종 시설에 대해 만반의 대책을 세우고 있다.']\n",
      "['곽대훈 한국당 대구시당 위원장은 패스트트랙으로 인한 국회의 운영이 잠시 중단된 가운데 대구·경북(TK) 자유 한국당 의원들이  지금 중요한 것은 민생경제이니 지역구 의원들의 민생현장 방문을 주문하고 있다', '”고 말했다.']\n",
      "['인간다', '운 삶, 공존의 시대라는 주제로 진행된 제10회 전국 기초단체장 매니페스트 우수 사례 경진대회에서 시흥시가 지역사회 건강한 놀이문화 확산이라는 주제로 시흥 캠페인을 전개하면서 지역 문화 활성화분야 최우수상을 수상했다.']\n",
      "['10년 넘게 방치돼 있던 장항선 폐철도가 태양관 발전시설을 갖추고 신재생에에너지를 생산하는 친환경 녹색 공간으로 탈바꿈하여  자전거.', '보행자도로를 완공했고 폐철도를 활용한 전국 첫 사례이다.']\n",
      "['광주시가 산업통상자원부의 2019년도 지역산업거점기관지원사업인 ‘대용량 전력 저장용 레독스흐름전지(RFB)인증센터 구축 사업’에 최종 선정되었다.', '시험인증센터가 광주에 구축된다면 레독스흐름전지와 에너지저장장치 관련 기업이 따라서 광주로 이전되는 효과와 함께 일자리가 새로 생겨나는 등 경제효과 또한 기대하고 있다.', '또한 광주시는 남구 도시첨단 사업에 멀티터미널 직류배전 플랫폼 구촉사업에 2000억원을 투입하는 등 사업 추진에 적극적이다.']\n",
      "[\"대전 지역의 한 대학에서 여전히 존재하고 있는 '선,후배간 군기문화'에 대하여 고발한 실태는 한 학생의 실례를 통해 그 일들이 불합리하고 부조리한 일이었음을 알려주고 있다.\", '대학 관계자들은 이러한 일들이 반복되지 않고 대책들이 만들어질 것이라고 강조했다.']\n",
      "['더불어민주당이 내년 총선 공천 심사에서 탈당 감산 기준을 ‘최근 4년 이내 탈당자’로 제한하고, 탈당 횟수는 감산 기준에서 배제하기로 결정하여 상습탈당자도 4년만 지나면 감점을 받지 않게 되어 무분별한 출마에 따른 탈당 경력자들을 엄벌하겠다', '던 방침은 크게 변질됐다.']\n",
      "['장기침체에서 벗어나려면 해로운 기업을 구조조정하고 경제활동을 제약하는 규제를 없애 자원이 효율적으로 사용되고 개인과 기업의 경제 활동을 유인해야 하는데 일본의 실패를 타산지석으로 삼아야 할 판에 혈세를 퍼붓는 정책을 하겠다', '니 답답할 뿐이다.']\n",
      "['합덕 소망교회의 최연순 담임목사 간 이식 수술비 5000만 원과 관련 본지 1일  사랑을 나눠주세요', '<엄마를 살릴 수만 있다면…> 기사가 보도된 이후 따뜻한 온정의 손길이 계속되고 있다.']\n",
      "['평소와 다르게 눈이 가렵다', '거나 눈곱이 많이 낀다면 알레르기 유발 물질이 눈의 결막에 붙어 염증을 일으키는 알레르기 결막염을 의심해봐야 하며 추가적으로 눈꺼풀의 가려움, 결막의 충혈, 눈의 화끈거림을 동반한 통증, 눈물흘림 등의 증상이 생겨날 수 있다.']\n",
      "['서천 92세의 할머니가  손자.', '손녀가 명문 대학을 입학한 기념으로 다닌 학교에 장학금을 전달한 기부 사연이 잔잔한 감동을 주고 있다.', '할머니는 남편의 유지를 받들어 서천에 1억을 기부했고 서천사랑장학회에 500만원도 전달했다.']\n",
      "['경기도교육청은 사립유치원 전수감사를 통해 처분이 확정된 유치원 20곳의 명단을 교육청 홈페이지에 추가 공개하고 세금 탈루가 의심되는 19곳에 대해서는 국세청에 통보할 예정인데, 현재까지 원아 수 200명 이상 대형 유치원 120곳 중 112곳에 대한 감사를 완료했으며, 이달부터 원아 수 100명 이상 200명 미만의 사립유치원 397곳을 대상으로 감사가 진행되고 있다.', '경기도교육청은 원아 수 200명 이상의 대형 유치원 120곳을 대상으로 진행한 감사 결과, 처분이 확정된 유치원 수원 6곳, 김포 4곳 등 20곳의 명단을 공개하고 세금 탈루가 의심되는 19곳을 국세청에 통보할 것이라고 밝혔다.']\n",
      "['5·18역사왜곡처벌 광주운동본부가 5·18 망언을 일삼은 자유한국당 3인 국회의원들(김진태, 이종명, 김순례 의원)의 퇴출을 강력히 촉구했다.', '요구를 관철하기 위해 오는 9일 전국동시집회를 시작으로 23일 전국범국민대회를 통해 끝까지 투쟁할 것이다', '”고 밝혔다.']\n",
      "['여수시가 한국지방자치경영대상 시상식에서 열린 혁신부문 대상을 차지했다.', '사랑방좌담회 도입,열린 청원제도,기초단체 매니페스토 우수사례 등이 평가를 받았고 정부혁신 평가에서는 전남에서 유일하게 총리상의 영예를 안았다.']\n",
      "['그룹 아이콘이 오는 7일 발표하는 리패키지 앨범의 트랙리스트를 공개하였으며, 엘범에는 신곡 ‘I’M OK’와  ‘사랑을 했다', '’, ‘죽겠다', '’, ‘이별길’ 등 총 23곡이 수록, 또한 아이콘은 오는 6일 서울 송파구 KSPO DOME(올림픽체조경기장)에서 앵콜 콘서트를 진행할 예정이다.']\n",
      "['윤경환 관장은 2014년 선수 생활 은퇴 후 당진시체육회 복싱코치로 일하다', '복싱의 대중화를 위해 Y복싱클럽을 열고 일반 시민들에게 복싱을 지도해오다 이번에 제22호 당찬사람들로 선정되었다.']\n",
      "['매년 해외 어린이들에게 나눔의료를 시행하는 경북대병원이 소아청소년과 김여향 교수의 제의와 경북대병원 공공보건의료사업실 주관으로 지난 4월 17일 2016년 카자흐스탄 선천성 심장병 해외의료봉사 대 수술을 했던 아이다', '(여·5)를 초청해 두 번째 수술을 통해 두 개의 심실을 선물했다.']\n",
      "['강열 광주환경공단 이사장 후보자가 시민사회단체 이사장으로 활동하면서 규정을 위반해 급여를 받은 사실이 드러나 광주시의회 인사청문특별위원회는 12일 김 후보자에 대한 인사청문회를 실시했다.', '또한, 김 후보자의 경영능력에 대한 의문도 제기됐다.']\n",
      "['공군에서 연구 개발 중인 항공기를 테스트하는 최초의 여성 개발시험비행 조종사로 선발된 정다정 소령(진)은 2021년 시제 1호기가 나올 한국형 전투기 등 신규 개발 항공기에 탑승해 고난도 임무를 수행하는 정예요', '원으로 활동하게 된다.']\n",
      "[\"20일 한국서부발전은 미국 전력연구소(EPRI) 및 현지 발전사들과 '글로벌 정비관리 플랫폼(Global PM 플랫폼)'을 개발 중이라고  밝혔는데, EPRI의 정비기준 개발 전용 시스템 PMBD와 서부발전의 현장 정비관리 전용 시스템 WP-PM을 연계해주는 역할을 할 이 Global PM 플랫폼을 2020년까지 개발 완료할 예정이라고 한다.\", '한국서부발전은 20일 전력산업 기술 개발을 위해 1913년 설립된 비영리 컨소시엄 연구소 EPRI 및 현지 발전사들과 함께 2020년까지 두 기관의 중요 시스템인 WP-PM을 연계해주는 역할을 하는 글로벌 정비관리 플랫폼인 Global PM을 개발할 예정이다.']\n",
      "['고장 순천시 월등면에서 ‘제16회 순천명품 월등복숭아 체험행사’가 3일과 4일 이틀 동안 월등면행정복지센터와 월등초등학교에서 개최되며,  MBC가요', '베스트 축하공연과 복숭아 막걸리, 병조림, 복숭아 당도 맞추기 등 다채로운 체험 프로그램이 준비되어 있다.']\n",
      "['지난 30일 방송된 고품격 토크쇼 MBC ‘라디오스타’에 출연해 “진정한 나를 찾고 자유롭게 살고 있다” 고 근황을 밝힌 오정연은 내가 진짜 뭘 하고 싶었지 생각하다', '보니 주위 시선에 신경을 안 쓰고 \"직접 지원을 해서 면접을 보고 카페 아르바이트를 하게 되었다\"고 말했다.']\n",
      "['2019광주세계수영선수권대회 조직위원회에 따르면 종목별 입장권 판매율을 분석한 결과, 하이다', '이빙이 전체 입장권 판매율 중 96%를 차지해 최고 인기종목인 것으로 나타났다.']\n",
      "[\"호남대학교가 개교 50주년인 2028년까지 대학교육과 산학연구, 국제연략, 학생지원,  대학경영 등의 5대 부문에서의 혁신을 통해 교육가치 창출 1위대학이 되겠다는 목표를 갖고, '호남대 vision 2028'을 발표하였으며, 대학교육 혁신으로 세상을 바꿀 수 있는 융복합대학으로 거듭나겠다는 비전을 밝혔다.\", '호남대는 이를 위해 대학교육 혁신, 산학 연구 혁신, 국제역량 혁신, 학생지원 혁신, 대학경영 혁신 등 5대 혁신 발전전략과 함께 20개의 전략과제를 세부적으로 발표하였다.', \"박상철 호남대 총장은 'vision2028'을 통해 호남을 대표하는 5차산업혁명 혁신선도대학으로서 지역과 국가발전을 이끌어 갈 창의 융합형 인재를 양성하기 위해 이를 수립했다고 밝혔다.\"]\n",
      "['광주·전남 지역에 장마전선과 북상 중인 제5호 태풍 ‘다나스(DANAS)’의 영향으로 인해 이번 대회 최대 흥행 종목인 하이다', '이빙 경이를 포함해 2019 광주세계수영선수권대회에 비상이 걸려  조직위 시설팀 한 관계자는 “태풍의 경로가 유동적이기 때문에 우리나라를 피해 가길 바라고 있다”며 “당일 날씨 상태를 확인해 FINA 기술위원들이 진행 상황을 결정할 것으로 보인다.\"고 밝혔다.']\n",
      "[\"광주시의회 이경호 의원은 19일 문화관광 체육실 추경안 심의에서 ''e스포츠 상설 경기장이 ‘반쪽짜리’ 경기장으로 전락할 우려가 있다\", \"''며 광주시가 경기장에 연간 12억 원의 운영비를 부담하나 매출액 산정의 명확한 기준을 세우지 않았다고 지적했다.\"]\n",
      "['최근 미국 그랜드캐년을 여행하다', '추락해 의식불명에 빠진 박준혁 씨의 사연이 알려졌는데 관광회사 측은 박씨가 안전지시를 따르지 않았다고 주장하는 반면 박씨 가족들은 평소 신중한 성격의 박씨가 안전지시를 따랐을 것이라는 주장을 하고 있으며 이 같은 사연이 담긴 국민청원에 22일 현재 1만1600여 명이 동의했다.']\n",
      "[\"경기도와 경기도경제과학진흥원이 주관하는 '2019 공유기업 발굴 & 육성 사업'의 지원을 받는 온다\", '루프는 유휴공간인 루프탑을 활용하고 싶은 소유주와 이용하고 싶은 소비자들에게 위치기반으로 대여 가능한 루프탑 정보를 매칭해주는 옥상공유 플랫폼이다.']\n",
      "['충청북도는 지역실정에 맞는 외국인 환자 유치사업 역량 강화 및 지자체별 특화 의료기술 발굴·지원을 위해 보건복지부에서 공모하여 국비 7500만 원을 확보하여 지역 특화 의료기술 발굴·강화하였다.', '이는 지역 의료 수준 향상, 해외 시장에서 의료 기술 경쟁력 강화, 의료기관 외국인 환자 유치 등으로 지역경제가 활성화 될 것을 기대하고 있다.']\n",
      "['광주북부경찰서는 9일 윤창호법 시행으로 음주운전단속이 강화된 가운데 광주에서 음주상태로 운전을 하다', '사고를 낸 무면허 운전자를 구속하고 차량까지 몰수하였으며 운전자들은 경각심을 일깨우지 않고 사고가 잇따라 적극적으로 차량 압수 조치를 시행할 예정이라고 밝혔다.']\n",
      "['당진시건강가정지원센터는 아이돌보미 양성교육을 통해 부모의 맞벌이 등으로 양육 공백이 발생한 가정의 만3개월 이상부터 만12세 이하 아동을 아이돌보미가 직접 찾아가 돌봐주는 아이돌봄서비스를 제공하는데 이는 연중 24시간 원하는 때에 언제든 이용 가능하다.', '아이돌봄서비스(지원사업)란 다.']\n",
      "['최근 10년 동안 폭염과 열대야 지속일이 갈수록 증가하고 있는 가운데 폭염특보가 20일 이상 지속중이다.', '이에 광양시에서는 폭염으로 인한 시민들의 불편을 최소화하기 위해 지난해에 이어 도시공원 분수 시설 운용, 그늘막 설치 등을 확대하고 있다.']\n",
      "['경남 밀양강 둔치 특설경기장에서 열린 제1회 밀양시장배 전국승마대회에서 고령군 대가야기마문화체험장 대가야유소년승마단이 권승경기, 거북이달린다,', '릴레이코스경기 등 여러 종목에서 4명이 출전해 창단 1년만에 전원 입상하는 쾌거를 거뒀다.']\n",
      "['지난해 9월 27일 오후 6시 20분에 대구시 북구 도로에서 음주운전을 하다', '주변에 있는 차를 들이받고 달아나다 붙잡힌 A씨가 지난해 12월 5일 대구지검에 조사를 받으러 가면서도 검찰청 민원인 주차장까지 음주운전을 하여 대구지검이 상습적으로 음주운전을 한 혐의로 구속하기로 했다.']\n",
      "['광주시의 이용섭 조직위원장은 2019광주세계수영선수권대회를 성공적인 대회로 치르기 위해 최선을 다한 것에 대한 공로로 국제수영연맹(FINA)로부터 감사패를 받아 대회의 성공적인 개최를 한 것에 대한 노력을 인정받았다.', '이용섭 조직위원장은 “광주가 이번 세계수영선수권대회를 통해 FINA와 뜻깊은 인연을 맺게 돼 더없이 기쁘다”면서 “저와 150만 고 밝혔다.']\n",
      "['전남도와 광주상공회의소는 오는 9월 6일까지 광주상공회의소 1층에서 직원과 회원사를 대상으로 우수 농수특산물을 판매한다.', '이번 캠페인은 추석이 농식품 소비에 큰 비중을 차지하는 중요한 시기인 만큼 기업이 전남 농식품 소비 촉진에 적극 동참하도록 하기 위한 것이다.']\n",
      "['여름 휴가철을 맞아 전국의 해수욕장에서 바가지요', '금 단속이 추진되나, 단속 효과는 미비할 것으로 보여 현실적인 대책 마련이 필요하다.']\n",
      "['전남은 전국에서 해양 길이당 쓰레기 분포 조사 결과 제일 많은 것으로 나타났다.', '이에따라 김역록 지사는 2022년까지 해양쓰레기 제로화에 나섰고 정화운반선 지원 확대등 국고 보조율 상향을 해야 한다는 목소리도 높아졌다.']\n",
      "['김영록 전남지사가 3차례 태풍후 피해 벼에 대해 철저한 품질관리를 부탁하였다.', '피해를 입은 벼에 대해서는 적극적으로 도움이 되도록 지도해나갈 계획이라 하였다.']\n",
      "['화순 모 보건지소에서 같은 지소로 발령받은 부부가 흉기로 자신의 아내를 찌르고 자신도 흉기로 찌른 뒤 자해해 사망하는 사건이 일어났다.', '두 사람은 최근 이혼한 사실을 바탕으로 범행 동기를 파악, 유족들과 주변인들을 대상으로 정확한 사건 경위를 조사할 예정이다.']\n",
      "['지난4일치른 19년도 대학수학능력시험 6월모의평가는 지난해 수능에 비해 표준 점수 하락이 예상되며, 가채점 결과 분석에 따르면 영어영역 1등급(90점이상) 학생수는 전체 7~8%로 예상된다.', '결과는 25일 수험생에게 통보될 예정이며, 성적통지표에는 영역, 과목별로 표준점수, 백분위, 등급, 영역별 응시자 수가 표시된다']\n",
      "[\"9일 방송된 SBS '그것이 알고싶다'에서는 사라진 세 딸과 과외선생 함명주(가명)의 자세한 이야기를 추적했다.\", '함씨와 관련된 사람들은 죽거나 사라졌고 빚 독촉에 시달리는 경우가 많았으며 방송을 본 누리꾼은 해당 의혹에 대한 수사를 촉구했다.']\n",
      "['자유 한국당 송언석 의원은 28일 우리나라 경제성장률이 10년 만에 최저치 도달이 좌파식 경제 실험이냐고 따졌으며 대통령 취임식에서 언급한 ‘한 번도 경험해보지 못한 나라’의 종착점이 ‘모두 함께 힘들게 사는 나라’는 아니지 않는가?', '”라고 반문하면서 기업의 기(氣)를 북도우는 정책을 추진해 국가 경제회복에 앞장서야 한다”고 주장했다.']\n",
      "['조아-하다', '남매와 아내 송승아 씨가 자외선 차단을 위해 궁중비책 선쿠션을 바르는 일상을 담은 궁중비책 광고 영상이 열흘 만에 유튜브 35만 조회수를 기록하며 화제가 되고 있다.']\n",
      "['전남, 광주에 장맛비가 쏟아지며 물난리 피해가 발생했다.', '게다가 이 상황에서 전남재난안전대책본부 측의 안일한 대처도 논란이 되고 있다.']\n",
      "['23일 환경부의 ‘4대강 조사·평가 기획위원회’가 전날 금강과 영산강의 보 5개 가운데 3개를 해체하고 2개는 상시 개방하는 안을 제시한 것에 대해 민주·평화·정의 등 범진보진영 정당들은 일제히 환영의 목소리를 내며 합당한 조치라고 평가한 반면  한국당은 비판이지만 바른미래당은 지도부 논의를 거쳐 추후 입장을 발표할 예정이다.', '‘']\n",
      "['목면초등학교는 21일 목면초등학교 운동장에서 교직원과 학생, 지역주민 200여명이 참가한 가운데, 1919년 4월5일 태극기를 흔들며 만세시위를 하다', \"일본군의 총탄에 맞아 순국한 목면 출신 권흥규 의사의 숭고한 뜻을 기리기 위해 '순국 100주년 권흥규 의사 제향' 행사를 개최했다.\"]\n",
      "[\"태안군은 지난 29일 군청 대강당에서 관계자 170여 명이 참석한 가운데 교육 발전과 학생들의 올바른 성장을 위하여 '태안군 사랑 장학회 2019년 장학증서 수여식'을 가졌으며 이날 장학회는 엄격한 심사를 거쳐 선발된 초.중.고.\", '대학생 161명에게 총 3억800만 원의 장학증서를 수여했다.']\n",
      "['대구지역 휘발유값이 5주 간 하락세를 보이다', '6주만에 상승하며 1천506.25원을 기록했다.']\n",
      "['18일 서산시는 시의회 제238회 제2차 정례회 5분 발언을 통해 지역 쌀 판매를 등한시하는 대형마트에 문제점을 제기한 안원기 의원과 시 관련 부서의 노력으로 그간 롯데마트 서산점에 여러 번 입·퇴점을 되풀이하다', '작년 10월부터 판매 중단됐던 뜸부기 쌀을 최근 재판매를 시작했다고 전했다.']\n",
      "[\"국립남도국악원은 3일 오후 7시 국립남도국악원 진악당에서 국악연주단의 '국악의 향연' 공연을 선보일 예정인데, 노래·춤·악기의 조화를 이뤄 구성될 본 공연은 무료로 진행으로 공연 당일 오후 6시 20분 진도읍사무소, 6시 35분 십일시 사거리에서 무료 셔틀버스도 운행된다.\", '무료 관람 가능한 국립남도국악원 국악연주단의 ‘국악의 향연’ 공연을 선보인다.']\n",
      "[\"2020년 1월 16일부터 2023년까지 3년동안 전남도체육회를 이끌어가게 될 회장으로 김재무 전 전남도의회 의장이 당선되었고 안정적인 재정 확보로 '튼튼한 전남체육회'를 만들겠다\", \"'고 밝혀 앞으로의 귀추가 주목된다.\"]\n",
      "['한국자살예방협회 및 보건복지부는 자살 예방을 사회적 문제로 인식하여 공동체 노력으로 해결하고자 위험과 예방의 중간다', '리 역할을 통해 자살 예방에 도움을 주는 사람을 일컫는 생명사랑지킴이 교육을 온 국민을 대상으로 펼치고자 한다.']\n",
      "['영화 ‘추격자’가 TV 방영하면서 실시간 검색어에 오르며 관심을 모으고 있는 가운데 한 인터뷰에서 한재덕 대표에게 나홍진 감독 차기작이 우범곤 총기 사건을 모티프로 한다는 그 영화인가?', '”라고 질문하자 나홍진 감독과는 구두로 \"함께 하자\"고 이야기를 나눈 상태라고 답했다.']\n",
      "['당진환경운동연합, 참여자치시민연대 등 14개 단체로 구성된 현대제철 대기오염 대책위원회가 출범하여 연간 대기오염물질 배출량 전국 1위를 기록하고 청산가스를 불법 배출하다', '적발된 현대제철 당진공장을 고발하였다.']\n",
      "['삼성전자는 20일 서울 서초사옥 다목적홀에서 1000여 명이 참석한 가운데 ‘제50기 정기 주주총회’를 개최했으며 김기남 대표이사는 체질개선을 통한 내실 강화를 추진하겠다', '”고 강조했다.']\n",
      "['지난 12일 3월 14일인 화이트데이를 맞이하여 광주신세계가 지하 1층 식품관과 본관 2층에서 시즌에 맞춘 다양한 상품들을 선보이고 있다', '밝혔다.']\n",
      "['당진시보건소는 자격 기준을 갖춘 가구에 대해 매월 기저귀 6만4천원, 기저귀 및 분유 동시 최대 15만원을 지원하는 지원사업을 진행 중이다.', '접수는 보건소 및 각 행정복지센터에서 가능하며, 신청 문의는 보건소 모자건강팀 041)360-6080~4로 문의하면 세부사항을 안내 받을 수 있다.']\n",
      "['18일 TV조선 예능 인생감정쇼-얼마에요', '에 출연한 모델 박둘선과 사진작가 남편 조장석 부부의 과거 러브스토리가 재조명되고 있다.']\n",
      "['가평군 상면에 위치하는 아침고요', '수목원이 한국관광 100선에 선정되었으며 3회 연속 국내 대표 관광지로 선정되었다.']\n",
      "['유곡리에서 나고 10년 간 공직생활을 하다', '결혼 후 30대 초반 다소 늦은 나이에 신학을 배우며 목회활동을 시작한 송악읍 고대리에 위치한 고대감리교회 성일용 담임목사는 1997년 당진시대에 종교칼럼 필진으로, 글을 쓰면서 당진시대와 인연이 닿았다.']\n",
      "['금융위원회와 금융감동원은 지난 31일 투명성과 공정성을 확보하기 위해 인터넷은행 예비인가에 적용할 주요 평가항목 및 배점을 공개했으며 제반 인가요', '건을 충족한 신청자들을 대상으로 외부평가위원회에서 평가를 진행한다.']\n",
      "['매일같이 일만 하다', '일흔이 됐을 무렵 치매 위험 진단을 받은 박막례 할머니를 위하여 손녀는 함께 떠난 여행에서 찍은 영상을 유튜브에 올렸고 그 영상들의 인기가 나날이 높아지며, 할머니의 인생은 완전히 달라졌다.']\n",
      "[\"국회 행정안전위원회가 지난 10일 대구시를 상대로 진행한 국정감사에서 신공항 건설 및 공공기관 낙하산 인사 등이 주요 이슈가 된 가운데, 더불어민주당 김영호 의원이 대구시민들을 '수구'로 지칭한 발언을 했다\", '여야 의원들 간 고성이 오가는 등 소란이 빚어졌다.']\n",
      "['4일 해남경찰서와 해남소방서에 따르면 지난달 30일 오전11시3분 해남군 화원면에 사는 A(79)씨가 실종됐다는 신고가 경찰에 접수되어 경찰과 소방, 육군 등이 투입되어 수색 중 수색 개시 2시간30여분만인 오전 11시35분쯤 군부대 수색견이 A씨의 것으로 추정되는 슬리퍼를 발견한 후 주변을 집중 수색하여 A를 발견했다.', 'A씨는 타박상 및 탈수 증상을 보였으나 그 외 큰부상 없이 발견됐다.']\n",
      "[\"아산시는 '2019년 생생문화재 공모사업'에 선정되어 온주아문에서 관야유적을 기반으로 만든 문화재 체험프로그램 '온주아문 다시 수락하다'를 진행하고 사또 양로연이 뭐예요,\", '온주아문 가족애 통통캠프 등을 운영한다.']\n",
      "['고흥군은 네팔.인도.', '카타르 기업대표와 총 150만불의 수출 협약을 체결하고 고흥 농수특산품 수출 및 판매 확대를 위해 상호 간 적극 노력하기로 합의하여 앞으로 수출 확대를 도모할 수 있는 좋은 기회가 될 것으로 기대하고 있으며, 몽골.체코 등 신규 수출 채널 확대에 대비해 수출경쟁력 강화에 힘쓰겠다고 밝혔다.']\n",
      "[\"지난 14일 서울 리베라호텔에서 열린 '2020 여자실업핸드볼 신입 드래프트'에서 광주시체육회는 사방 돌파 능려깅 탁월하다\", '정평이 나있는 방민서를 지명했다.']\n",
      "['5·18역사왜곡처벌 광주운동본부와 민주노총 광주본부는 지난 14일 자유한국당 전당대회장에서 ‘5·18 망언’ 의원을 규탄하다', '입건된 노조 조합원·학생의 구속영장 철회를 촉구하며 구속영장을 청구한 것은 명백히 과도한 법 집행이자 민주주의에 대한 도전이라고 강조했다.']\n",
      "[\"오는 28일 인천시 동구 동인천역 북광장과 송림아뜨렛길에서는 동구문화예술제와 연계한 '지역 문화예술인들과 함께하는 막걸리 페스티벌'을 개최하며, 공예품 체험 및 판매 뿐만 아니라 가요\", '·민요 공연이 준비될 예정이다.']\n",
      "['스티브 로뷰(34·미국)와 아드리아나 히메네스(33·멕시코)는 국제수영연맹(FINA)에 의해서 2013년 바르셀로나 대회부터 정식 채택된 하이다', '이빙 종목에서 화려한 연기를 펼치며 각각 남자부와 여자부에서 우승을 향해 나아갔다.']\n",
      "[\"선안군은 오는 7일부터 임자도에서 '섬 깡다리' 축제를 개최해 깡다리 요리 및 시식회, 깡다리 가요\", '제 등 다양한 프로그램이 열리며 관광객들을 위한 직거래 판매코너와 홍보전시관을 운영한다.']\n",
      "['2017년 헝가리 부다페스트대회 하이다', '이빙에서 1위를 차지한 호주 선수 리아난 이프랜드가 광주세계수영선수대회에서도 1위에 오르며 2연패를 달성하였다.']\n",
      "['화장실에서 벌을 서다', '숨진 4살 어린이를 양육한 부모가 학대 혐의로 처벌받은 적이 있고 피해 어린이의 야윈 몸과 여러 상처로 미루어 봤을때 열약한 가정환경에서 지속적으로 학대를 당했을 것으로 판단할 수 있다.']\n",
      "['정부는 지자체의 무허가 축사 적법화 담당자가 행정집행을 하다', \"불이익을 받는 일이 없도록 농림축산식품부 등 5개 부처 장관이 합동으로 서명한 '무허가 축사 적법화 추진을 위한 협조문'을 21일 광역·기초지자체장에게 보내기로 했다.\"]\n",
      "['13일 시교육청에 따르면 교실 공기 질 개선을 위해 겨울방학기간 36억원, 올해말까지 168억원을 투입해 대구 유.초.중.고.', '특수학교 전 학급에 공기정화장치를 보급한다.']\n",
      "['캄보디아 프놈펜으로 봉사활동을 실시하다', '복통을 호소한 건양대 학생 2명은 병원에서 치료를 받던 중 9일 오후, 10일 오전 각각 사망했다.']\n",
      "['전남대학교는 1980년 시민군으로 활동하다', '5월27일 새벽 계엄군의 전남도청 진압을 막기 위해 최후까지 저항하다', '총상을 입고 사망한 고 유영선씨의 명예졸업증서를 유족 고인의 형수 신애덕씨에게 2018학년도 전기학위수여식에서 전달했다.']\n",
      "['2019광주세계수영선수권대회를 위해 임시시설로 설치한 경기장을 철거하게 되면서 많은 사람들이 아쉬움을 표현했으며, 가장 먼저 하이다', '이빙 경기장이 철거될 계획이다.']\n",
      "['전남 순천경찰서는 도피생활 중 중국 본사 책임자와 연락하며 도박사이트를 새롭게 개설해 운영하다', '검거된 총책 P(42), 각각 전남 일대 도박사이트를 관리하던 전남지사 관리책, 광양 도박장 운영자 P씨와 Y씨 등 일당 3명을 150억 대 사이버 도박장을 개설해 도박공간을 제공한 혐의 등으로 붙잡아 조사하고 있다고 17일 밝혔다.']\n",
      "[\"광주시 동구는 '아이 키우기 좋은 동구'를 목표로 생활환경.안전.교육환경.보건복지.\", \"놀이권 보장을 위한 5대 분야별 '동구형 아동친화도시 종합계획을 수립하였으며, 계획에는 5대영역 20개 아동친화도시 세부사업이 포함됐다.\"]\n",
      "['학위 취득 유예제가 감소하고있다.', '학생들의 경우 졸업을 늦춰봤다', '들어가는 비용과 비교해 실익이 없고 학교의 경우 교수 1인당 학생 수가 늘어나 각종 평가에서 불리한 요인이 될 있기 때문인것으로 보인다.']\n",
      "['인천의 사립유치원 248곳 중 44.4%에 해당하는 110곳이 유치원 회계로 만기환급형 보험금을 납부하다', '적발됐으며 이에 감사원은 변칙 적립 용도로 사용한 보험금을 세입처리하라고 요청했다.']\n",
      "['프로축구 K리그2 전남 드래곤즈가 지난 19일 전남 광양전용구장에서 아산 무궁화와의 경기에서 브루노 바이오의 대뷔골과 정재희의 쐐기골을 앞세워 2대0 승리를 거뒀다.', '이는 전경준 감독 대행 체제에서 처음 울리는 승전고이다.']\n",
      "['2019광주세계수영선수권대회가 초반의 부진을 딛고 대회 인기종목인 경영과 하이다', '이빙 경기에서 입장객 누계 20만명을 돌파하는 등 막판 흥행 열기를 이어가고 있으며 세계신기록 달성을 비롯한 스타 플레이어들의 금빛 레이스, 새로운 슈퍼 루키 등장 등이 연출되면서 관심이 높아진 것으로 분석되고 있다.']\n",
      "[\"22일까지 북구에서 '지방규제 개선 아이디어'를 공모한다.\", '접수된 아이디어는 6월 중 제한심사위원회에서 제안 등급을 정해 북구청장상과 함께 부상을 지급한다.']\n",
      "['광주문화예술회관 대극장에서 정기연주회를 개최한다.', '첫곡 영웅행진곡을 장식으로 오케스트라와 오르간 만남으로 음악체험을 선사할 예정이다.']\n",
      "[\"8일 오후 방송되는 MBC '생방송 오늘저녁'은 나 혼자 간다\", '코너를 통해 거제 여행을, 가화맛사성 코너를 통해 52년 전통, 홍어 한상 맛집을 소개한다.']\n",
      "['청담동 주식부자 이희진 씨의 부모를 살해한 김씨는 이희진 씨의 동생 이희문씨가  부가티를 판 대금 중 부모에게 전달된 5억원을 훔친 것으로 드러났다.', '이수정 경기대학교 범죄심리학과 교수는 이희문씨가 전달한  5억원이 집에  있었다는 사실을 알 정도라면 김씨와 이희문씨는 무연고일 가능성이 희박하다고 언급했다.']\n",
      "['장마철에 접어들면서 고온다', '습한 날씨가 이어질 것으로 예상됨에 따라 음식 적게 조리해 바로 먹기, 어패류 반드시 익혀먹기, 청결한 손씻기 등으로 식중독 예방에 신경써야한다.']\n",
      "['송산면 유곡리 이장 최승영 씨와 아내 김귀선 씨, 아들 최재민 씨가 운영하는 식당 온다', '미로와 카페 하인츠는 감각적인 콘테이너 하우스로 지어져 관광객들을 초대하고 있다.']\n",
      "['대구지방기상청에 따르면 주말 대구,경북은 일본 오키나와 남쪽 약 470km 부근 해상에서 발생한 타파의 영향권에 들면서 많은 양의 비가 내릴 전망이며, 21일에는 북쪽 상공에서 남하하는 찬 공기와 태풍에 의해 유입되는 남쪽의 고온다', '습한 공기가 만나 발생한 강한 비 구름대의 영향을 받는다.']\n",
      "['2019광주세계수영선수권대회 개·폐막식이 7월12일 광주여대 유니버시아드 체육관, 7월28일 국립아시아문화전당 예술극장에서 열린다.', '한편 사전 붐업 조성을 위해 오는 4월28일 sbs 인기가요', '슈퍼콘서트를 준비 중이다.']\n",
      "['인천시 옹진군은 도서지역 자립을 위한 도서특성화 사업을 진행하며 향토음식 및 지역 특산품을 개발하여 관광객과 섬 주민 모두에게 이익이 되는 일석이조의 사업을 활성화 할 수 있도록 지원하겠다', \"'고 밝혔다.\"]\n",
      "[\"(재)군포문화재단이 수리산상상마을에서 진행하는 미디어아트 기획전시 '모두 잠든 밤, 빛을 주우러 가자'가 어린이들에게 새로운 경험의 기회를 제공하여 일 평균 240명의 관람객이 찾았고.\", '오픈 40여일 만에 관람객 수 1만 명을 넘었다.']\n",
      "['전동평 영암군수가 문화체육관광부장관으로부터 공로상을 수상했다.', '민속씨름의 전통을 지켜 현대코끼리씨름단이 해체 위기에 있을때 인수를 했고.', '씨름 다큐멘터리를 제작 방송함으로 씨름의 가치를 재조명하고 우리 씨름의 재도약을 도운 공로를 인정 받았다']\n",
      "['광주시 어등산 관광단지 조성사업을 두고 광주도시공사와 우선협상대상자인 서진건설과 최종 사업협약 체결절차에서 이견이 좁혀지지 않고 있다.', '공모지침에는 최종 협약체결 대상자는 사업이행보증금으로 전체 사업비의 10%(480억원)를 10일 이내에 납부해야 하지만 서진건설 측은 3단계로 나눠 분할납부하겠다는 제안을 하며 이견이 좁혀지지 않아 사업 자체가 좌초될 가능성이 제기되고 있다.']\n",
      "['순천시는 타지역에 거주하다', '순천에 터를 잡고 살게 된 이야기를 공모전을 통해 모으고, 옛 선조인 입향 성씨(入鄕 姓氏)에 대한 내용으로 함께 구성한 ‘순천에 뿌리내린 사람들’이라는 정착 사례집을 발간했는데, 순천 방문의 해를 맞아 전국의 관계 기관, 도서관 등에 배포될 예정이다.']\n",
      "['2019 광주세계수영선수권대회가 중반을 넘어서면서 경영과 하이다', '이빙에 많은 관중이 몰리며 초반 흥행 부진에서 벗어나 폐막일인 28일까지 막판 흥행몰이를 할 것으로 보인다.']\n",
      "['손혜원 의원은 목포 부동산 투기 의혹을 처음 보도한 SBS 기자 9명을 고소하고, SBS ‘끝까지 판다’ 에서 손 의원이 차명 구입해 4배 이상 시세차익을 봤다', '’는 취지의 보도를 다룬 것에 대해 이는 명백한 허위사실이라고 주장하며 SBS와 양측의 공방이 이어지고 있다.']\n",
      "['2019 광주세계수영권선수대회에서 관심을 많은 받은 실외 종목(워터 수영,수구,아이다', '이빙)이 태풍이 오기 전에 무사히 경기가 진행됐다.']\n",
      "['광양시는 지역경제를 되살리기 위한 구봉산 관광단지 조성 산업 추진 사업설명회를 실시할 예정이다.', 'ㄱ']\n",
      "['이용섭 광주시장은 공공기관의 설립목적을 설명하며 시민들이 공감하는 획기적인 성과를 창출하는 공공기관에 대해서 반드시 보상을 하겠다', '말했고, 공공기관의 혁신과 소통을 강조했다.']\n",
      "['지난 11일 한국자동차산업협회와 한국수입자동차협회에 따르면 지난해 11월부터 지난달까지 수입차가 강세를 보이던 고급 자동차 시장에서 대표적인 국산 대형 고급세단의 판매가 뚜렷한 성장세를 보였다', '밝혔다.']\n",
      "[\"성남시는 수내동 160m 구간에 조성된 신해철거리에서 오는 19일과 20일, 8월 17일, 9월 6일과 7일에 '영원한 마왕' 가수 신해철의 데뷔 30주년(1988년, 대학가요\", '제)을 기리는 ‘그대에게, From 1988’ 행사를 마련한다고 밝혔다.']\n",
      "['신인 걸그룹 ITZY(있지)가 기존 K-팝의 형식을 깨고 새롭게 제작한 퓨전 그루브 장르의 타이틀곡 ‘달라달라’로 가요', '계 데뷔를 예고했다.']\n",
      "['문재인 대통령은 24일에 나선 전국경제투어에서 \"4차산업혁명 시대를 향한 여러분의 꿈에는 늘 정부가 함께 할 것\"이라고 강조하며, 신기술을 통한 혁신성장이 한국 경제의 체질을 개선하여 경제활력 제고 및 신성장동력 확보를 모색할 수 있다', '판단한 것으로 보인다.']\n",
      "[\"인천시와 인천시의회, 인천시지하도상가연합회 등이 '인천시 지하도상가 관리 운영 조례 전부개정 조례안'을 임시회가 아닌 다음 달에 열리는 시의회에서 다루기로 일정을 미루어서 지하도상가 운영의 공정성을 확보하겠다\", '던 인천시의 계획이 연기되었다.']\n",
      "['조선대병원이 운영하는 ‘2019 광주세계수영선수권대회’ 의료지원단은 응급의학과, 내과, 외과, 정형외과, 영상의학과, 재활의학과, 간호부 등 총 140여 명으로 구성돼 선수촌 메디컬센터와 의무실, 조선대 하이다', '이빙 경기장, 염주체육관에서 빈틈 없는 의료지원을 통한 수준 높은 의료서비스로 선수 부상과 안전관리에 최선을 다할 것을 다짐했다.']\n",
      "['수원 A초 학부모들이 23일 경기도교육청 앞에서 기자회견을 열고  \"규정을 지키지 않는 석면 해체 제거 공사를 중단하라\"고  요구하며 A초교 본관동 석면 해체 및 제거 작업을 모니터링하던중 대다수 작업장에서 석면이 비산된 것을 발견했다', '\"고 주장, 올 겨울방학 동안 석면 해체·제거 공사가 진행될 예정인 수원지역 초·중·고 17개 교에 석면 해체 및 제거 시 관리·감독 기능 강화와 감시체계를 만들어야 한다\"고 밝혔다.']\n",
      "['2018년 공무원 임용에 합격한 충남도립대학교 학생은 총 45명(공개경쟁 37명, 경력경쟁 8명)으로 개교 이래 20년간 총 752명의 공직자가 배출됐는데, 이에 허재영 총장은 공직진출을 위해 지원한 다양한 프로그램들이 실질적 결실을 맺어가고 있으며, 앞으로 중부권 최고의 공직 배출 명문대의 명성을 계속 이어갈 수 있도록 최선을 다할 것을 다짐했다.', '허재영 총장은 심야학습 등의 공직 진출을 위한 다양한 프로그램을 지원해 실질적 결실을 맺고 있는 충남도립대학교가 2018년 공무원 임용에 최종 45명 합격하며 개교 이래 총 752명의 공직자를 배출했다고 밝혔다.']\n",
      "['올해로 65세, 181cm의 큰 키에 자유분방하게 기른 머리카락과 수염을 가진 모델 김칠두는 27년 동안 요식업에 종사하다', '작년에야 시작한 모델일이 즐겁지만 굉장히 어렵다고 했다.']\n",
      "['강화군은 돼지열병으로 입은 피해를 복구하기 위해 관광객 유입 홍보와 다방면으로 대책을 강구하고 있으나, 인접지역 김포시의 방역활동으로 인해 피해를 받고 있어, 이에 김포시 축산팀에서는 ASF 업무 매뉴얼 지침에 따라 방역을 하고 있다', '해명했지만 강화군의 관광활성화가 무색해지고 있다.']\n",
      "['홍성군은 다음달까지 대규모 공사장을 중심으로 미세먼지 발생 핵심현장에 대한 특별점검활동과 위생업소 250개소를 집중관리하는 등 미세먼지 등 환경분야, 안전 먹거리 확보 분야, 재난 안전 인프라 구축 등 군민 생활을 위협하는 위해요', '소 차단을 위한 종합대책을 마련했다.']\n",
      "['다이텍 연구원은 12일 고강도 원지를 이용한 벽지 제조 기술과 방충성, 항균성, 항곰팡이성의 기능성 코팅 수지 개발 기술을 확보함으로써 고온다', '습한 환경에서도 형태안정성이 확보되고, 방충 성능이 우수한 ‘기능성 디자인 벽지’ 개발에 성공했으며, 동남아 인테리어 시장확대가 기대된다고 밝혔다.']\n",
      "['2019광주세계수영선수권대회 조직위원회는 대회 개막 14일 전인 지난 6월 28일까지 대회 입장권 판매가 목표판매량의 88%를 달성했으며 하이다', '이빙, 오픈워터 수영 종목은 이미 매진됐다고 밝히며 입장권 매진사태가 벌어질 수도 있는 만큼 시민들의 신속한 입장권 구매를 부탁했다.']\n",
      "['14일 동구청역에서 음주로 몸을 가누지 못하다', '쓰러진 노인(남,72세)을 역 직원이 응급구호 조치를 빠르게 실시한 덕분에 병원에 도착 후 뇌출혈 수술을 받은 뒤 좋은 경과를 내고 있다는 사실이 가족들의 제보로 뒤늦게 밝혀졌다.']\n",
      "['14일 보건복지부와 건강보험공단에 따르면 3월부터 추나요', '법에 대해 건강보험이 적용됨에 따라 추나요', '법 치료에 회당 1만∼3만원의 본인부담금을 지불하고 연간 20회까지 받을 수 있다.']\n",
      "['500명의 신청자 중 150명에 선정된 제7기 통일부어린이 기자 중 통일부 장관과의 만남을 주제로 한 인터뷰 기사를 써서 우수기사로 선정된 계성초 5학년 이다', '은 학생은 앞으로 친구들도 공감할 수 있는 기사를 쓰고 싶다고 소감을 밝혔다.']\n",
      "[\"예산군에 따르면 장애인에 대한 인식 제고와 사회 참여확대로 재활의욕을 고취하고 장애인과 비장애인이 함께하는 사회 통합분위기를 마련하기 위해 '제39회 충남 장애인의 날' 기념식과 15개 시·군을 대표한 장애인들이 참여하는 장애인가요\", \"제를 비롯한 장애인생산품 전시, 장애인과 가족을 위한 상담 부스 운영 등 다양한 부대행사로 진행한 '희망충남 어울림 한마당대회'가 성황리에 개최됐다.\"]\n",
      "['지난 24일 인천국제공항에서 입국사유 불분명으로 입국이 거절돼 송환대기 중이던 외국인 3명이 입국장 화장실 천장을 열고 환풍구 통로로 밀입국을 시도하다', '붙잡혀 강제 출국 조치될 예정이다.']\n",
      "[\"고용노동부와 전남도가 주체하고 한국장애인고용공단 전남지사와 한국장애인고용안정협회 전남지부가 주관해서 열리는 '전남도 장애인 기능경기대회'가 26일에 목포에서 개막한다.\", '이 대회에는 24개의 직종에 216명의 선수가 참가할 예정이다.']\n",
      "[\"29일 KBS '오늘밤 김제동'에 출연한 전 수영 국가대표 장희진 선수는 2000년 시드니 올림픽을 앞두고 중학생때 대표선수로 선발된 후, 중간고사를 위해 선수촌 밖에서의 훈련을 요구하다\", '국가대표 자격을 박탈당하고 유학길에 올라 현재 미국에 거주하며 변호사로 지내고 있는 근황을 알렸다.']\n",
      "['대학원 입시와 전문연구요', '원 편입을 목적으로 텝스(TEPS) 시험 준비생들이 많아진 가운데, 실전 대비에 큰 효과를 준다고 알려진 해커스어학원이 뉴텝스를 준비할 수 있는 실전 문제풀이 특강을 실시한다고 해 큰 관심을 받고 있다.']\n",
      "['전남 신안군 임자면 지역사회보장협의체는 인근 민간사회단체, 사회복지시설, 종교단체의 적극적인 참여와 함께 지난 4월 29일부터 5월 17일까지 아프리카 우간다', '및 인도 아이들에게 의류·신발, 책가방을 전하기 위해 ‘선물이 간다간다 우간다’ 기부운동을 펼쳐 500점을 기부 받았다.']\n",
      "[\"19일 방송된 MBC PD수첩 '검찰, 반성 없는 반성문' 편에서는 2013년 원주의 한 별장에서 사회 고위급 인사가 성접대하는 모습이 담긴 영상이 공개됐고, 이 남성이 김학의 전 법무부 차관이 아니냐는 의혹이 불거졌음에도 불구하고 인물을 특정할 수 없다는 등 여러 이해할 수 없는 이유를 들어 사건을 덮은 검찰의 이야기를 다뤘다.\", '검찰이 덮었으나, 지난해 7월 법무부 검찰 과거사 위원회에서 검찰권 남용 의혹 사건으로 선정된 김학의 전 차관 별장 성접대 사건을 다루었다.']\n",
      "['밀양가요', '박물관 건립을 놓고, 밀양가요', \"박물관건립저지시민연합은 '친일파 박시춘을 중심으로 박물관을 건립하는 것은 사실상 친일 인사 기념관 건립과 마찬가지'라며 건립 계획을 즉시 백지화하라고 요구했다.\"]\n",
      "['신안군, 우간다', '·인도에 의류·신발·책가방 등 기부운동을 시작해 눈길을 끌고 있다.']\n",
      "['광주시의회 김점기 의원은 광주김치타운에 내 김치공장이 임대 전 시설 보수 및 보강을 하지 않아 위생상태 불량으로 평가받아 ‘0’점 처리가 돼 학교 납품업체 선정 부적격 평가를 받았다', '”고 밝히며 “광주 학생들에게조차 공급하지 못하는 김치를 전국화, 세계화하겠다는 것은 어불성설”이라고 지적했다.']\n",
      "['현대차는 10일 GM 및 BMW 등에서 전문적인 경력을 가진 서주호 디자이너를 현대디자인이노베이션실 상무로 영입한다고 발표했다.', '현대자동차는 디자이너로서 20년의 다채로운 경험과 스타트업에서의 근무 경력은 기존 선행디자인 조직의 혁신과 역할 확대에 상당히 부합할 것으로 기대하고 있는데,  특히 고성능 전기차의 선행 및 양산 디자인을 이끈 서주호 디자이너의 경력은 현대차  EV 라이업 디자인의 경쟁력을 제고하는 데 기여할 것으로 예상하고 있다.']\n",
      "['인천항만공사(IPA)는 온라인 소통 채널을 통해 국민 참여를 확대하고 다양한 아이디어를 제안받고자 ‘e-해해(海) 소셜네트워크(SNS) 플랫폼’을 오픈했으며, 국민 참여 제안과제 발굴과 이해관계자별 일대일 맞춤형 소통, 국민 참여형 인천항 안전 위해요', '소 실시간 접수·운영 채널 3개 분야로 운영한다.']\n",
      "['민선7기 광주시가 사회적 대통합의 광주형일자리 모델인 광주글로벌모터스가 26일 공장 착공 기공식을 하여 공사에 돌입한다.', '생산직 채용은 투명성을 확보하려 외부 전문업체에 위탁하는 방식으로 진행한다.']\n",
      "['더불어민주당이 내년 4월 총선 대비를 준비하고 있고 상당폭의 물갈이가 이뤄질거라는 전망이 나오는 가운데 공천의 주관적인 평가요', '소로 인해 물갈이 대상을 의도적으로 컷오프를 할 수 있다는 분석이다.']\n",
      "['EBS에서 유명세를 치른 뒤 현재 메가스터디에서 활동 중인 이다', '지 강사와 고아름 강사가 교재 도용 문제로 설전을 벌였는데 이 강사는 고 강사가 학생들에게 제공한 연표를 제시하면서 오탈자 표기된 것까지 똑같다고 했다.']\n",
      "[\"세종 조치원 봄꽃축제가 '청춘만발-조치원의 봄, 문화의 꽃을 피우다'를 주제로 4월 6일부터 7일까지 이틀간 조치원역과 중심가로, 조천변 일원에서 성대하게 열리며 벚꽃과 복사꽃을 배경으로 마련된 4개의 테마공간에서 개막 축하공연과 미디어 불꽃쇼, 봄꽃가요\", '제, 낭만시장, 청춘마켓, 버스킹 공연과 다양한 문화예술 프로그램이 진행될 예정이다.']\n",
      "[\"태안군은 23일 군청 브리핑실에서 정례 브리핑을 통해 '문화가 있는 태안'건설에 나선다고 하였다.\", '지역의 문화유산을 적극 발굴, 보존하여 다양한 시책을 추진키로 했다.', '또한 문용현 문화예술과장은 \"올해 1월 기존의 \\'문화관광체육과\\'를 각 분야별로 분과하여 정책 추진력을 높였으며, 앞으로 군민 여가활동의 품격을 높일 수 있도록 하겠다\"고 말했다.']\n",
      "['포르투갈 출신의 하이다', '이빙 안전요원의 임무는 높은 곳에서 안전하게 연기하는 선수들에게 심리적 안정감을 주는 일이다.']\n",
      "[\"하동지역 주민들의 협동조합인 ‘하동주민공정여행 놀루와' 는 29일에 경남 하동군 악양면 평사리 들판에서 ‘제1회 평사리 들판 논두렁 축구대회’를 개최한다고 밝혔다\", '왜냐하면 다음 달 정월 대보름을 앞두고 83만 평의 겨울 논에서 추억을 만들 수 있게 하기 위해서다.']\n",
      "['제4회 부천세계비보이대회(BBIC)가 6일부터 8일까지 3일간 부천시청 어울마당에서 펼쳐진다.', '부천세계비보이대회는 국내 유일 비보이 세계대회로 부천시가 주최하고 세계 5대 메이저 대회를 석권한 비보이팀 진조크루가 주관한다.', '24개국 600여 명의 비보이가 참가해 총상금 4천200만 원을 놓고 열띤 경쟁을 펼치며 매일 다른 매력의 무대를 선보인다.']\n",
      "[\"논산시는 19일에 웰빙을 넘어 웰다잉으로 '아름다운 노년만들기'에 나섰다.\", \"'웰다잉 전문 지도자'교육은 고령화시대에 맞춰 건강한 노후를 추구, 삶의 가치 및 생명존중 문화 확산을 통한 건강한 지역사회를 구현하기 뒤한 직원 연량 강화 교육이다.\", '이에 논산시보건소 관계자는 \"초고령화로 가는 현재\\'웰빙, 웰다잉\\' 웰에이징\\' 할 수 있도록 도와주는 존재는 필수이며 \"전문 지도자 양성을 통해 행복한 노후를 응원하고, 안내할 수 있도록 최선을 다하겠다\"고 말하였다.']\n",
      "['송악읍 중흥리에 지난 2015년 착공한 광명메이루즈 아파트는 업체 부도로 골조공사를 50% 가량 진행하다', '중단되면서 해당 사업을 경남기업과 티케이케미칼이 인수하여 경남아너스빌 아파트 건설을 추진하고 있으나 당시 지역업체들이 철근과 레미콘, 자재 등의 납품 대가를 돌려받지 못하는 상황이 계속돼왔다.']\n",
      "['2022학년 수능은 2015개정 교육과정의 의도에 따라 문이과의 구분이 사라지며 제2외국어.', '한문 영역이 절대평가로 바뀌었습니다']\n",
      "['대구는 19일 DGB대구은행파크에서 열린 프로축구 K리그1 12라운드 인천 유나이티전에서 전반 세징야의 선제골과 후반 에드가의 결승골로 2-1 승리하며 선두권 도약의 발판을 마련하게 됐다.', '\\ufeff\\n\\ufeff']\n",
      "['‘문제적 보스’에 출연하는 배우 정준호는 패션, 웨딩, 뷔페 등의 다양한 분야에서 사업을 하고 있지만 어떤 사고가 터졌다', '든지 간에 문제가 발생했을 때 책임을 져야 하고 여론의 싸늘한 시선을 볼 수 있다는 여지가 많아 힘들다”라고 토로했다.']\n",
      "['캐나다 유학을 마치고 여행을 하다', '사고를 당해 의식불명 상태에 빠진 박준혁씨에 대해 주 로스앤젤레스 총영사관은 행정적인 문제를 돕고 병원비 문제와 한국 이송 문제도 계속 협의하고 있다.']\n",
      "['18일 방송된 KBS2 제보자들에서 트로트 가수인 딸의 노래를 곡가 B씨에게 수천만 원을 주고 제작했고, 그 곡을 알리기 위해 몇 년간 열심히 활동을 해왔지만, 몇년간 불러왔던 노래가 유명 가요', '방송에서 다른 가수에게 불리는 모습을 봤다며 딸의 억울함을 풀어달라고 절규했다.']\n",
      "['괴산군 사리면 기관·단체협의회회원 20여 명이 28일 사리면사무소에서 괴산읍 신기리 의료폐기물 소각장 설치 반대 및 대한민국 축구종합센터 유치 동참 결의 대회를 열어 \"폐기물 소각과정에서 발생하는 발암물질이 군민의 건강을 크게 위협할 것으로 예상되는 만큼 전면 재검토가 이뤄져야 한다\"고 주장하고, 선수들의 영양 공급지로서 최적의 조건을 갖추고 있다', '\"며 \"대한민국 축구종합센터가 괴산군에 들어서야 한다\"는 의견을 내세웠다.']\n",
      "['26일 완도, 여수, 고흥 등 곳곳에 호우특보가 내려졌다', '해제되었지만, 장마전선은 주말에 우리나라로 접근하며 다시 장맛비가 내릴 것이며, 일본 오키나와 부근에서는 태풍이 발달 할 가능성이 있겠다.']\n",
      "['청양군은 백제문화체험박물관에 있는 일제에 항거하다', \"순국하신 최익현 선생의 유품 '최익현 초상'과 최익현 선생이 서울을 떠나 부산으로, 부산에서 대마도로 압송되는 과정을 그린 '최익현 압송도'가 충청남도 유형문화재 제248호, 제249호로 각각 지정됐음을 알렸는데, 이는 올해가 3.1운동 100주년이 되는 해로 더 의미가 있다.\"]\n",
      "['계룡시는 민선5기 일자리 종합 계획을 수립하고 2022년까지 397억 원을 투입해 1만여 개의 일자리를 창출하겠다', '밝혔으며, 여성, 노인, 장애인, 청년 등 계층별 일자리 사업을 확대하고 일자리 안내 센터를 통한 취업 교육, 취업 알선 등 맞춤형 고용서비스를 시민들에게 제공할 예정이다.']\n",
      "['정부는 올해 10월부터 ‘첩약 급여화 시범사업’을 시행한다는 발표를 하였으나, 이미 2017년과 올 해 10월 각각 한방 추나요', '법 시범사업과 첩약 급여화 시범사업에 많은 재정이 소요되었다는 등의 우려를 낳고 있으며, 국민 건강에 대해서는 감성적으로 접근해서는 안된다는 의견이 나오고 있다.']\n",
      "['2018- 2019 유럽축구연맹(UEFA) 챔피언스리그(이하 UCL)에서 메시가 현재 8골로 최다 득점을 기록하고 있고 호날두 역시 앞서 열린 UCL 16강 2차전에서 헤트트릭을 기록하며, 호날두 역시 앞서 열린 UCL 16강 2차전에서 헤트트릭을 기록하며 ‘인생 경기’를 펼쳤다.', '세기의 라이벌인 두 사람의 득점 경쟁이 치열하다.']\n",
      "[\"남도일보는 9일 1층 대회의실에서 강신중 법무법인 강율 대표 변호사를 초청해 임직원들을 대상으로 '양성평등 및 공정보도와 취재윤리'를 주제로 직원 역량 강화 교육을 실시했는데, 강 변호사는 언론의 자유가 언론의 공정성을 훼손할 위험성과 세대간 간극으로 인한 직장 내 성범죄 문제에 대해 설명했다.\", \"직장 내 성범죄의 원인인 '세대간 성인식의 간극'이 벌어지지 않도록 의식 개선이 중요하다고 강조했다.\"]\n",
      "['전남 신안군은 임자도에서 7일부터 이틀간 깡다리 축제를 열어 깡다리요리 및 시식회, 젓갈 담그기, 가요', '제 등 다양한 프로그램을 진행하며 관광객들에게는 직거래 판매코너를 운영한다.']\n",
      "['오는 12일 SBS 그것이 알고 싶다', '에서 희대의 사기꾼 장영자 씨의 약 500억원의 무기명 예금증서에 대한 의혹을 푼다.']\n",
      "['김성해 인천 연수구의회 의장이 지난 1년간 연수구의 미래를 책임질 다양한 사업이 차례로 시작되면서 연수구의 교통·교육·경제·문화 인프라가 확충됐으며 구민과 소통하고 공감하는 열정의회가 되도록 최선의 노력을 다하겠다', \"말하며 '구민의 복리 증진을 위한 조력자 역할에 충실하고자 노력했던 한 해’라고 돌아봤다.\"]\n",
      "['불법 주정차 주민 신고제 단속 규정이 8개 구, 군청별로 달라 운전자들이 혼란을 겪는다는 지적이 있자 대구시는 지자체별로 제각각이던 불법 주정차 주민신고제 운영 표준안을 만들어 신고대상과 정차유예시간을 통일하도록 했다', '밝혔으나 행정안전부가 운영하는 안전신문고 애플리케이션을 통한 단속규정만 통일됐을 뿐, 생활불편신고 앱은 기초자치단체마다 다른 규정을 적용토록 해 혼란은 해소되지 않을 것으로 보인다.']\n",
      "['광주 도구가 2020년 신규 역점시책 보고히를 개최했다.', '신규시책93건 역점시책 142건이 나왔으며 이번 보고회에서 제안된 사업을 토대로 보완, 수정을 거쳐 예산안 편성과 주요업무계획에 반영할 방침이다.']\n",
      "['당진시여성단체협의회가 제24회 평등문화 공감축제 일환으로 서양화, 수묵호, 문인화, 서예, 도예, 조각 등 여러 분야에서 활동하는 여류작가 39인의 다양한 미술작품들이 선보이는 여성미술 초대전 <함께하다', '바라보다> 展을 지난1일부터 6일까지 다원갤러리에서 개최했다.']\n",
      "['대진대학교 휴먼건축공학부가 양국 건축의 차이를 이해하고 상호 보완하여 미래 건축에 대한 답을 찾아보고자 개최한 ‘제1회 한·일 취업연계 학생교류’에서 한일 건축전공 학생 15명(한국 11명, 일본 4명)이 참가해 3일간의 합숙을 통해 많은 학생들이 실생활에 반영할 수 있는 창의적 아이디어를 제시하는 등 기대 이상의 성과를 이뤄냈다.', '대진대학교 휴먼건축공학부가  3일간 주제에 대한 집중토의를  하면서 양국 건축의 차이를 이해하고 상호 보완하여 미래 건축의 해답을 찾아보고자  한일 건축전공 학생 15명(한국 11명, 일본 4명)이  통해  참석한 ‘제1회 한·일 취업연계 학생교류’를 진행 했다.']\n",
      "['경기도교육청의 도내 여론 조사 결과 응답자 중 59.1%는 현재 사교육을 유지하겠다고 답했으며, 27.1%는 사교육 추가 실시하겠다', '로 응답해 총 86.2%가 여름방학 중에도 자녀에게 사교육을 시키겠다고 응답했다.']\n",
      "['이날 15일 오후에 방송되는 생방송 오늘 저녁 1110회에서 나 혼자 간다', '코너를 통해 국내에서 가장 큰 섬제주도의 숨은 명소인 황우지 해안, 거문오름, 오리백숙 등이 공개 된다.']\n",
      "['화장실에서 벌을 서다', '숨진 4살 어린이 사건에서 사망의 원인인 혈종이 생긴 경위에 대해 가족들의 진술을 조사했고 동시에 남은 자녀들에 대한 지원방법을 논의했다.']\n",
      "['광주 세계수영 선수권대회 6개 종목 중 국내에서 처음 선보이는 절벽 다이빙에서 유래한 하이다', '이빙 경기가 다음 달 22일부터 광주시 동구 조선대 축구장 임시 풀에서 사흘간 펼쳐진다.']\n",
      "['37회 단양소백산철쭉제가 소백산산신제, 실버가요', '제 식전공연 등 50여개의 다채로운 행사를 포함하여 23일~26일까지 단양읍 상상의 거리와 소백산 일원에서 화려한 막을 올린다.']\n",
      "['서울강남경찰서는 지난달 26일 새벽 무면허 음주운전을 벌이다', '뺑소니 사고를 낸 배우 손승원씨를 윤창호법으로 불리는 특정범죄가중처벌법상 위험 운전치상 등 혐의로 검찰에 송치했다.']\n",
      "[\"3월 4일부터 31일까지 대전일보사 1층 복합문화예술공간 Lab MAR's 에서 화성을 흥미롭게 보고 즐길 수 있도록 '화성에 대한 오해와 진실', '화성탐사의 역사', '탐사차가 보낸 화성 영상', '화성 포토존'의 4개의 존으로 구성된 '화성, 너 누구니?\", \"' 전시회를 개최한다.\"]\n",
      "['배달 대행 업체들의 경쟁이 치열하다', '보니 교통 법규를 지키지 않는 배달원이 늘어나고 있어 보다 강력한 단속이 필요하다는 지적이 나온다.']\n",
      "['순천시는 국민적 관심도를 높이고 특별법 제정을 촉구하기 위해 10월 19일 여순사건을 주제로 하는 전국창작가요', '제를 여는 방안을 검토중이다.']\n",
      "['나주 혁신도시 이노시티 애시앙이 20일날 1천478가구를 분양한다고 밝혔다.', '여러 옵션과 서비스, 커뮤니티 시설이 들어서며 근처에 한국전력 공사 본사를 비롯한 총 16개의 공공기관과 협력업체들이 다수 포진해 있어 직주근접 요소를 갖췄다.', '23일~24일 특별공급을 시작으로 25일 1순위 청약, 28일 2순위 청약을 받는다.']\n",
      "['17일 이영성 한국일보 편집인에 의하면 세월호 유가족을 향해 논란의 글을 올렸다', '삭제한 차명진 전 자유한국당 의원이 서울대 정치학과 79학번 동기인 김학노 교수에게 대화방에서 질타를 받았다.']\n",
      "['제11회 즐거운 2019 목재페스티벌이 열렸다.', '경기대회와 함께 목재체험부스가 진행됐다.', '목재페스티벌은 친환경 재료이며 인체 친화재료인 목재의 중요성과 효율성을 알리는 체험교육의 장으로 자리잡았다.']\n",
      "['16일 역사 강사 이다', \"지가 '김영철의 파워FM'에 출연해 이순신 장군이 명량해전 당시 거북선을 사용하지 않았다고 말해 화제다.\"]\n",
      "['대한민국플라워마켓의 우성용 대표는 화환, 근조 등을 렌털하는 방식의 화훼 공유마켓의 정착과 취약계층에게 일자리를 주고 꽃의 의미와 가치를 지역사회와 나눌 수 있는 기업이 되겠다', '다짐했다.']\n",
      "['제11회 구례 전국여자천하장사 씨름대회에서 구례군청의 조현주 선수가 최희화 선수에게 패해 아쉽게 3위를 차지했으며 최희화 선수는 결승에서 이다', '현 선수에게 승리하며 2년 연속 천하장사의 자리에 올랐다']\n",
      "['2006년 생긴 충남장애인부모회 당진지회의 회원으로 활동하다', '2012년부터 회장으로 일해온 한숙자씨는 엄마들이 아이들보다 먼저 지치지 않는 것이 가장 중요하다고 말하고 있다.']\n",
      "['수원에서 14년 동안 해장국을 운영해온 이창성·양숙희 대표가 구 원당가든 자리에 ‘원당해장’을 개업했으며 가장 신선하고 맛좋은 고기를 제공하고 있으며 배추김치와 깍두기맛도 자랑할 만하다.', '대표가 직접 주방서 요리하며 48시간 푹 고은 육수를 사용해 정성을 더했다.']\n",
      "[\"23일 세종시의회 '2019 행정사무감사'의 교육안전위원회 진행 중 의원간 진행절차 이견으로 인한 감사 중단 사태가 벌어졌다.\", '5분여간 상병헌 위원장과 윤형권 의원 간의 고성으로 중단된 감사는 약 2시간 이후 재개되었으며, 상위원장은 진행절차 협의사항에 대해 고지하고 윤 의원은 항의에 대하여 사과를 표명하였다.']\n",
      "['100주년을 맞은 3·1운동 및 상해 임시정부 수립의 숭고한 희생정신과 독립의지에 대하여 우리 후손들이 숨겨졌던 역사 및 인류 문화적 가치와 의미를 재조명해 되새기는 것이 마땅하다', '하겠다.']\n"
     ]
    }
   ],
   "source": [
    "for abstractive in train_df['abstractive'].values:\n",
    "    sents_splited = kss.split_sentences(abstractive)\n",
    "    if len(sents_splited) > 1:\n",
    "        print(sents_splited)"
   ]
  },
  {
   "cell_type": "code",
   "execution_count": null,
   "metadata": {
    "colab": {
     "base_uri": "https://localhost:8080/"
    },
    "id": "4HsQc7MKAHHU",
    "outputId": "557afa37-6fa6-431f-d98d-09348041a861"
   },
   "outputs": [
    {
     "data": {
      "text/plain": [
       "{',', '.', ':', '?', 'c', '‘', 'ㄱ', '다', '요', '\\ufeff'}"
      ]
     },
     "execution_count": 17,
     "metadata": {
      "tags": []
     },
     "output_type": "execute_result"
    }
   ],
   "source": [
    "last_char = set()\n",
    "for abstractive in train_df['abstractive'].values:\n",
    "    sents_splited = kss.split_sentences(abstractive)\n",
    "    if len(sents_splited) > 1:\n",
    "        for sent_splited in sents_splited:\n",
    "            last_char.add(sent_splited[-1])\n",
    "last_char"
   ]
  },
  {
   "cell_type": "code",
   "execution_count": null,
   "metadata": {
    "colab": {
     "base_uri": "https://localhost:8080/"
    },
    "id": "jmDYPqXTA1TD",
    "outputId": "0784e314-2853-4801-8504-f5f3a49d5c56"
   },
   "outputs": [
    {
     "name": "stdout",
     "output_type": "stream",
     "text": [
      "2017년 9월부터 2월까지 경남 산청군 단성면 연수원 및 야구장을 관리한 직원이 경성대 학내 게시판에 총장을 비판하는 글을 올렸다가 산청에 발령을 받았다며 국가인권위원회에 진정을 접수한 것으로 알려졌다.:\n",
      "농촌지역 인구가 고령화하면서 농·어·임업 활동을 포기하거나 아예 업종을 바꾸는 전국적인 추세에 따라 '2018 농림어업조사' 결과에서 충남지역 농가는 12만 3000가구로 전년 12만 6000가구 대비 1.9% 줄었으며 어가, 임가도 일제히 감소한 것으로 나타났다.c\n",
      "자유 한국당 송언석 의원은 28일 우리나라 경제성장률이 10년 만에 최저치 도달이 좌파식 경제 실험이냐고 따졌으며 대통령 취임식에서 언급한 ‘한 번도 경험해보지 못한 나라’의 종착점이 ‘모두 함께 힘들게 사는 나라’는 아니지 않는가?”라고 반문하면서 기업의 기(氣)를 북도우는 정책을 추진해 국가 경제회복에 앞장서야 한다”고 주장했다.\n",
      " 23일 환경부의 ‘4대강 조사·평가 기획위원회’가 전날 금강과 영산강의 보 5개 가운데 3개를 해체하고 2개는 상시 개방하는 안을 제시한 것에 대해 민주·평화·정의 등 범진보진영 정당들은 일제히 환영의 목소리를 내며 합당한 조치라고 평가한 반면  한국당은 비판이지만 바른미래당은 지도부 논의를 거쳐 추후 입장을 발표할 예정이다. ‘\n",
      "영화 ‘추격자’가 TV 방영하면서 실시간 검색어에 오르며 관심을 모으고 있는 가운데 한 인터뷰에서 한재덕 대표에게 나홍진 감독 차기작이 우범곤 총기 사건을 모티프로 한다는 그 영화인가?”라고 질문하자 나홍진 감독과는 구두로 \"함께 하자\"고 이야기를 나눈 상태라고 답했다.\n",
      "광양시는 지역경제를 되살리기 위한 구봉산 관광단지 조성 산업 추진 사업설명회를 실시할 예정이다.ㄱ\n",
      "대구는 19일 DGB대구은행파크에서 열린 프로축구 K리그1 12라운드 인천 유나이티전에서 전반 세징야의 선제골과 후반 에드가의 결승골로 2-1 승리하며 선두권 도약의 발판을 마련하게 됐다.\n",
      "﻿\n",
      "﻿\n",
      "3월 4일부터 31일까지 대전일보사 1층 복합문화예술공간 Lab MAR's 에서 화성을 흥미롭게 보고 즐길 수 있도록 '화성에 대한 오해와 진실', '화성탐사의 역사', '탐사차가 보낸 화성 영상', '화성 포토존'의 4개의 존으로 구성된 '화성, 너 누구니?' 전시회를 개최한다.\n"
     ]
    }
   ],
   "source": [
    "for abstractive in train_df['abstractive'].values:\n",
    "    sents_splited = kss.split_sentences(abstractive)\n",
    "    if len(sents_splited) > 1:\n",
    "        is_multi_sent = False\n",
    "        for sent_splited in sents_splited:\n",
    "            if sent_splited[-1] in ['?', ':', 'c', '‘', 'ㄱ', '\\ufeff']:\n",
    "                print(abstractive)"
   ]
  },
  {
   "cell_type": "code",
   "execution_count": null,
   "metadata": {
    "colab": {
     "base_uri": "https://localhost:8080/"
    },
    "id": "-myzSAYL78E0",
    "outputId": "7ec2d381-4fce-4d6e-9978-019c37720154"
   },
   "outputs": [
    {
     "name": "stdout",
     "output_type": "stream",
     "text": [
      "86\n"
     ]
    },
    {
     "data": {
      "text/plain": [
       "[[\"자유한국당 소속 윤상현 국회 외교통일위원장은 29일 일제 강점기 강제 징용 피해자에 대한 일본 기업의 배상문제로 한일관계가 역대 최악이라며 일본의 '코리아 패싱(한국 때리기)'이 심각하다고 말했다.\",\n",
       "  '일본 정보는 일본 전범 기업들에 배상을 명령한 작년 10월의 한국 대법원 판결과 관련해 1965년 체결된 한일청구권협정에 따라 배상 문제는 해결된 것이라고 주장하며 판결 이행을 거부한 채 지난 20일 한국 정부에 제3국 위원을 포함한 중재위원회 개최를 요청했다.',\n",
       "  '윤의원은 일본 중의원 외교위원장도 접촉해 징용 문제를 둘러싼 양국 간 갈등 해소 방안을 놓고 의견을 나눠보고 싶었지만 만나는 것조차 꺼리는 바람에 회동하지 못했다고 밝혔다.'],\n",
       " [\"농림축산식품부는 청년층의 농업분야 창업 활성화를 위해 2019년 '청년창업농 영농정착지원사업' 대상자를 선발하고 각 시군을 통해 통보했으며, 앞으로 지원 대상자 1600명에 대해서는 최장 3년간 매월 100만원씩 창업자금과 함께 영농기술 교육 등 맞춤형 지원을 제공한다고 14일 발표했다.\",\n",
       "  '농식품부는 했다고 14일 밝혔다.'],\n",
       " ['남도일보 기고-인위적인 사고로 대형 인명·재산 피해가 발생되면 안전불감증이 불러온 대형참사 되풀이되고 있다.',\n",
       "  '안전국민의식과 소방안전의식, 대처능력을 높이는 소방안전 조기교육이 시급하다.'],\n",
       " [\"한전산업개발은 그린에너지 엑스포에서 통합형 ESS인 'KEPID-ESS-200'을 선보였다.\",\n",
       "  '이 장치는 100kW미만의 소규모 태양광 발전소와 연계할 수 있으며, 일반적인 배터리룸보다 외부 기온에 영향을 받지 않고  최적의 성능을 유지할 수 있는 장점이 있다.'],\n",
       " ['인천에너지전환네트워크는 인천시에 수도권 전력 소비의 20%를 맡는 영흥 석탄발전소가 2017년 기준 온실가스 3천196만7천t을 배출했으며, 이외에도 미세먼지, 해양에 배출하는 온배수 등으로 인근 주민과 해양생태계에 피해를 줘 석탄발전 폐쇄 로드맵 수립을 촉구했다.',\n",
       "  '17일 인천시청 브리핑룸에서 기자회견을 열고 석탄발전 폐쇄 로드맵을 제시해야 한다고 촉구했다.'],\n",
       " [\"지난 12일 광주, '제3회 도시폭염 대응 포럼'에서 시민포럼과 패널토론이 진행됐다.\",\n",
       "  '이날 시민포럼 패널들은 지난해 폭염과 관련 분야별로 피해 사례를 언급하며 정부와 지자체의 적극적인 대책을 촉구했으며, 전문가들은 광주의 평균기온이 2000년 이후 전국 평균을 상회하는 가파른 상승추이를 보이고 있다며 폭염 위험성을 경고했다.'],\n",
       " ['MBC 새 월화드라마 ‘아이템’의 제작발표회에서 배우 주지훈이 \"“감독님이 적토마 같다고 해서 이게 욕인지, 칭찬인지 한참 헷갈렸다.',\n",
       "  '”며 소감을 전했다.'],\n",
       " ['조선대 지식경영연구원은 21일 오후1시 경상대학 2층 경영산학관에서 세미나를 개최한다.',\n",
       "  '이번 세미나를 통해 대한민국이 비즈니스변화와 남북문제 및 대외문제 변화에 적응하여 새로운 방향으로 해결방법을 찾아야한다며 이번 세미나를 개최하게 되었다.'],\n",
       " [\"부산시의 낙동강 하굿둑 개방이 염분이 있는 바닷물이 역류해 취수원에 피해를 줄 수 있다는 이유로 경남과 울산시가 우려를 표명한 가운데, 부산시는 '낙동강 하굿둑 운영개선 및 생태복원방안 연구' 등을 통한 시범개방으로 해수 역류로 인한 영향을 최소화하기 위한 다양한 방법을 연구하고 있다.\",\n",
       "  \"부산시의 '낙동강 하굿둑 운영개선 및 생태복원방안 연구' 용역 수행을 위해 낙동강 하굿둑 수문을 시범적으로 열기로 했는데, 이로 인해 취수원에 해를 끼칠 수 있다는 이유로 경남과 울산시가 걱정을 표하고 있다.\"],\n",
       " ['충북도는 4차 산업혁명 시대에 제조분야의 경쟁력 확보를 위해 기업 부담금을 일부 지원하는 등 스마트공장 보급 확대에 힘쓸 계획이라고 13일 밝혔으며 또한 스마트공장 수요.',\n",
       "  '공급기업 간 매칭데이, 스마트 공장 설명회도 주최할 예정이다.'],\n",
       " ['문화콘텐츠 산업 전국 매출액의 85%가 서울과 경기 지역에 집중된 반면 전남은 0.4%로 최하위인 것으로 조사됐다.',\n",
       "  '이에 김 의원은 \"지방과의 문화 양극화가 경제 양극화로 이어질 가능성이 크다\"며 \"균형 발전 방안을 수립해 대응해야 한다\"고 말 했다.'],\n",
       " [\"광주시 북구에 따르면 오는 4일 오전 10시부터 오후 4시까지 전남대 컨벤션홀 일대에서 '일자리 만남의 장'을 마련했다.\",\n",
       "  '구직 희망자는 이력서와 자기소개서, 자격증 등 관련 서류를 지참해 구인기업과 1대1 현장면접 및 2차 심층면접을 통해 취업이 가능하다.'],\n",
       " [\"충남경찰청은 지난 2월부터 약 3개월간 '사업용자동차의 불법행위'를 집중단속하여 관련자 총 72명을 형사입건했다고 23일 밝혔다.\",\n",
       "  '현행 관련법상 시장,군수,구청장의 승인이 없는 차량개조 및 운행은 1년 이하의 징역이나 1000만원 이하의 벌금 부과대상이며, 정비불량차를 운전할 경우 6개월 이하의 지역이나 200만원 이하의 벌금형으로 규정하고 있다.',\n",
       "  '충남경찰은 지자체 및 유관기관과 합동으로 단속과 수사를 확대할 예정이다.'],\n",
       " ['최근 보복운전이 지난 2년간 약 9000건에 달하는 것으로 나타나 놀라움을 주고 있다.',\n",
       "  '이런 보복운전 뵘죄는 특정인을 자동차로 위협하거나 진로방해 고의 급제동, 폭행, 협박 등을 일컫는 것으로 보복봄죄 근절을 위한 제도적 개선이 필요하다.'],\n",
       " ['세월호 참사 5주기를 하루 앞둔 지난 15일 오후, 차명진 자유한국당 경기 부천 소사 당협위원장의 SNS 글이 논란이다.',\n",
       "  '한국당의 황교안 대표와 박근혜 전대통령이 세월호 사고 책임자로 고발당한 것에 대해 세월호 유가족을 원색적인 언어로 비난하였는데, 이와 관련해 논란이 커지자 차 위원장은 사과글을 남기고 SNS와 방송 활동 중단을 선언했다.'],\n",
       " ['부산 금정구 서동은 도시환경정비사업 대상지로 지정됐으나 13년째 추진 단계에 있어 불편함을 호소하고 있다.',\n",
       "  '이에따라 도시재생사업으로 전환해야 한다는 목소리가 나오고 있다.'],\n",
       " ['광주시는 고증을 통해 희경루를 중건할 계획이다.',\n",
       "  '희경루는 7월 중 토지매입을 완료하고 8월 실시설계등의 절차를 진행할 계획으로, 문화공간도 함께 설립할 예정이다.'],\n",
       " ['광양시가 취약계층 방문건강관리서비스를 강화하였다.',\n",
       "  '이 서비스는 독거노인 등 폭염 취약계층의 건강한 여름나기를 지원하는 제도이다.'],\n",
       " ['정치와 체육을 분리하는 내용을 골자로 한 국민체육진흥법 개정안이 올 연말 시행될 예정인 가운데 시민구단인 대전시티즌도 같은 맥락에서 인사가 이뤄져야 한다는 의견이 나오고 있다.',\n",
       "  '대전시 관계자는 \"정치인은 후임 대표이사 인선 원칙에 맞지 않고 경영 능력에 무게를 두고 인물을 물색 중\"이라고 말하며 후임 대표이사 인선 하마평을 두고 곱지 않은 시선을 내보이고 있다.'],\n",
       " ['광양시 임대아파트대책연대는 기자회견을 임대사업자들의 수익창구로 변질된 분양전환 민간·공공임대아파트 임차인들의 권리 보장 촉구하고  임대아파트 분쟁조정위원회를 설치를  요구했다.',\n",
       "  '과도한 분양자격 기준을 적용해 자의적 판단으로 우선 분양전환 자격을 결정하고 부적격자를 양산했을 뿐 아니라 분양받는 임차인들에게 웃돈까지 요구했다.',\n",
       "  '정인화의원은 공공주택 특별법과 민간임대주택에 관한 개정안을 발의한바있다.'],\n",
       " [\"서삼석 의원이 26일 '국가재정법 및 국가회계법 일부 개벙법률안'을 대표발의 했다.\",\n",
       "  '이는 지역간 격차해소 사업들의 종합관리 시스템을 갖추기 위해 정부가 국가 예산 및 기금 사업 군형발전 기대효과, 보완대책 등을 포함한 보고서를 의무적으로 작성하는 것에 대한 법안이다.'],\n",
       " ['한국산업인력공단 부산지역본부는 산업인력 양성을 위해 지역 산업계와 연계하여 기능 인력 양성 등 다양한 사업을 성공적으로 수행하고 있다.',\n",
       "  '특히, 일-학습병행제도와 지역ㆍ산업 맞춤형 인력 양성체계는 산업계의 호평을 받고 있다.',\n",
       "  '향후 지속적으로 특성화고 및 마이스터 고교생이 대학 대신 취업할 수 있도록 지역 관계 기관과 협업해 나갈 계획을 밝혔다.'],\n",
       " ['21일 대구 중구청은 91명의 사상자가 발생한 중구 포정동 대보사우나 화재 사고의 피해 복구에 노력하고 있으며 이날 한국전력이 대보상가.',\n",
       "  '아파트 전력 복구 작업에 나서 완료에는 최대 2주가 걸릴 것으로 예상된다고 전했다.'],\n",
       " ['대전중앙청과(주) 채소과일 비상대책추진위원회는 점포 균등배분을 주장하며 점포개선안을 요구했다.',\n",
       "  '이에 대해 관계자는 다각적인 방안을 고심해야 하는 만큼 중도매인들과 지속 협의를 해 나갈 예정이라고 설명했다.'],\n",
       " ['광주교육 당국은 사학 공공성 강화를 위해 사립학교 교원 위탁채용을 실시하고 있지만 허울뿐인 제도라는 지적이다.',\n",
       "  '조사할만한 권한도 없다는 이유를 내새워 소극적 입장을 내놓고는 있지만 사학법인이 가지고 있는 인사권과 징계권은 교육청에서 침해할수 없는 제왕적인 사학법이기 때문이다.'],\n",
       " ['22일 광주시와 전남도.',\n",
       "  '기상청 등에 따르면 이달 초 제13호 태풍 ‘링링’의 피해 복구가 한창인 상황에서 또다시 제17호 태풍 ‘타파’가 광주·전남에 많은 비를 뿌려 직격탄을 맞으면서 이에 농민들이 망연자실 해하고 있다.'],\n",
       " ['내년부터 서울 초등학교 3학년생과 중학교 1학년생은 3월 중 표준화된 도구로 기초학력진단평가를 받아야 하며, 초등학교 3학년행은 읽기.쓰기.셈하기능력, 중학교 1학년생은 해당 능력에 국어.',\n",
       "  '영어.',\n",
       "  '수학 교과학습능력을 평가받으며 진단결과는 평소 학습태도 등에 대한 분석과 함께 보호자에게 통지된다.'],\n",
       " [\"사단법인 한국미술협회에서 주최하고 대한민국 미술대전 비구상·구상부문 운영위원회에서 주관하는 행사인 '제 38회 대한민국 미술대전'에서 구상부분(한국)에 금호동 주민 자치센터 한국화반 수강생들이 대거 입상했다.\",\n",
       "  '김진식 금호동장은“대한민국 최고 권위의 미술대전에서 대거 입선해 금호동주민자치센터의 명성을 전국에 알린 한국화반 수강생 모두에게 축하와 격려의 말을 전한다”며“앞으로도 다양한 여가활동 보장과 문화생활 향유를 위해 노력해 나가겠다”고 말했다.'],\n",
       " [\"빅뱅의 승리가 사내이사로 있었던 클럽 버닝썬에서 ' 물뽕 성폭행' 의혹이 불거졌다.\",\n",
       "  '물뽕을 마시면 15분 안에 의식을 잃고, 이후 일어난 일도 전혀 기억을 못한다고 한다.',\n",
       "  '한 보도에 따르면 버닝썬 직원이 서울에서 대마초를 팔다 사법처분을 받았다고 한다.'],\n",
       " ['백운산 계곡 불법평상대여와 바가기 상흔으로 인한 피서객의 불만이 청와대 게시판에 올라왔다.',\n",
       "  '현수막 몇개 걸고 보도자료나 뿌리는데 그치지 말고 현실적인 대책 마련이 절실하다.'],\n",
       " ['A양이 가족여행 중에 친어머니와 의붓아버지에게 살해당한 후 저수지에 버려졌다.',\n",
       "  'A양은 지속적인 학대를 두 번이나 알렸으나, 법으로부터 제대로 된 보호 조치를 받지 못했다.'],\n",
       " ['여주시는 지난 11일 한국콜마 여주아카데미연수원에서 ‘모든 세대가 함께 행복한 여주 만들기’라는 주제로 인구정책 시민토론회를 열었다.',\n",
       "  '시민토론회는 ‘청년정책과 여성정책’이란 주제를 사전 선정해 신청을 받고 현장 접수 등을 통해 20대 초반 청년부터 70대 노인까지 각계각층 70여 명의 시민들이 참여해 3시간 동안 전문 퍼실리테이터의 진행과 함께 열띤 토론을 펼쳤다.',\n",
       "  '이번 토론회를 계기로 시는 사람이 살기 좋은 여주 만들기를 위한 주제를 선정해 시민이 참여하는 인구정책 토론회를 개최할 계획이며, 각계각층 시민의 의견을 받는 인구정책 창구를 일원화할 것이라고 밝혔다.'],\n",
       " ['유엔식량농업기구에서 발표한 세계식량가격 지수는 안정세로 전환되었다.',\n",
       "  '유제품은 상승하고 육류는 유지되었고 유지류와 곡물 그리고 설탕의 가격이 하락했지만 전체적인 곡물 생산량과 소비량이 맞아 떨어지고 있다.'],\n",
       " ['지난달 2일 민·관의 협력으로 전남 신안군 도초도에 한국 최초 덴마크형 사회교육 모델인 ‘섬마을 인생학교’가 열렸는데, 바깥 세상에서 잃어버린 것들을 내 안에서 찾아내고 인생을 돌아보며 미래를 설계하는 성인용 평생(사회)교육과정으로 참가자들의 높은 만족도에 입소문이 나 인기를 끌고 있다.',\n",
       "  \"신안군은 덴마크형 사회교육 모델인 '인생학교'를 도초도의 옛 서초등학교에 열었고 신안군수를 통해 '세상의 거친 풍파로 잃어버린 희망 등을 다시 내 안에서 찾을 수 있다.' 며 소개되었다.\"],\n",
       " [\"대한민국 대표팀으로 소집돼 U-20월드컵에서 한국 대표팀의 결승 진출을 견인한 국민영웅 이강인의 할머니 김영례씨는 '강인이가 초등학교 2학년 때 강진에 내려와 축구를 했었다'며 그때도 사람들이 '축구신동'이라고 말했다.\",\n",
       "  \"' 고 했다.\"],\n",
       " ['10년 넘게 방치돼 있던 장항선 폐철도가 태양관 발전시설을 갖추고 신재생에에너지를 생산하는 친환경 녹색 공간으로 탈바꿈하여  자전거.',\n",
       "  '보행자도로를 완공했고 폐철도를 활용한 전국 첫 사례이다.'],\n",
       " ['광주시가 산업통상자원부의 2019년도 지역산업거점기관지원사업인 ‘대용량 전력 저장용 레독스흐름전지(RFB)인증센터 구축 사업’에 최종 선정되었다.',\n",
       "  '시험인증센터가 광주에 구축된다면 레독스흐름전지와 에너지저장장치 관련 기업이 따라서 광주로 이전되는 효과와 함께 일자리가 새로 생겨나는 등 경제효과 또한 기대하고 있다.',\n",
       "  '또한 광주시는 남구 도시첨단 사업에 멀티터미널 직류배전 플랫폼 구촉사업에 2000억원을 투입하는 등 사업 추진에 적극적이다.'],\n",
       " [\"대전 지역의 한 대학에서 여전히 존재하고 있는 '선,후배간 군기문화'에 대하여 고발한 실태는 한 학생의 실례를 통해 그 일들이 불합리하고 부조리한 일이었음을 알려주고 있다.\",\n",
       "  '대학 관계자들은 이러한 일들이 반복되지 않고 대책들이 만들어질 것이라고 강조했다.'],\n",
       " ['서천 92세의 할머니가  손자.',\n",
       "  '손녀가 명문 대학을 입학한 기념으로 다닌 학교에 장학금을 전달한 기부 사연이 잔잔한 감동을 주고 있다.',\n",
       "  '할머니는 남편의 유지를 받들어 서천에 1억을 기부했고 서천사랑장학회에 500만원도 전달했다.'],\n",
       " ['경기도교육청은 사립유치원 전수감사를 통해 처분이 확정된 유치원 20곳의 명단을 교육청 홈페이지에 추가 공개하고 세금 탈루가 의심되는 19곳에 대해서는 국세청에 통보할 예정인데, 현재까지 원아 수 200명 이상 대형 유치원 120곳 중 112곳에 대한 감사를 완료했으며, 이달부터 원아 수 100명 이상 200명 미만의 사립유치원 397곳을 대상으로 감사가 진행되고 있다.',\n",
       "  '경기도교육청은 원아 수 200명 이상의 대형 유치원 120곳을 대상으로 진행한 감사 결과, 처분이 확정된 유치원 수원 6곳, 김포 4곳 등 20곳의 명단을 공개하고 세금 탈루가 의심되는 19곳을 국세청에 통보할 것이라고 밝혔다.'],\n",
       " ['여수시가 한국지방자치경영대상 시상식에서 열린 혁신부문 대상을 차지했다.',\n",
       "  '사랑방좌담회 도입,열린 청원제도,기초단체 매니페스토 우수사례 등이 평가를 받았고 정부혁신 평가에서는 전남에서 유일하게 총리상의 영예를 안았다.'],\n",
       " ['강열 광주환경공단 이사장 후보자가 시민사회단체 이사장으로 활동하면서 규정을 위반해 급여를 받은 사실이 드러나 광주시의회 인사청문특별위원회는 12일 김 후보자에 대한 인사청문회를 실시했다.',\n",
       "  '또한, 김 후보자의 경영능력에 대한 의문도 제기됐다.'],\n",
       " [\"20일 한국서부발전은 미국 전력연구소(EPRI) 및 현지 발전사들과 '글로벌 정비관리 플랫폼(Global PM 플랫폼)'을 개발 중이라고  밝혔는데, EPRI의 정비기준 개발 전용 시스템 PMBD와 서부발전의 현장 정비관리 전용 시스템 WP-PM을 연계해주는 역할을 할 이 Global PM 플랫폼을 2020년까지 개발 완료할 예정이라고 한다.\",\n",
       "  '한국서부발전은 20일 전력산업 기술 개발을 위해 1913년 설립된 비영리 컨소시엄 연구소 EPRI 및 현지 발전사들과 함께 2020년까지 두 기관의 중요 시스템인 WP-PM을 연계해주는 역할을 하는 글로벌 정비관리 플랫폼인 Global PM을 개발할 예정이다.'],\n",
       " [\"호남대학교가 개교 50주년인 2028년까지 대학교육과 산학연구, 국제연략, 학생지원,  대학경영 등의 5대 부문에서의 혁신을 통해 교육가치 창출 1위대학이 되겠다는 목표를 갖고, '호남대 vision 2028'을 발표하였으며, 대학교육 혁신으로 세상을 바꿀 수 있는 융복합대학으로 거듭나겠다는 비전을 밝혔다.\",\n",
       "  '호남대는 이를 위해 대학교육 혁신, 산학 연구 혁신, 국제역량 혁신, 학생지원 혁신, 대학경영 혁신 등 5대 혁신 발전전략과 함께 20개의 전략과제를 세부적으로 발표하였다.',\n",
       "  \"박상철 호남대 총장은 'vision2028'을 통해 호남을 대표하는 5차산업혁명 혁신선도대학으로서 지역과 국가발전을 이끌어 갈 창의 융합형 인재를 양성하기 위해 이를 수립했다고 밝혔다.\"],\n",
       " ['충청북도는 지역실정에 맞는 외국인 환자 유치사업 역량 강화 및 지자체별 특화 의료기술 발굴·지원을 위해 보건복지부에서 공모하여 국비 7500만 원을 확보하여 지역 특화 의료기술 발굴·강화하였다.',\n",
       "  '이는 지역 의료 수준 향상, 해외 시장에서 의료 기술 경쟁력 강화, 의료기관 외국인 환자 유치 등으로 지역경제가 활성화 될 것을 기대하고 있다.'],\n",
       " ['당진시건강가정지원센터는 아이돌보미 양성교육을 통해 부모의 맞벌이 등으로 양육 공백이 발생한 가정의 만3개월 이상부터 만12세 이하 아동을 아이돌보미가 직접 찾아가 돌봐주는 아이돌봄서비스를 제공하는데 이는 연중 24시간 원하는 때에 언제든 이용 가능하다.',\n",
       "  '아이돌봄서비스(지원사업)란 다.'],\n",
       " ['최근 10년 동안 폭염과 열대야 지속일이 갈수록 증가하고 있는 가운데 폭염특보가 20일 이상 지속중이다.',\n",
       "  '이에 광양시에서는 폭염으로 인한 시민들의 불편을 최소화하기 위해 지난해에 이어 도시공원 분수 시설 운용, 그늘막 설치 등을 확대하고 있다.'],\n",
       " ['광주시의 이용섭 조직위원장은 2019광주세계수영선수권대회를 성공적인 대회로 치르기 위해 최선을 다한 것에 대한 공로로 국제수영연맹(FINA)로부터 감사패를 받아 대회의 성공적인 개최를 한 것에 대한 노력을 인정받았다.',\n",
       "  '이용섭 조직위원장은 “광주가 이번 세계수영선수권대회를 통해 FINA와 뜻깊은 인연을 맺게 돼 더없이 기쁘다”면서 “저와 150만 고 밝혔다.'],\n",
       " ['전남도와 광주상공회의소는 오는 9월 6일까지 광주상공회의소 1층에서 직원과 회원사를 대상으로 우수 농수특산물을 판매한다.',\n",
       "  '이번 캠페인은 추석이 농식품 소비에 큰 비중을 차지하는 중요한 시기인 만큼 기업이 전남 농식품 소비 촉진에 적극 동참하도록 하기 위한 것이다.'],\n",
       " ['전남은 전국에서 해양 길이당 쓰레기 분포 조사 결과 제일 많은 것으로 나타났다.',\n",
       "  '이에따라 김역록 지사는 2022년까지 해양쓰레기 제로화에 나섰고 정화운반선 지원 확대등 국고 보조율 상향을 해야 한다는 목소리도 높아졌다.'],\n",
       " ['김영록 전남지사가 3차례 태풍후 피해 벼에 대해 철저한 품질관리를 부탁하였다.',\n",
       "  '피해를 입은 벼에 대해서는 적극적으로 도움이 되도록 지도해나갈 계획이라 하였다.'],\n",
       " ['화순 모 보건지소에서 같은 지소로 발령받은 부부가 흉기로 자신의 아내를 찌르고 자신도 흉기로 찌른 뒤 자해해 사망하는 사건이 일어났다.',\n",
       "  '두 사람은 최근 이혼한 사실을 바탕으로 범행 동기를 파악, 유족들과 주변인들을 대상으로 정확한 사건 경위를 조사할 예정이다.'],\n",
       " [\"9일 방송된 SBS '그것이 알고싶다'에서는 사라진 세 딸과 과외선생 함명주(가명)의 자세한 이야기를 추적했다.\",\n",
       "  '함씨와 관련된 사람들은 죽거나 사라졌고 빚 독촉에 시달리는 경우가 많았으며 방송을 본 누리꾼은 해당 의혹에 대한 수사를 촉구했다.'],\n",
       " ['자유 한국당 송언석 의원은 28일 우리나라 경제성장률이 10년 만에 최저치 도달이 좌파식 경제 실험이냐고 따졌으며 대통령 취임식에서 언급한 ‘한 번도 경험해보지 못한 나라’의 종착점이 ‘모두 함께 힘들게 사는 나라’는 아니지 않는가?',\n",
       "  '”라고 반문하면서 기업의 기(氣)를 북도우는 정책을 추진해 국가 경제회복에 앞장서야 한다”고 주장했다.'],\n",
       " ['전남, 광주에 장맛비가 쏟아지며 물난리 피해가 발생했다.',\n",
       "  '게다가 이 상황에서 전남재난안전대책본부 측의 안일한 대처도 논란이 되고 있다.'],\n",
       " [\"태안군은 지난 29일 군청 대강당에서 관계자 170여 명이 참석한 가운데 교육 발전과 학생들의 올바른 성장을 위하여 '태안군 사랑 장학회 2019년 장학증서 수여식'을 가졌으며 이날 장학회는 엄격한 심사를 거쳐 선발된 초.중.고.\",\n",
       "  '대학생 161명에게 총 3억800만 원의 장학증서를 수여했다.'],\n",
       " [\"국립남도국악원은 3일 오후 7시 국립남도국악원 진악당에서 국악연주단의 '국악의 향연' 공연을 선보일 예정인데, 노래·춤·악기의 조화를 이뤄 구성될 본 공연은 무료로 진행으로 공연 당일 오후 6시 20분 진도읍사무소, 6시 35분 십일시 사거리에서 무료 셔틀버스도 운행된다.\",\n",
       "  '무료 관람 가능한 국립남도국악원 국악연주단의 ‘국악의 향연’ 공연을 선보인다.'],\n",
       " ['영화 ‘추격자’가 TV 방영하면서 실시간 검색어에 오르며 관심을 모으고 있는 가운데 한 인터뷰에서 한재덕 대표에게 나홍진 감독 차기작이 우범곤 총기 사건을 모티프로 한다는 그 영화인가?',\n",
       "  '”라고 질문하자 나홍진 감독과는 구두로 \"함께 하자\"고 이야기를 나눈 상태라고 답했다.'],\n",
       " ['당진시보건소는 자격 기준을 갖춘 가구에 대해 매월 기저귀 6만4천원, 기저귀 및 분유 동시 최대 15만원을 지원하는 지원사업을 진행 중이다.',\n",
       "  '접수는 보건소 및 각 행정복지센터에서 가능하며, 신청 문의는 보건소 모자건강팀 041)360-6080~4로 문의하면 세부사항을 안내 받을 수 있다.'],\n",
       " ['4일 해남경찰서와 해남소방서에 따르면 지난달 30일 오전11시3분 해남군 화원면에 사는 A(79)씨가 실종됐다는 신고가 경찰에 접수되어 경찰과 소방, 육군 등이 투입되어 수색 중 수색 개시 2시간30여분만인 오전 11시35분쯤 군부대 수색견이 A씨의 것으로 추정되는 슬리퍼를 발견한 후 주변을 집중 수색하여 A를 발견했다.',\n",
       "  'A씨는 타박상 및 탈수 증상을 보였으나 그 외 큰부상 없이 발견됐다.'],\n",
       " ['고흥군은 네팔.인도.',\n",
       "  '카타르 기업대표와 총 150만불의 수출 협약을 체결하고 고흥 농수특산품 수출 및 판매 확대를 위해 상호 간 적극 노력하기로 합의하여 앞으로 수출 확대를 도모할 수 있는 좋은 기회가 될 것으로 기대하고 있으며, 몽골.체코 등 신규 수출 채널 확대에 대비해 수출경쟁력 강화에 힘쓰겠다고 밝혔다.'],\n",
       " ['13일 시교육청에 따르면 교실 공기 질 개선을 위해 겨울방학기간 36억원, 올해말까지 168억원을 투입해 대구 유.초.중.고.',\n",
       "  '특수학교 전 학급에 공기정화장치를 보급한다.'],\n",
       " [\"광주시 동구는 '아이 키우기 좋은 동구'를 목표로 생활환경.안전.교육환경.보건복지.\",\n",
       "  \"놀이권 보장을 위한 5대 분야별 '동구형 아동친화도시 종합계획을 수립하였으며, 계획에는 5대영역 20개 아동친화도시 세부사업이 포함됐다.\"],\n",
       " ['프로축구 K리그2 전남 드래곤즈가 지난 19일 전남 광양전용구장에서 아산 무궁화와의 경기에서 브루노 바이오의 대뷔골과 정재희의 쐐기골을 앞세워 2대0 승리를 거뒀다.',\n",
       "  '이는 전경준 감독 대행 체제에서 처음 울리는 승전고이다.'],\n",
       " [\"22일까지 북구에서 '지방규제 개선 아이디어'를 공모한다.\",\n",
       "  '접수된 아이디어는 6월 중 제한심사위원회에서 제안 등급을 정해 북구청장상과 함께 부상을 지급한다.'],\n",
       " ['광주문화예술회관 대극장에서 정기연주회를 개최한다.',\n",
       "  '첫곡 영웅행진곡을 장식으로 오케스트라와 오르간 만남으로 음악체험을 선사할 예정이다.'],\n",
       " ['청담동 주식부자 이희진 씨의 부모를 살해한 김씨는 이희진 씨의 동생 이희문씨가  부가티를 판 대금 중 부모에게 전달된 5억원을 훔친 것으로 드러났다.',\n",
       "  '이수정 경기대학교 범죄심리학과 교수는 이희문씨가 전달한  5억원이 집에  있었다는 사실을 알 정도라면 김씨와 이희문씨는 무연고일 가능성이 희박하다고 언급했다.'],\n",
       " [\"(재)군포문화재단이 수리산상상마을에서 진행하는 미디어아트 기획전시 '모두 잠든 밤, 빛을 주우러 가자'가 어린이들에게 새로운 경험의 기회를 제공하여 일 평균 240명의 관람객이 찾았고.\",\n",
       "  '오픈 40여일 만에 관람객 수 1만 명을 넘었다.'],\n",
       " ['광주시 어등산 관광단지 조성사업을 두고 광주도시공사와 우선협상대상자인 서진건설과 최종 사업협약 체결절차에서 이견이 좁혀지지 않고 있다.',\n",
       "  '공모지침에는 최종 협약체결 대상자는 사업이행보증금으로 전체 사업비의 10%(480억원)를 10일 이내에 납부해야 하지만 서진건설 측은 3단계로 나눠 분할납부하겠다는 제안을 하며 이견이 좁혀지지 않아 사업 자체가 좌초될 가능성이 제기되고 있다.'],\n",
       " ['2018년 공무원 임용에 합격한 충남도립대학교 학생은 총 45명(공개경쟁 37명, 경력경쟁 8명)으로 개교 이래 20년간 총 752명의 공직자가 배출됐는데, 이에 허재영 총장은 공직진출을 위해 지원한 다양한 프로그램들이 실질적 결실을 맺어가고 있으며, 앞으로 중부권 최고의 공직 배출 명문대의 명성을 계속 이어갈 수 있도록 최선을 다할 것을 다짐했다.',\n",
       "  '허재영 총장은 심야학습 등의 공직 진출을 위한 다양한 프로그램을 지원해 실질적 결실을 맺고 있는 충남도립대학교가 2018년 공무원 임용에 최종 45명 합격하며 개교 이래 총 752명의 공직자를 배출했다고 밝혔다.'],\n",
       " [\"고용노동부와 전남도가 주체하고 한국장애인고용공단 전남지사와 한국장애인고용안정협회 전남지부가 주관해서 열리는 '전남도 장애인 기능경기대회'가 26일에 목포에서 개막한다.\",\n",
       "  '이 대회에는 24개의 직종에 216명의 선수가 참가할 예정이다.'],\n",
       " [\"19일 방송된 MBC PD수첩 '검찰, 반성 없는 반성문' 편에서는 2013년 원주의 한 별장에서 사회 고위급 인사가 성접대하는 모습이 담긴 영상이 공개됐고, 이 남성이 김학의 전 법무부 차관이 아니냐는 의혹이 불거졌음에도 불구하고 인물을 특정할 수 없다는 등 여러 이해할 수 없는 이유를 들어 사건을 덮은 검찰의 이야기를 다뤘다.\",\n",
       "  '검찰이 덮었으나, 지난해 7월 법무부 검찰 과거사 위원회에서 검찰권 남용 의혹 사건으로 선정된 김학의 전 차관 별장 성접대 사건을 다루었다.'],\n",
       " ['현대차는 10일 GM 및 BMW 등에서 전문적인 경력을 가진 서주호 디자이너를 현대디자인이노베이션실 상무로 영입한다고 발표했다.',\n",
       "  '현대자동차는 디자이너로서 20년의 다채로운 경험과 스타트업에서의 근무 경력은 기존 선행디자인 조직의 혁신과 역할 확대에 상당히 부합할 것으로 기대하고 있는데,  특히 고성능 전기차의 선행 및 양산 디자인을 이끈 서주호 디자이너의 경력은 현대차  EV 라이업 디자인의 경쟁력을 제고하는 데 기여할 것으로 예상하고 있다.'],\n",
       " ['민선7기 광주시가 사회적 대통합의 광주형일자리 모델인 광주글로벌모터스가 26일 공장 착공 기공식을 하여 공사에 돌입한다.',\n",
       "  '생산직 채용은 투명성을 확보하려 외부 전문업체에 위탁하는 방식으로 진행한다.'],\n",
       " [\"태안군은 23일 군청 브리핑실에서 정례 브리핑을 통해 '문화가 있는 태안'건설에 나선다고 하였다.\",\n",
       "  '지역의 문화유산을 적극 발굴, 보존하여 다양한 시책을 추진키로 했다.',\n",
       "  '또한 문용현 문화예술과장은 \"올해 1월 기존의 \\'문화관광체육과\\'를 각 분야별로 분과하여 정책 추진력을 높였으며, 앞으로 군민 여가활동의 품격을 높일 수 있도록 하겠다\"고 말했다.'],\n",
       " ['제4회 부천세계비보이대회(BBIC)가 6일부터 8일까지 3일간 부천시청 어울마당에서 펼쳐진다.',\n",
       "  '부천세계비보이대회는 국내 유일 비보이 세계대회로 부천시가 주최하고 세계 5대 메이저 대회를 석권한 비보이팀 진조크루가 주관한다.',\n",
       "  '24개국 600여 명의 비보이가 참가해 총상금 4천200만 원을 놓고 열띤 경쟁을 펼치며 매일 다른 매력의 무대를 선보인다.'],\n",
       " [\"논산시는 19일에 웰빙을 넘어 웰다잉으로 '아름다운 노년만들기'에 나섰다.\",\n",
       "  \"'웰다잉 전문 지도자'교육은 고령화시대에 맞춰 건강한 노후를 추구, 삶의 가치 및 생명존중 문화 확산을 통한 건강한 지역사회를 구현하기 뒤한 직원 연량 강화 교육이다.\",\n",
       "  '이에 논산시보건소 관계자는 \"초고령화로 가는 현재\\'웰빙, 웰다잉\\' 웰에이징\\' 할 수 있도록 도와주는 존재는 필수이며 \"전문 지도자 양성을 통해 행복한 노후를 응원하고, 안내할 수 있도록 최선을 다하겠다\"고 말하였다.'],\n",
       " ['2018- 2019 유럽축구연맹(UEFA) 챔피언스리그(이하 UCL)에서 메시가 현재 8골로 최다 득점을 기록하고 있고 호날두 역시 앞서 열린 UCL 16강 2차전에서 헤트트릭을 기록하며, 호날두 역시 앞서 열린 UCL 16강 2차전에서 헤트트릭을 기록하며 ‘인생 경기’를 펼쳤다.',\n",
       "  '세기의 라이벌인 두 사람의 득점 경쟁이 치열하다.'],\n",
       " [\"남도일보는 9일 1층 대회의실에서 강신중 법무법인 강율 대표 변호사를 초청해 임직원들을 대상으로 '양성평등 및 공정보도와 취재윤리'를 주제로 직원 역량 강화 교육을 실시했는데, 강 변호사는 언론의 자유가 언론의 공정성을 훼손할 위험성과 세대간 간극으로 인한 직장 내 성범죄 문제에 대해 설명했다.\",\n",
       "  \"직장 내 성범죄의 원인인 '세대간 성인식의 간극'이 벌어지지 않도록 의식 개선이 중요하다고 강조했다.\"],\n",
       " ['광주 도구가 2020년 신규 역점시책 보고히를 개최했다.',\n",
       "  '신규시책93건 역점시책 142건이 나왔으며 이번 보고회에서 제안된 사업을 토대로 보완, 수정을 거쳐 예산안 편성과 주요업무계획에 반영할 방침이다.'],\n",
       " ['대진대학교 휴먼건축공학부가 양국 건축의 차이를 이해하고 상호 보완하여 미래 건축에 대한 답을 찾아보고자 개최한 ‘제1회 한·일 취업연계 학생교류’에서 한일 건축전공 학생 15명(한국 11명, 일본 4명)이 참가해 3일간의 합숙을 통해 많은 학생들이 실생활에 반영할 수 있는 창의적 아이디어를 제시하는 등 기대 이상의 성과를 이뤄냈다.',\n",
       "  '대진대학교 휴먼건축공학부가  3일간 주제에 대한 집중토의를  하면서 양국 건축의 차이를 이해하고 상호 보완하여 미래 건축의 해답을 찾아보고자  한일 건축전공 학생 15명(한국 11명, 일본 4명)이  통해  참석한 ‘제1회 한·일 취업연계 학생교류’를 진행 했다.'],\n",
       " [\"3월 4일부터 31일까지 대전일보사 1층 복합문화예술공간 Lab MAR's 에서 화성을 흥미롭게 보고 즐길 수 있도록 '화성에 대한 오해와 진실', '화성탐사의 역사', '탐사차가 보낸 화성 영상', '화성 포토존'의 4개의 존으로 구성된 '화성, 너 누구니?\",\n",
       "  \"' 전시회를 개최한다.\"],\n",
       " ['나주 혁신도시 이노시티 애시앙이 20일날 1천478가구를 분양한다고 밝혔다.',\n",
       "  '여러 옵션과 서비스, 커뮤니티 시설이 들어서며 근처에 한국전력 공사 본사를 비롯한 총 16개의 공공기관과 협력업체들이 다수 포진해 있어 직주근접 요소를 갖췄다.',\n",
       "  '23일~24일 특별공급을 시작으로 25일 1순위 청약, 28일 2순위 청약을 받는다.'],\n",
       " ['제11회 즐거운 2019 목재페스티벌이 열렸다.',\n",
       "  '경기대회와 함께 목재체험부스가 진행됐다.',\n",
       "  '목재페스티벌은 친환경 재료이며 인체 친화재료인 목재의 중요성과 효율성을 알리는 체험교육의 장으로 자리잡았다.'],\n",
       " ['수원에서 14년 동안 해장국을 운영해온 이창성·양숙희 대표가 구 원당가든 자리에 ‘원당해장’을 개업했으며 가장 신선하고 맛좋은 고기를 제공하고 있으며 배추김치와 깍두기맛도 자랑할 만하다.',\n",
       "  '대표가 직접 주방서 요리하며 48시간 푹 고은 육수를 사용해 정성을 더했다.'],\n",
       " [\"23일 세종시의회 '2019 행정사무감사'의 교육안전위원회 진행 중 의원간 진행절차 이견으로 인한 감사 중단 사태가 벌어졌다.\",\n",
       "  '5분여간 상병헌 위원장과 윤형권 의원 간의 고성으로 중단된 감사는 약 2시간 이후 재개되었으며, 상위원장은 진행절차 협의사항에 대해 고지하고 윤 의원은 항의에 대하여 사과를 표명하였다.']]"
      ]
     },
     "execution_count": 19,
     "metadata": {
      "tags": []
     },
     "output_type": "execute_result"
    }
   ],
   "source": [
    "multi_abstractives = []\n",
    "for abstractive in train_df['abstractive'].values:\n",
    "    sents_splited = kss.split_sentences(abstractive)\n",
    "    if len(sents_splited) > 1:\n",
    "        is_multi_sent = False\n",
    "        for sent_splited in sents_splited:\n",
    "            if sent_splited[-1] in ['.','?' ]:\n",
    "                is_multi_sent = True\n",
    "            else:\n",
    "                is_multi_sent = False\n",
    "                break\n",
    "        if is_multi_sent:\n",
    "            multi_abstractives.append(sents_splited)\n",
    "print(len(multi_abstractives))\n",
    "multi_abstractives"
   ]
  },
  {
   "cell_type": "code",
   "execution_count": 26,
   "metadata": {
    "colab": {
     "base_uri": "https://localhost:8080/",
     "height": 410
    },
    "id": "MvodYUjjrJOa",
    "outputId": "f9137788-1cae-4b9f-b004-17ece80364c2"
   },
   "outputs": [
    {
     "data": {
      "text/plain": [
       "<matplotlib.axes._subplots.AxesSubplot at 0x7fda272414e0>"
      ]
     },
     "execution_count": 26,
     "metadata": {
      "tags": []
     },
     "output_type": "execute_result"
    },
    {
     "data": {
      "image/png": "[encoded data removed]",
      "text/plain": [
       "<Figure size 1152x432 with 2 Axes>"
      ]
     },
     "metadata": {
      "tags": []
     },
     "output_type": "display_data"
    }
   ],
   "source": [
    "# word 수\n",
    "import re\n",
    "abstractive_word_counts = train_df['abstractive'].apply(lambda x:len(re.split('\\s', x)))\n",
    "\n",
    "fig, axs = plt.subplots(1, 2, figsize=(16, 6), gridspec_kw=dict(width_ratios=[4, 3]))\n",
    "sns.histplot(abstractive_word_counts, binwidth=1, ax=axs[0])\n",
    "sns.boxplot(abstractive_word_counts, ax=axs[1])"
   ]
  },
  {
   "cell_type": "code",
   "execution_count": null,
   "metadata": {
    "colab": {
     "base_uri": "https://localhost:8080/"
    },
    "id": "DZa7rOYtraEu",
    "outputId": "6a10763a-9866-4c79-9ddf-97cb2497aa9c"
   },
   "outputs": [
    {
     "data": {
      "text/plain": [
       "count    42803.000000\n",
       "mean        26.113427\n",
       "std          8.133630\n",
       "min          3.000000\n",
       "25%         20.000000\n",
       "50%         25.000000\n",
       "75%         31.000000\n",
       "max         98.000000\n",
       "Name: abstractive, dtype: float64"
      ]
     },
     "execution_count": 21,
     "metadata": {
      "tags": []
     },
     "output_type": "execute_result"
    }
   ],
   "source": [
    "abstractive_word_counts.describe()"
   ]
  },
  {
   "cell_type": "markdown",
   "metadata": {
    "id": "l1F50JVhrGNT"
   },
   "source": [
    "## extractive"
   ]
  },
  {
   "cell_type": "code",
   "execution_count": null,
   "metadata": {
    "colab": {
     "base_uri": "https://localhost:8080/"
    },
    "id": "82c-6TZZrufp",
    "outputId": "5ae20be6-510d-4c59-b8ba-c6afd6ddaead"
   },
   "outputs": [
    {
     "data": {
      "text/plain": [
       "[0, 1, 3]"
      ]
     },
     "execution_count": 22,
     "metadata": {
      "tags": []
     },
     "output_type": "execute_result"
    }
   ],
   "source": [
    "train_df['extractive'][1]"
   ]
  },
  {
   "cell_type": "code",
   "execution_count": null,
   "metadata": {
    "colab": {
     "base_uri": "https://localhost:8080/"
    },
    "id": "PyO6l6hcTojb",
    "outputId": "39a577f3-ce63-4d3b-b339-a70d35904d9c"
   },
   "outputs": [
    {
     "data": {
      "text/plain": [
       "['미국 메이저리그(MLB)에서 활동하는 한국 선수들의 시즌 초반 희비가 엇갈리고 있다.',\n",
       " 'LA 에인절스의 최지만은 맹활약으로 주전 입지를 굳혀가는 반면 텍사스 레인저스의 추신수는 개막전 선발에서 밀려나는 수모를 당한 뒤에서도 좀처럼 반등을 하지 못하고 있다.',\n",
       " '최지만은 2일(한국시간) 미국 플로리다주 세인트피터즈버그 트로피카나 필드에서 열린 2019 미국프로야구 메이저리그 콜로라도 로키스와 홈경기에 3번 타자 1루수로 선발 출전해 4타수 2안타를 치고 1득점을 올렸다.',\n",
       " '시즌 타율은 0.250에서 0.313(16타수 5안타)로 올랐다.',\n",
       " '최지만은 개막전에서 4타수 무안타로 침묵했으나 이후 3경기 연속 안타이자 2경기 연속 멀티 히트를 뽑아내며 입지를 굳혀갔다.',\n",
       " '2016년 LA 에인절스 소속으로 메이저리그에 데뷔한 최지만이 2경기 연속 멀티 히트를 친 것은 이번이 처음이다.',\n",
       " '스코어가 벌어진 탓에 콜로라도 불펜의 필승조인 오승환과 최지만의 맞대결은 성사되지 않았다.',\n",
       " '추신수는 들쭉날쭉한 출전 일정 탓인지 타격감을 찾지 못하고 있다.',\n",
       " '추신수는 이날 텍사스주 알링턴 글로브 라이프 파크에서 열린 휴스턴 애스트로스와 홈경기에 1번 지명타자로 선발 출전했지만 4타수 무안타로 침묵했다.',\n",
       " '시즌 타율은 0.167에서 0.100(10타수 1안타)로 떨어졌다.',\n",
       " '추신수는 11년 만에 개막전 선발 라인업에서 제외되는 등 이날까지 텍사스가 치른 4경기 가운데 2경기에만 선발 출전했다.',\n",
       " '크리스 우드워드 텍사스 감독은 상대 선발이 좌완이면 좌타자인 추신수 대신 우타자인 헌터 펜스를 선발 지명타자로 기용하고 있다.',\n",
       " '텍사스(2승 2패)는 휴스턴 마운드에 2안타로 꽁꽁 묶이며 1-2로 패해 2연승 행진을 마감했다.',\n",
       " '한편 피츠버그 파이리츠의 강정호는 914일 만에 홈경기에 나섰지만 안타를 만들어내지 못했다.',\n",
       " '이날 펜실베이니아주 피츠버그의 PNC 파크에서 열린 세인트루이스 카디널스와 홈 개막전에 선발 라인업에서 제외된 강정호는 벤치에서 경기를 시작했다.',\n",
       " '강정호는 4-4 동점이 된 8회 초 2사 2루에서 3루 대수비로 교체 출전했다.',\n",
       " '강정호가 PNC 파크 그라운드를 다시 밟은 것은 2016년 9월 30일 시카고 컵스와의 홈 최종전 이후 정확히 914일 만이다.',\n",
       " '강정호는 8회 말 선두타자 모란이 솔로포를 터트려 스코어가 5-4가 된 이후 후속 타석에 들어섰지만 중견수 뜬공으로 물러났다.',\n",
       " '연장 10회 말 1사에서 다시 타석에 들어선 강정호는 세인트루이스의 우완 ‘파이어볼러’ 조던 힉스에게 3구 삼진으로 물러났다.',\n",
       " '2타수 무안타 1삼진으로 침묵한 강정호의 시즌 타율은 0.222(9타수 2안타)가 됐다.',\n",
       " '피츠버그는 연장 11회 혈투 끝에 5-6으로 패했다.']"
      ]
     },
     "execution_count": 23,
     "metadata": {
      "tags": []
     },
     "output_type": "execute_result"
    }
   ],
   "source": [
    "train_df['article_original'][1]"
   ]
  },
  {
   "cell_type": "code",
   "execution_count": null,
   "metadata": {
    "colab": {
     "base_uri": "https://localhost:8080/",
     "height": 383
    },
    "id": "9IjhD8CYIUrD",
    "outputId": "a3c5dbe1-141d-44ae-e9ea-f0f1143de031"
   },
   "outputs": [
    {
     "data": {
      "text/plain": [
       "<seaborn.axisgrid.FacetGrid at 0x7faab8b33f98>"
      ]
     },
     "execution_count": 24,
     "metadata": {
      "tags": []
     },
     "output_type": "execute_result"
    },
    {
     "data": {
      "image/png": "[encoded data removed]",
      "text/plain": [
       "<Figure size 360x360 with 1 Axes>"
      ]
     },
     "metadata": {
      "tags": []
     },
     "output_type": "display_data"
    }
   ],
   "source": [
    "extractives = []\n",
    "for extractive_idxes in train_df['extractive'].values:\n",
    "    extractives += extractive_idxes\n",
    "\n",
    "sns.displot(extractives, binwidth=1)  # , x=\"flipper_length_mm\""
   ]
  },
  {
   "cell_type": "code",
   "execution_count": 4,
   "metadata": {},
   "outputs": [
    {
     "data": {
      "text/plain": [
       "<seaborn.axisgrid.FacetGrid at 0x7fc3460fec50>"
      ]
     },
     "execution_count": 4,
     "metadata": {},
     "output_type": "execute_result"
    },
    {
     "data": {
      "image/png": "[encoded data removed]",
      "text/plain": [
       "<Figure size 360x360 with 1 Axes>"
      ]
     },
     "metadata": {},
     "output_type": "display_data"
    }
   ],
   "source": [
    "penguins = sns.load_dataset(\"penguins\")\n",
    "sns.displot(penguins, x=\"flipper_length_mm\")"
   ]
  },
  {
   "cell_type": "code",
   "execution_count": 6,
   "metadata": {},
   "outputs": [
    {
     "data": {
      "text/plain": [
       "<seaborn.axisgrid.FacetGrid at 0x7fc34609f208>"
      ]
     },
     "execution_count": 6,
     "metadata": {},
     "output_type": "execute_result"
    },
    {
     "data": {
      "image/png": "[encoded data removed]",
      "text/plain": [
       "<Figure size 436.35x360 with 1 Axes>"
      ]
     },
     "metadata": {},
     "output_type": "display_data"
    }
   ],
   "source": [
    "sns.displot(penguins, x=\"flipper_length_mm\", hue=\"sex\", multiple=\"dodge\")"
   ]
  },
  {
   "cell_type": "code",
   "execution_count": null,
   "metadata": {
    "colab": {
     "base_uri": "https://localhost:8080/",
     "height": 145
    },
    "id": "UhrVTStJr6RD",
    "outputId": "b1df69de-2449-4e71-b5ea-2ed4d510659e"
   },
   "outputs": [
    {
     "data": {
      "text/html": [
       "<div>\n",
       "<style scoped>\n",
       "    .dataframe tbody tr th:only-of-type {\n",
       "        vertical-align: middle;\n",
       "    }\n",
       "\n",
       "    .dataframe tbody tr th {\n",
       "        vertical-align: top;\n",
       "    }\n",
       "\n",
       "    .dataframe thead th {\n",
       "        text-align: right;\n",
       "    }\n",
       "</style>\n",
       "<table border=\"1\" class=\"dataframe\">\n",
       "  <thead>\n",
       "    <tr style=\"text-align: right;\">\n",
       "      <th></th>\n",
       "      <th>media</th>\n",
       "      <th>id</th>\n",
       "      <th>article_original</th>\n",
       "      <th>abstractive</th>\n",
       "      <th>extractive</th>\n",
       "      <th>extractive_sents</th>\n",
       "    </tr>\n",
       "  </thead>\n",
       "  <tbody>\n",
       "    <tr>\n",
       "      <th>0</th>\n",
       "      <td>당진시대</td>\n",
       "      <td>327827480</td>\n",
       "      <td>[당진시 문화관광과를 대상으로 하는 행정사무감사에서 당진시립합창단 관계자가 보낸 것...</td>\n",
       "      <td>지난 6일 당진시의회 행정사무감사에서 '합창단이 소리를 작게 낼 것이니 알고 있으라...</td>\n",
       "      <td>[0, 1, 2]</td>\n",
       "      <td>[당진시 문화관광과를 대상으로 하는 행정사무감사에서 당진시립합창단 관계자가 보낸 것...</td>\n",
       "    </tr>\n",
       "    <tr>\n",
       "      <th>1</th>\n",
       "      <td>국제신문</td>\n",
       "      <td>339840364</td>\n",
       "      <td>[미국 메이저리그(MLB)에서 활동하는 한국 선수들의 시즌 초반 희비가 엇갈리고 있...</td>\n",
       "      <td>LA 에인절스의 최지만이 맹활약을 하여 시즌 타율 0.250에서 0.313으로 올리...</td>\n",
       "      <td>[0, 1, 3]</td>\n",
       "      <td>[미국 메이저리그(MLB)에서 활동하는 한국 선수들의 시즌 초반 희비가 엇갈리고 있...</td>\n",
       "    </tr>\n",
       "  </tbody>\n",
       "</table>\n",
       "</div>"
      ],
      "text/plain": [
       "  media  ...                                   extractive_sents\n",
       "0  당진시대  ...  [당진시 문화관광과를 대상으로 하는 행정사무감사에서 당진시립합창단 관계자가 보낸 것...\n",
       "1  국제신문  ...  [미국 메이저리그(MLB)에서 활동하는 한국 선수들의 시즌 초반 희비가 엇갈리고 있...\n",
       "\n",
       "[2 rows x 6 columns]"
      ]
     },
     "execution_count": 25,
     "metadata": {
      "tags": []
     },
     "output_type": "execute_result"
    }
   ],
   "source": [
    "#train_df['extractive_sents'] = np.array(train_df['article_original'][i])[extractive_idxes]) for i, extractive_idxes in enumerate(train_df['extractive']) ]\n",
    "train_df['extractive_sents'] = train_df.apply(lambda row: list(np.array(row['article_original'])[row['extractive']]) , axis=1)\n",
    "train_df[:2]\n",
    "# extractive_sents = [ train_df['article_original'][i][extractive_idx] for i, extractive_idxes in enumerate(train_df['extractive']) \n",
    "#                                                     for extractive_idx in extractive_idxes ]\n",
    "# extractive_sents[:2]"
   ]
  },
  {
   "cell_type": "code",
   "execution_count": null,
   "metadata": {
    "colab": {
     "base_uri": "https://localhost:8080/"
    },
    "id": "3pmp9ptQVZ7V",
    "outputId": "f35b5790-42ea-4ef2-abb8-edbe36119320"
   },
   "outputs": [
    {
     "data": {
      "text/plain": [
       "['미국 메이저리그(MLB)에서 활동하는 한국 선수들의 시즌 초반 희비가 엇갈리고 있다.',\n",
       " 'LA 에인절스의 최지만은 맹활약으로 주전 입지를 굳혀가는 반면 텍사스 레인저스의 추신수는 개막전 선발에서 밀려나는 수모를 당한 뒤에서도 좀처럼 반등을 하지 못하고 있다.',\n",
       " '시즌 타율은 0.250에서 0.313(16타수 5안타)로 올랐다.']"
      ]
     },
     "execution_count": 26,
     "metadata": {
      "tags": []
     },
     "output_type": "execute_result"
    }
   ],
   "source": [
    "train_df['extractive_sents'][1]"
   ]
  },
  {
   "cell_type": "code",
   "execution_count": null,
   "metadata": {
    "colab": {
     "base_uri": "https://localhost:8080/",
     "height": 412
    },
    "id": "1EXO7_q4Kic8",
    "outputId": "64321401-558a-49bd-9d75-6510c2f7fa00"
   },
   "outputs": [
    {
     "data": {
      "text/plain": [
       "<matplotlib.axes._subplots.AxesSubplot at 0x7faa9e1973c8>"
      ]
     },
     "execution_count": 27,
     "metadata": {
      "tags": []
     },
     "output_type": "execute_result"
    },
    {
     "data": {
      "image/png": "[encoded data removed]",
      "text/plain": [
       "<Figure size 1152x432 with 2 Axes>"
      ]
     },
     "metadata": {
      "tags": []
     },
     "output_type": "display_data"
    }
   ],
   "source": [
    "# word 수\n",
    "extractive_word_counts = train_df['extractive_sents'].apply(lambda x:len(' '.join(x).split(' ')))\n",
    "\n",
    "fig, axs = plt.subplots(1, 2, figsize=(16, 6), gridspec_kw=dict(width_ratios=[4, 3]))\n",
    "sns.histplot(extractive_word_counts, binwidth=1, ax=axs[0])\n",
    "sns.boxplot(extractive_word_counts, ax=axs[1])"
   ]
  },
  {
   "cell_type": "code",
   "execution_count": null,
   "metadata": {
    "colab": {
     "base_uri": "https://localhost:8080/",
     "height": 323
    },
    "id": "O1BYLFyp9B1_",
    "outputId": "6728a4c6-bd6e-47a4-81d3-cf7fe8d2d033"
   },
   "outputs": [
    {
     "data": {
      "text/html": [
       "<div>\n",
       "<style scoped>\n",
       "    .dataframe tbody tr th:only-of-type {\n",
       "        vertical-align: middle;\n",
       "    }\n",
       "\n",
       "    .dataframe tbody tr th {\n",
       "        vertical-align: top;\n",
       "    }\n",
       "\n",
       "    .dataframe thead th {\n",
       "        text-align: right;\n",
       "    }\n",
       "</style>\n",
       "<table border=\"1\" class=\"dataframe\">\n",
       "  <thead>\n",
       "    <tr style=\"text-align: right;\">\n",
       "      <th></th>\n",
       "      <th>media</th>\n",
       "      <th>id</th>\n",
       "      <th>article_original</th>\n",
       "      <th>abstractive</th>\n",
       "      <th>extractive</th>\n",
       "      <th>extractive_sents</th>\n",
       "      <th>no_extractive_sents</th>\n",
       "    </tr>\n",
       "  </thead>\n",
       "  <tbody>\n",
       "    <tr>\n",
       "      <th>0</th>\n",
       "      <td>당진시대</td>\n",
       "      <td>327827480</td>\n",
       "      <td>[당진시 문화관광과를 대상으로 하는 행정사무감사에서 당진시립합창단 관계자가 보낸 것...</td>\n",
       "      <td>지난 6일 당진시의회 행정사무감사에서 '합창단이 소리를 작게 낼 것이니 알고 있으라...</td>\n",
       "      <td>[0, 1, 2]</td>\n",
       "      <td>[당진시 문화관광과를 대상으로 하는 행정사무감사에서 당진시립합창단 관계자가 보낸 것...</td>\n",
       "      <td>[문제의 문자메세지를 전달받은 문화관광과는 감사법무담당관에게 조사를 의뢰했다., 권...</td>\n",
       "    </tr>\n",
       "    <tr>\n",
       "      <th>1</th>\n",
       "      <td>국제신문</td>\n",
       "      <td>339840364</td>\n",
       "      <td>[미국 메이저리그(MLB)에서 활동하는 한국 선수들의 시즌 초반 희비가 엇갈리고 있...</td>\n",
       "      <td>LA 에인절스의 최지만이 맹활약을 하여 시즌 타율 0.250에서 0.313으로 올리...</td>\n",
       "      <td>[0, 1, 3]</td>\n",
       "      <td>[미국 메이저리그(MLB)에서 활동하는 한국 선수들의 시즌 초반 희비가 엇갈리고 있...</td>\n",
       "      <td>[최지만은 2일(한국시간) 미국 플로리다주 세인트피터즈버그 트로피카나 필드에서 열린...</td>\n",
       "    </tr>\n",
       "    <tr>\n",
       "      <th>2</th>\n",
       "      <td>기호일보</td>\n",
       "      <td>371071597</td>\n",
       "      <td>[인천 부영공원 운영 생활야구협회 80여 동호회 팀에 260만 원씩 받아, 국유지로...</td>\n",
       "      <td>16일 부평구와 협회 등에 따르면 부영공원 안에 있는 야구장을 구생활체육야구협회가 ...</td>\n",
       "      <td>[6, 7, 10]</td>\n",
       "      <td>[16일 부평구와 협회 등에 따르면 부영공원 안에 있는 야구장을 구생활체육야구협회가...</td>\n",
       "      <td>[인천 부영공원 운영 생활야구협회 80여 동호회 팀에 260만 원씩 받아, 국유지로...</td>\n",
       "    </tr>\n",
       "    <tr>\n",
       "      <th>3</th>\n",
       "      <td>대구일보</td>\n",
       "      <td>354806783</td>\n",
       "      <td>[대구·경북첨단의료산업진흥재단 의약생산센터는 항암주사제 무균충전 시설을 갖추고 있다...</td>\n",
       "      <td>대구·경북첨단의료산업진흥재단 의약생산센터는 약사법 시행규칙에서 정한 바에 따라 전용...</td>\n",
       "      <td>[1, 6, 4]</td>\n",
       "      <td>[대구·경북첨단의료산업진흥재단(이하 대구첨복재단) 의약생산센터는 주세제 특수제제인 ...</td>\n",
       "      <td>[대구·경북첨단의료산업진흥재단 의약생산센터는 항암주사제 무균충전 시설을 갖추고 있다...</td>\n",
       "    </tr>\n",
       "    <tr>\n",
       "      <th>4</th>\n",
       "      <td>대구신문</td>\n",
       "      <td>347022773</td>\n",
       "      <td>[국내 유통되는 탄산음료 중 식품의약품안전처에 품질인증을 받은 제품이 하나도 없는 ...</td>\n",
       "      <td>식품의약품안전처는 29일 어린이가 즐겨마시는 음료를 대상으로 영양성분을 조사한 결과...</td>\n",
       "      <td>[2, 3, 10]</td>\n",
       "      <td>[식품의약품안전처는 29일 여름철 어린이가 즐겨 마시는 탄산음료 282개와 혼합음료...</td>\n",
       "      <td>[국내 유통되는 탄산음료 중 식품의약품안전처에 품질인증을 받은 제품이 하나도 없는 ...</td>\n",
       "    </tr>\n",
       "  </tbody>\n",
       "</table>\n",
       "</div>"
      ],
      "text/plain": [
       "  media  ...                                no_extractive_sents\n",
       "0  당진시대  ...  [문제의 문자메세지를 전달받은 문화관광과는 감사법무담당관에게 조사를 의뢰했다., 권...\n",
       "1  국제신문  ...  [최지만은 2일(한국시간) 미국 플로리다주 세인트피터즈버그 트로피카나 필드에서 열린...\n",
       "2  기호일보  ...  [인천 부영공원 운영 생활야구협회 80여 동호회 팀에 260만 원씩 받아, 국유지로...\n",
       "3  대구일보  ...  [대구·경북첨단의료산업진흥재단 의약생산센터는 항암주사제 무균충전 시설을 갖추고 있다...\n",
       "4  대구신문  ...  [국내 유통되는 탄산음료 중 식품의약품안전처에 품질인증을 받은 제품이 하나도 없는 ...\n",
       "\n",
       "[5 rows x 7 columns]"
      ]
     },
     "execution_count": 28,
     "metadata": {
      "tags": []
     },
     "output_type": "execute_result"
    }
   ],
   "source": [
    "train_df['no_extractive_sents'] = train_df.apply(lambda row: [sent for sent in row['article_original'] if sent not in row['extractive_sents']] , axis=1)\n",
    "train_df.head()"
   ]
  },
  {
   "cell_type": "code",
   "execution_count": null,
   "metadata": {
    "colab": {
     "base_uri": "https://localhost:8080/"
    },
    "id": "kIAaBos9_JtY",
    "outputId": "bbe50607-ea19-41ba-a3f3-d5e06f3be370"
   },
   "outputs": [
    {
     "data": {
      "text/plain": [
       "0        당진시 문화관광과를 대상으로 하는 행정사무감사에서 당진시립합창단 관계자가 보낸 것으...\n",
       "1        미국 메이저리그(MLB)에서 활동하는 한국 선수들의 시즌 초반 희비가 엇갈리고 있다...\n",
       "2        16일 부평구와 협회 등에 따르면 부영공원 안에 있는 야구장을 구생활체육야구협회가 ...\n",
       "3        대구·경북첨단의료산업진흥재단(이하 대구첨복재단) 의약생산센터는 주세제 특수제제인 세...\n",
       "4        식품의약품안전처는 29일 여름철 어린이가 즐겨 마시는 탄산음료 282개와 혼합음료 ...\n",
       "                               ...                        \n",
       "42798    칠곡북삼초등학교(교장 서금자)에서는 지난달 7일부터 18일까지 3-5학년 학생 중 ...\n",
       "42799    최근 5년간, LH공공임대 임차인이 사망했으나 상속되거나 반환되지 못한 임대보증금이...\n",
       "42800    경기도의 ‘DMZ 155마일 걷기’ 행사가 5일 오전 파주 임진각에서 열린 출정식을...\n",
       "42801    지난 14일 기준 휘발유 가격이 가장 저렴한 곳은 AJ토탈(주)당진주유소(신평)였으...\n",
       "42802    양승조 충남도지사는 12일 대기오염물질 배출 주요 사업장인 현대제철㈜ 당진공장을 찾...\n",
       "Name: extractive_sents, Length: 42803, dtype: object"
      ]
     },
     "execution_count": 29,
     "metadata": {
      "tags": []
     },
     "output_type": "execute_result"
    }
   ],
   "source": [
    "train_df['extractive_sents'].apply(lambda tmp_list: ' '.join(tmp_list) )"
   ]
  },
  {
   "cell_type": "markdown",
   "metadata": {
    "id": "aIHYTacm2u9b"
   },
   "source": [
    "### 키워드 추출 위한 설치"
   ]
  },
  {
   "cell_type": "code",
   "execution_count": null,
   "metadata": {
    "id": "o-A2Zjg4_vKw"
   },
   "outputs": [],
   "source": [
    "%%capture\n",
    "# 폰트 설치\n",
    "!sudo apt-get install -y fonts-nanum\n",
    "!sudo fc-cache -fv\n",
    "!rm ~/.cache/matplotlib -rf"
   ]
  },
  {
   "cell_type": "code",
   "execution_count": null,
   "metadata": {
    "id": "eV7j4EVPuh_b"
   },
   "outputs": [],
   "source": [
    "%%capture\n",
    "\n",
    "# mecab 설치\n",
    "import os\n",
    "os.chdir('/tmp/')\n",
    "!curl -LO https://bitbucket.org/eunjeon/mecab-ko/downloads/mecab-0.996-ko-0.9.2.tar.gz\n",
    "!tar zxfv mecab-0.996-ko-0.9.2.tar.gz\n",
    "os.chdir('/tmp/mecab-0.996-ko-0.9.2')\n",
    "!./configure\n",
    "!make\n",
    "!make check\n",
    "!make install\n",
    "!ldconfig\n",
    "\n",
    "# GNU M4 설치\n",
    "os.chdir('/tmp/')\n",
    "!wget http://ftp.gnu.org/gnu/m4/m4-1.4.9.tar.gz\n",
    "!tar -zvxf m4-1.4.9.tar.gz\n",
    "os.chdir('/tmp/m4-1.4.9')\n",
    "!./configure\n",
    "!make\n",
    "!make install\n",
    "\n",
    "# autoconf 설치\n",
    "os.chdir('/tmp')\n",
    "!curl -OL http://ftpmirror.gnu.org/autoconf/autoconf-2.69.tar.gz\n",
    "!tar xzf autoconf-2.69.tar.gz\n",
    "os.chdir('/tmp/autoconf-2.69')\n",
    "!./configure --prefix=/usr/local\n",
    "!make\n",
    "!make install\n",
    "!export PATH=/usr/local/bin\n",
    "\n",
    "# automake 설치\n",
    "os.chdir('/tmp')\n",
    "!curl -LO http://ftpmirror.gnu.org/automake/automake-1.11.tar.gz\n",
    "!tar -zxvf automake-1.11.tar.gz\n",
    "os.chdir('/tmp/automake-1.11')\n",
    "!./configure\n",
    "!make\n",
    "!make install\n",
    "\n",
    "# mecab dictionary 설치\n",
    "os.chdir('/tmp')\n",
    "!curl -LO https://bitbucket.org/eunjeon/mecab-ko-dic/downloads/mecab-ko-dic-2.1.1-20180720.tar.gz\n",
    "!tar -zxvf mecab-ko-dic-2.1.1-20180720.tar.gz\n",
    "os.chdir('/tmp/mecab-ko-dic-2.1.1-20180720')\n",
    "!./autogen.sh\n",
    "!./configure\n",
    "!make\n",
    "!make install\n",
    "\n",
    "# mecab python 설치\n",
    "os.chdir('/content')\n",
    "\n",
    "!git clone https://bitbucket.org/eunjeon/mecab-python-0.996.git\n",
    "os.chdir('/content/mecab-python-0.996')\n",
    "\n",
    "!python3 setup.py build\n",
    "!python3 setup.py install"
   ]
  },
  {
   "cell_type": "markdown",
   "metadata": {
    "id": "NueTe6AO2shI"
   },
   "source": [
    "### 키워드 추출"
   ]
  },
  {
   "cell_type": "code",
   "execution_count": null,
   "metadata": {
    "id": "DvHiYN26E2hw"
   },
   "outputs": [],
   "source": [
    "import MeCab\n",
    "# tags = ['NNG','NNP','NNBC', 'NR', # 일반 명사, 고유 명사, 단위를 나타내는 명사, 수사, \n",
    "#             'VV','VA','VCP','VCN',   # 동사, 긍정 지정사, 부정 지정사\n",
    "#             'XR',   # 어근, 붙임표(물결,숨김,빠짐)/기타기호 (논리수학기호,화폐기호) 'SY',\n",
    "#             'SL', 'SH', ]  # 외국어, 한자, 숫자'SN'\n",
    "def korean_tokenizer(text, use_tags=None, print_tag=False): \n",
    "    tokenizer = MeCab.Tagger(\"-d /usr/local/lib/mecab/dic/mecab-ko-dic\")\n",
    "    parsed = tokenizer.parse(text)\n",
    "    word_tag = [w for w in parsed.split(\"\\n\")]\n",
    "    result = []\n",
    "    \n",
    "    for word_ in word_tag[:-2]:\n",
    "            word = word_.split(\"\\t\")\n",
    "            result.append(word[0]) \n",
    "\n",
    "    return result"
   ]
  },
  {
   "cell_type": "code",
   "execution_count": null,
   "metadata": {
    "id": "rNLVGaelVhqe"
   },
   "outputs": [],
   "source": [
    "text = \"\"\"위키백과의 최상위 도메인이 .com이던 시절 ko.wikipedia.com에 구판 미디어위키가 깔렸으나 한글 처리에 문제가 있어 글을 올릴 수도 없는 이름뿐인 곳이었다. 2002년 10월에 새로운 위키 소프트웨어를 쓰면서 한글 처리 문제가 풀리기 시작했지만, 가장 많은 사람이 쓰는 인터넷 익스플로러에서는 인코딩 문제가 여전했다. 이런 이유로 초기에는 도움말을 옮기거나 쓰는 일에 어려움을 겪었다. 이런 어려움이 있었는데도 위키백과 통계로는, 2002년 10월에서 2003년 7월까지 열 달 사이에 글이 13개에서 159개로 늘었고 2003년 7월과 8월 사이에는 한 달 만에 159개에서 348개로 늘어났다. 2003년 9월부터는 인터넷 익스플로러의 인코딩 문제가 사라졌으며, 대한민국 언론에서도 몇 차례 위키백과를 소개하면서 참여자가 점증하리라고 예측했다. 참고로 한국어 위키백과의 최초 문서는 2002년 10월 12일에 등재된 지미 카터 문서이다.\n",
    "2005년 6월 5일 양자장론 문서 등재를 기점으로 총 등재 문서 수가 1만 개를 돌파하였고 이어 동해 11월에 제1회 정보트러스트 어워드 인터넷 문화 일반 분야에 선정되었다. 2007년 8월 9일에는 한겨레21에서 한국어 위키백과와 위키백과 오프라인 첫 모임을 취재한 기사를 표지 이야기로 다루었다.\n",
    "2008년 광우병 촛불 시위 때 생긴 신조어인 명박산성이 한국어 위키백과에 등재되고 이 문서의 존치 여부를 두고 갑론을박의 과정이 화제가 되고 각종 매체에도 보도가 되었다. 시위대의 난입과 충돌을 방지하기 위해 거리에 설치되었던 컨테이너 박스를 이명박 정부의 불통으로 풍자를 하기 위해 사용된 이 신조어는 중립성을 지켰는지와 백과사전에 올라올 만한 문서인지가 쟁점이 되었는데 일시적으로 사용된 신조어일 뿐이라는 주장과 이미 여러 매체에서 사용되어 지속성이 보장되었다는 주장 등 논쟁이 벌어졌고 다음 아고라 등지에서 이 항목을 존치하는 방안을 지지하는 의견을 남기기 위해 여러 사람이 새로 가입하는 등 혼란이 빚어졌다. 11월 4일에는 다음커뮤니케이션에서 글로벌 세계 대백과사전을 기증받았으며, 2009년 3월에는 서울특별시로부터 콘텐츠를 기증받았다. 2009년 6월 4일에는 액세스권 등재를 기점으로 10만 개 문서 수를 돌파했다.\n",
    "2011년 4월 16일에는 대한민국에서의 위키미디어 프로젝트를 지원하는 모임을 결성할 것을 추진하는 논의가 이뤄졌고 이후 창립준비위원회 결성을 거쳐 2014년 10월 19일 창립총회를 개최하였으며, 최종적으로 2015년 11월 4일 사단법인 한국 위키미디어 협회가 결성되어 활동 중에 있다. 2019년 미국 위키미디어재단으로부터 한국 지역 지부(챕터)로 승인을 받았다.\n",
    "2012년 5월 19일에는 보비 탬블링 등재를 기점으로 총 20만 개 문서가 등재되었고 2015년 1월 5일, Rojo -Tierra- 문서 등재를 기점으로 총 30만 개 문서가 등재되었다. 2017년 10월 21일에는 충청남도 동물위생시험소 문서 등재로 40만 개의 문서까지 등재되었다.\"\"\""
   ]
  },
  {
   "cell_type": "code",
   "execution_count": null,
   "metadata": {
    "colab": {
     "base_uri": "https://localhost:8080/"
    },
    "id": "8TPzxSkIFcGg",
    "outputId": "01eb211c-998c-4dd5-b9b9-534c9ba67a29"
   },
   "outputs": [
    {
     "data": {
      "text/plain": [
       "['위키백과', '의', '최상위', '도메인', '이', '.', 'com', '이', '던', '시절']"
      ]
     },
     "execution_count": 34,
     "metadata": {
      "tags": []
     },
     "output_type": "execute_result"
    }
   ],
   "source": [
    "korean_tokenizer(text)[:10]"
   ]
  },
  {
   "cell_type": "code",
   "execution_count": null,
   "metadata": {
    "id": "4bkYhAZoBlQo"
   },
   "outputs": [],
   "source": [
    "import matplotlib.pyplot as plt\n",
    "plt.rc('font', family='NanumBarunGothic') "
   ]
  },
  {
   "cell_type": "code",
   "execution_count": null,
   "metadata": {
    "id": "eILOe0g2q1um"
   },
   "outputs": [],
   "source": [
    "from sklearn.feature_extraction.text import CountVectorizer\n",
    "\n",
    "def get_top_ngram(corpus, n=None):\n",
    "    vec = CountVectorizer(ngram_range=(n, n)).fit(corpus)\n",
    "    bag_of_words = vec.transform(corpus)\n",
    "    sum_words = bag_of_words.sum(axis=0) \n",
    "    words_freq = [(word, sum_words[0, idx]) for word, idx in vec.vocabulary_.items()]\n",
    "    words_freq =sorted(words_freq, key = lambda x: x[1], reverse=True)\n",
    "    return words_freq[:20]"
   ]
  },
  {
   "cell_type": "code",
   "execution_count": null,
   "metadata": {
    "colab": {
     "base_uri": "https://localhost:8080/",
     "height": 994
    },
    "id": "x5ru6TeJqM8m",
    "outputId": "16c75074-4b52-4db6-c292-4a3f0ccd0c7a"
   },
   "outputs": [
    {
     "data": {
      "text/plain": [
       "Text(0.5, 0.98, 'Common bigrams in extractive_sents and no_extractive_sents')"
      ]
     },
     "execution_count": 37,
     "metadata": {
      "tags": []
     },
     "output_type": "execute_result"
    },
    {
     "data": {
      "image/png": "[encoded data removed]",
      "text/plain": [
       "<Figure size 1080x1080 with 3 Axes>"
      ]
     },
     "metadata": {
      "tags": []
     },
     "output_type": "display_data"
    }
   ],
   "source": [
    "fig,ax=plt.subplots(1,3,figsize=(15,15))\n",
    "\n",
    "doc = train_df['abstractive']\n",
    "doc = doc.apply(lambda sent: ' '.join(korean_tokenizer(sent)))\n",
    "top_n_bigrams=get_top_ngram(doc,2)[:20]\n",
    "x,y=map(list,zip(*top_n_bigrams))\n",
    "sns.barplot(x=y,y=x,ax=ax[0]) # ,color=colors[i+1]\n",
    "\n",
    "doc = train_df['extractive_sents'].apply(lambda tmp_list: ' '.join(tmp_list) )\n",
    "doc = doc.apply(lambda sent: ' '.join(korean_tokenizer(sent)))\n",
    "top_n_bigrams=get_top_ngram(doc,2)[:20]\n",
    "x,y=map(list,zip(*top_n_bigrams))\n",
    "sns.barplot(x=y,y=x,ax=ax[1]) # ,color=colors[i+1]\n",
    "\n",
    "doc = train_df['no_extractive_sents'].apply(lambda tmp_list: ' '.join(tmp_list) )\n",
    "doc = doc.apply(lambda sent: ' '.join(korean_tokenizer(sent)))\n",
    "top_n_bigrams=get_top_ngram(doc,2)[:20]\n",
    "x,y=map(list,zip(*top_n_bigrams))\n",
    "sns.barplot(x=y,y=x,ax=ax[2]) # ,color=colors[i+1]\n",
    "\n",
    "    \n",
    "fig.suptitle(\"Common bigrams in extractive_sents and no_extractive_sents\")"
   ]
  }
 ],
 "metadata": {
  "colab": {
   "collapsed_sections": [
    "aIHYTacm2u9b",
    "NueTe6AO2shI"
   ],
   "name": "EDA_hangil.ipynb",
   "provenance": [],
   "toc_visible": true
  },
  "kernelspec": {
   "display_name": "Python 3",
   "language": "python",
   "name": "python3"
  },
  "language_info": {
   "codemirror_mode": {
    "name": "ipython",
    "version": 3
   },
   "file_extension": ".py",
   "mimetype": "text/x-python",
   "name": "python",
   "nbconvert_exporter": "python",
   "pygments_lexer": "ipython3",
   "version": "3.6.12"
  },
  "toc": {
   "base_numbering": 1,
   "nav_menu": {},
   "number_sections": true,
   "sideBar": true,
   "skip_h1_title": false,
   "title_cell": "Table of Contents",
   "title_sidebar": "Contents",
   "toc_cell": false,
   "toc_position": {
    "height": "calc(100% - 180px)",
    "left": "10px",
    "top": "150px",
    "width": "384px"
   },
   "toc_section_display": true,
   "toc_window_display": true
  },
  "varInspector": {
   "cols": {
    "lenName": 16,
    "lenType": 16,
    "lenVar": 40
   },
   "kernels_config": {
    "python": {
     "delete_cmd_postfix": "",
     "delete_cmd_prefix": "del ",
     "library": "var_list.py",
     "varRefreshCmd": "print(var_dic_list())"
    },
    "r": {
     "delete_cmd_postfix": ") ",
     "delete_cmd_prefix": "rm(",
     "library": "var_list.r",
     "varRefreshCmd": "cat(var_dic_list()) "
    }
   },
   "types_to_exclude": [
    "module",
    "function",
    "builtin_function_or_method",
    "instance",
    "_Feature"
   ],
   "window_display": false
  }
 },
 "nbformat": 4,
 "nbformat_minor": 1
}
