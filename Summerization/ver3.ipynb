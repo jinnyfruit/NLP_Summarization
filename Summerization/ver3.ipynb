{
 "cells": [
  {
   "cell_type": "code",
   "execution_count": 11,
   "metadata": {},
   "outputs": [],
   "source": [
    "from typing import List\n",
    "from konlpy.tag import Okt\n",
    "import json\n",
    "\n",
    "class OktTokenizer:\n",
    "    okt: Okt = Okt()\n",
    "\n",
    "    def __call__(self, text: str) -> List[str]:\n",
    "        tokens: List[str] = self.okt.pos(text, norm=True, stem=True, join=True)\n",
    "        return tokens"
   ]
  },
  {
   "cell_type": "code",
   "execution_count": 14,
   "metadata": {},
   "outputs": [
    {
     "name": "stdout",
     "output_type": "stream",
     "text": [
      "한파 특보가 내려진 30일 오전 8시20분께 서울 지하철 4호선 삼각지역 승강장. 시민들은 갑작스럽게 불어닥친 추위에 몸을 잔뜩 웅크린 채 역 안으로 들어섰다. 이날부터 서울교통공사 노조가 파업에 돌입하면서 열차 운행이 지연되지는 않을까 종종걸음으로 출근길을 서두르는 모습이었다. 더군다나 이곳에선 전국장애인차별철폐연대(전장연)의 시위까지 벌어졌다. 약 1년째 지하철 굴근길 시위를 이어온 전장연이지만 이날 강추위에 지하철 파업까지 겹치면서 시민들은 직장이나 학교에 늦을까봐 걱정스러운 표정으로 시위대 앞을 지나쳤다. 이날 전장연은 장애인 권리 예산 확보를 위한 선전전을 진행하며 삭발까지 감행했지만 대다수 시민은 눈길을 주지 않고 휴대폰을 보며 빠르게 걸어가거나, 이를 피해 빙 돌아가는 등 무관심한 모습이 이어졌다.\n"
     ]
    }
   ],
   "source": [
    "file = open('get.json')\n",
    "test = json.load(file)\n",
    "print(test.get(\"eng_to_kor\"))"
   ]
  },
  {
   "cell_type": "code",
   "execution_count": 15,
   "metadata": {},
   "outputs": [
    {
     "name": "stderr",
     "output_type": "stream",
     "text": [
      "Exception ignored on calling ctypes callback function: <function _ThreadpoolInfo._find_modules_with_dl_iterate_phdr.<locals>.match_module_callback at 0x7f2556d6f760>\n",
      "Traceback (most recent call last):\n",
      "  File \"/home/nlplab/anaconda3/envs/jiwoo/lib/python3.10/site-packages/threadpoolctl.py\", line 400, in match_module_callback\n",
      "    self._make_module_from_path(filepath)\n",
      "  File \"/home/nlplab/anaconda3/envs/jiwoo/lib/python3.10/site-packages/threadpoolctl.py\", line 515, in _make_module_from_path\n",
      "    module = module_class(filepath, prefix, user_api, internal_api)\n",
      "  File \"/home/nlplab/anaconda3/envs/jiwoo/lib/python3.10/site-packages/threadpoolctl.py\", line 606, in __init__\n",
      "    self.version = self.get_version()\n",
      "  File \"/home/nlplab/anaconda3/envs/jiwoo/lib/python3.10/site-packages/threadpoolctl.py\", line 646, in get_version\n",
      "    config = get_config().split()\n",
      "AttributeError: 'NoneType' object has no attribute 'split'\n"
     ]
    },
    {
     "name": "stdout",
     "output_type": "stream",
     "text": [
      "한파 특보가 내려진 30일 오전 8시20분께 서울 지하철 4호선 삼각지역 승강장\n",
      "약 1년째 지하철 굴근길 시위를 이어온 전장연이지만 이날 강추위에 지하철 파업까지 겹치면서 시민들은 직장이나 학교에 늦을까봐 걱정스러운 표정으로 시위대 앞을 지나쳤다\n"
     ]
    }
   ],
   "source": [
    "from typing import List\n",
    "from lexrankr import LexRank\n",
    "\n",
    "# 1. init\n",
    "mytokenizer: OktTokenizer = OktTokenizer()\n",
    "lexrank: LexRank = LexRank(mytokenizer)\n",
    "text = \"한파 특보가 내려진 30일 오전 8시20분께 서울 지하철 4호선 삼각지역 승강장. 시민들은 갑작스럽게 불어닥친 추위에 몸을 잔뜩 웅크린 채 역 안으로 들어섰다. 이날부터 서울교통공사 노조가 파업에 돌입하면서 열차 운행이 지연되지는 않을까 종종걸음으로 출근길을 서두르는 모습이었다. 더군다나 이곳에선 전국장애인차별철폐연대(전장연)의 시위까지 벌어졌다. 약 1년째 지하철 굴근길 시위를 이어온 전장연이지만 이날 강추위에 지하철 파업까지 겹치면서 시민들은 직장이나 학교에 늦을까봐 걱정스러운 표정으로 시위대 앞을 지나쳤다. 이날 전장연은 장애인 권리 예산 확보를 위한 선전전을 진행하며 삭발까지 감행했지만 대다수 시민은 눈길을 주지 않고 휴대폰을 보며 빠르게 걸어가거나, 이를 피해 빙 돌아가는 등 무관심한 모습이 이어졌다.\"\n",
    "test_text2 = \"Microsoft에서는 학습과 이해에 대해 보다 전체적이고 인간 중심적인 접근 방식을 취함으로써 기존 기술을 넘어 AI를 발전시키기 위한 탐구를 해왔습니다. Azure AI Cognitive Services의 최고 기술 책임자로서, 퀘스트를 현실로 전환하기 위해 뛰어난 과학자 및 엔지니어 팀과 협력하고 있습니다. 제 역할에서 저는 인간 인지의 세 가지 특성, 즉 단일 언어 텍스트(X), 청각 또는 시각 감각 신호(Y) 및 다국어(Z) 간의 관계를 보는 고유한 관점을 활용합니다. 세 가지가 모두 교차하는 지점에는 그림 1에 나와 있는 바와 같이 XYZ-코드라고 하는 매직이 있습니다. 인간보다 더 잘 말하고, 듣고, 보고, 이해할 수 있는 강력한 AI를 만드는 공동 표현입니다. XYZ-코드를 통해 장기적인 비전(도메인 간 전이 학습, 형식 및 언어 확장)을 수행할 수 있습니다. 목표는 오늘날 인간이 하는 것처럼 광범위한 다운스트림 AI 작업을 지원하기 위해 표현을 공동으로 학습할 수 있는 미리 학습된 모델을 보유하는 것입니다. 지난 5년간 대화형 음성 인식, 기계 번역, 대화형 질문 답변, 기계 판독값 이해 및 이미지 자막의 벤치마크에서 인간의 성과를 달성했습니다. 이러한 5가지 혁신은 인간이 학습하고 이해하는 방식에 더 가까운 다감각적이고 다국어 학습을 달성하기 위한 AI 기능의 도약을 이루고자 하는 원대한 열망에 대한 강력한 신호를 제공했습니다. 저는 다운스트림 AI 작업에서 외부 기술 자료를 기반으로 한 경우에는 공동 XYZ- 코드가 이러한 열망의 기본 구성 요소라고 생각합니다\"\n",
    "text3 = test.get(\"eng_to_kor\")\n",
    "# 2. summarize (like, pre-computation)\n",
    "lexrank.summarize(text3)\n",
    "\n",
    "# 3. probe (like, query-time)\n",
    "summaries: List[str] = lexrank.probe()\n",
    "for summary in summaries:\n",
    "    print(summary)"
   ]
  },
  {
   "attachments": {},
   "cell_type": "markdown",
   "metadata": {},
   "source": [
    "https://github.com/jinnyfruit/NLP_Summarization"
   ]
  }
 ],
 "metadata": {
  "kernelspec": {
   "display_name": "Python 3.10.4 ('jiwoo')",
   "language": "python",
   "name": "python3"
  },
  "language_info": {
   "codemirror_mode": {
    "name": "ipython",
    "version": 3
   },
   "file_extension": ".py",
   "mimetype": "text/x-python",
   "name": "python",
   "nbconvert_exporter": "python",
   "pygments_lexer": "ipython3",
   "version": "3.10.4 (main, Mar 31 2022, 08:41:55) [GCC 7.5.0]"
  },
  "orig_nbformat": 4,
  "vscode": {
   "interpreter": {
    "hash": "a9950ac177dc6022207e24da58b78c1c79b57128f1efd0f07d71daa259b80040"
   }
  }
 },
 "nbformat": 4,
 "nbformat_minor": 2
}
